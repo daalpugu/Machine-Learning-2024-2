{
  "cells": [
    {
      "cell_type": "markdown",
      "metadata": {
        "id": "utKHfKKCdJOz"
      },
      "source": [
        "![image info](https://raw.githubusercontent.com/albahnsen/MIAD_ML_and_NLP/main/images/banner_1.png)"
      ]
<<<<<<< Updated upstream
    },
    {
      "cell_type": "markdown",
      "metadata": {
        "id": "Awu77CaEdJO2"
      },
      "source": [
        "# Taller: Tokenización de textos  \n",
        "\n",
        "En este taller podrán poner en práctica sus conocimientos sobre preprocesamiento de texto (tokenización). El taller está constituido por 5 puntos, en los cuales deberan seguir las intrucciones de cada numeral para su desarrollo."
      ]
    },
=======
     },
     "execution_count": 3,
     "metadata": {},
     "output_type": "execute_result"
    }
   ],
   "source": [
    "# Carga de datos de archivos .csv\n",
    "df = pd.read_csv('https://raw.githubusercontent.com/albahnsen/MIAD_ML_and_NLP/main/datasets/Toxicity.zip')\n",
    "df = df[['id','comment_text', 'target']]\n",
    "df.head()"
   ]
  },
  {
   "cell_type": "code",
   "execution_count": 4,
   "metadata": {},
   "outputs": [
    {
     "data": {
      "text/plain": [
       "(541462, 3)"
      ]
     },
     "execution_count": 4,
     "metadata": {},
     "output_type": "execute_result"
    }
   ],
   "source": [
    "df.shape"
   ]
  },
  {
   "cell_type": "code",
   "execution_count": 5,
   "metadata": {},
   "outputs": [
    {
     "data": {
      "text/plain": [
       "<Axes: >"
      ]
     },
     "execution_count": 5,
     "metadata": {},
     "output_type": "execute_result"
    },
    {
     "data": {
      "image/png": "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",
      "text/plain": [
       "<Figure size 640x480 with 1 Axes>"
      ]
     },
     "metadata": {},
     "output_type": "display_data"
    }
   ],
   "source": [
    "# Impresión histograma de variable de interés (y)\n",
    "df.target.hist()"
   ]
  },
  {
   "cell_type": "code",
   "execution_count": 6,
   "metadata": {},
   "outputs": [
>>>>>>> Stashed changes
    {
      "cell_type": "markdown",
      "metadata": {
        "id": "JLgVT08udJO2"
      },
      "source": [
        "## Datos detección de toxicidad en comentarios\n",
        "\n",
        "En este taller se usará el conjunto de datos de detección de toxicidad en comentarios de la base de datos de Kaggle. Cada observación es un comentario que tiene como variable objetivo (target) la probabilidad de ser un comentario tóxico. El objetivo es predecir la toxicidad de cada comentario. Para más detalles pueden visitar el siguiente enlace: [datos](https://www.kaggle.com/c/jigsaw-unintended-bias-in-toxicity-classification/data)."
      ]
<<<<<<< Updated upstream
    },
    {
      "cell_type": "code",
      "execution_count": null,
      "metadata": {
        "id": "Zi9nkcrtdJO3"
      },
      "outputs": [],
      "source": [
        "import warnings\n",
        "warnings.filterwarnings('ignore')"
      ]
    },
    {
      "cell_type": "code",
      "execution_count": null,
      "metadata": {
        "id": "PZxP97CCdJO4"
      },
      "outputs": [],
      "source": [
        "# Importación librerías\n",
        "import pandas as pd\n",
        "import numpy as np\n",
        "import scipy as sp\n",
        "import matplotlib.pyplot as plt\n",
        "from sklearn.model_selection import train_test_split, cross_val_score\n",
        "from sklearn.feature_extraction.text import CountVectorizer, TfidfVectorizer\n",
        "from sklearn import metrics\n",
        "from xgboost import XGBRegressor\n",
        "%matplotlib inline"
      ]
    },
    {
      "cell_type": "code",
      "execution_count": null,
      "metadata": {
        "colab": {
          "base_uri": "https://localhost:8080/",
          "height": 206
        },
        "id": "HpHA69VHdJO4",
        "outputId": "c5092354-265e-45c3-c31d-5e92bad8a4a0"
      },
      "outputs": [
        {
          "data": {
            "text/html": [
              "<div>\n",
              "<style scoped>\n",
              "    .dataframe tbody tr th:only-of-type {\n",
              "        vertical-align: middle;\n",
              "    }\n",
              "\n",
              "    .dataframe tbody tr th {\n",
              "        vertical-align: top;\n",
              "    }\n",
              "\n",
              "    .dataframe thead th {\n",
              "        text-align: right;\n",
              "    }\n",
              "</style>\n",
              "<table border=\"1\" class=\"dataframe\">\n",
              "  <thead>\n",
              "    <tr style=\"text-align: right;\">\n",
              "      <th></th>\n",
              "      <th>id</th>\n",
              "      <th>comment_text</th>\n",
              "      <th>target</th>\n",
              "    </tr>\n",
              "  </thead>\n",
              "  <tbody>\n",
              "    <tr>\n",
              "      <th>0</th>\n",
              "      <td>6101457</td>\n",
              "      <td>What are you talking about? What group do Pete...</td>\n",
              "      <td>0.0</td>\n",
              "    </tr>\n",
              "    <tr>\n",
              "      <th>1</th>\n",
              "      <td>5342103</td>\n",
              "      <td>NO!, Let him, we need a Conservative government.</td>\n",
              "      <td>0.0</td>\n",
              "    </tr>\n",
              "    <tr>\n",
              "      <th>2</th>\n",
              "      <td>743361</td>\n",
              "      <td>Perhaps he took the \"power out of the Cardinal...</td>\n",
              "      <td>0.2</td>\n",
              "    </tr>\n",
              "    <tr>\n",
              "      <th>3</th>\n",
              "      <td>551008</td>\n",
              "      <td>As always, yours is dripping with sarcasm, whi...</td>\n",
              "      <td>0.0</td>\n",
              "    </tr>\n",
              "    <tr>\n",
              "      <th>4</th>\n",
              "      <td>865998</td>\n",
              "      <td>The dirty little secret is that the price rang...</td>\n",
              "      <td>0.3</td>\n",
              "    </tr>\n",
              "  </tbody>\n",
              "</table>\n",
              "</div>"
            ],
            "text/plain": [
              "        id                                       comment_text  target\n",
              "0  6101457  What are you talking about? What group do Pete...     0.0\n",
              "1  5342103   NO!, Let him, we need a Conservative government.     0.0\n",
              "2   743361  Perhaps he took the \"power out of the Cardinal...     0.2\n",
              "3   551008  As always, yours is dripping with sarcasm, whi...     0.0\n",
              "4   865998  The dirty little secret is that the price rang...     0.3"
            ]
          },
          "execution_count": 3,
          "metadata": {},
          "output_type": "execute_result"
        }
      ],
      "source": [
        "# Carga de datos de archivos .csv\n",
        "df = pd.read_csv('https://raw.githubusercontent.com/albahnsen/MIAD_ML_and_NLP/main/datasets/Toxicity.zip')\n",
        "df = df[['id','comment_text', 'target']]\n",
        "df.head()"
      ]
    },
    {
      "cell_type": "code",
      "execution_count": null,
      "metadata": {
        "colab": {
          "base_uri": "https://localhost:8080/"
        },
        "id": "IwEzjjogdJO5",
        "outputId": "fc8125a2-3558-425d-ed9c-e5f551019484"
      },
      "outputs": [
        {
          "data": {
            "text/plain": [
              "(541462, 3)"
            ]
          },
          "execution_count": 4,
          "metadata": {},
          "output_type": "execute_result"
        }
      ],
      "source": [
        "df.shape"
      ]
    },
    {
      "cell_type": "code",
      "execution_count": null,
      "metadata": {
        "colab": {
          "base_uri": "https://localhost:8080/",
          "height": 447
        },
        "id": "08cwaXEMdJO5",
        "outputId": "077b4e3b-b9a0-4c91-dd8e-9484f265898a"
      },
      "outputs": [
        {
          "data": {
            "text/plain": [
              "<Axes: >"
            ]
          },
          "execution_count": 5,
          "metadata": {},
          "output_type": "execute_result"
        },
        {
          "data": {
            "image/png": "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",
            "text/plain": [
              "<Figure size 640x480 with 1 Axes>"
            ]
          },
          "metadata": {},
          "output_type": "display_data"
        }
      ],
      "source": [
        "# Impresión histograma de variable de interés (y)\n",
        "df.target.hist()"
      ]
    },
    {
      "cell_type": "code",
      "execution_count": null,
      "metadata": {
        "colab": {
          "base_uri": "https://localhost:8080/"
        },
        "id": "W0gHOUOVdJO5",
        "outputId": "a0fdc0ae-5a79-443c-a2e2-8acad71a72c3"
      },
      "outputs": [
        {
          "data": {
            "text/plain": [
              "count    541462.000000\n",
              "mean          0.102991\n",
              "std           0.196979\n",
              "min           0.000000\n",
              "25%           0.000000\n",
              "50%           0.000000\n",
              "75%           0.166667\n",
              "max           1.000000\n",
              "Name: target, dtype: float64"
            ]
          },
          "execution_count": 6,
          "metadata": {},
          "output_type": "execute_result"
        }
      ],
      "source": [
        "# Separación de variable de interés (y)\n",
        "y = df.target\n",
        "y.describe()"
      ]
    },
    {
      "cell_type": "code",
      "execution_count": null,
      "metadata": {
        "id": "FwSJ04KodJO5"
      },
      "outputs": [],
      "source": [
        "# Separación de variables predictoras (X), solo se considera el texto de la noticia\n",
        "X = df.comment_text"
      ]
    },
    {
      "cell_type": "code",
      "execution_count": null,
      "metadata": {
        "id": "Czn_Io0WdJO6"
      },
      "outputs": [],
      "source": [
        "# Separación de datos en set de entrenamiento y test\n",
        "X_train, X_test, y_train, y_test = train_test_split(X, y, test_size=0.33, random_state=42)"
      ]
    },
    {
      "cell_type": "markdown",
      "metadata": {
        "id": "maKjRXItdJO6"
      },
      "source": [
        "## Punto 1 - Tokenización con CountVectorizer\n",
        "\n",
        "En la celda 1 creen y entrenen el modelo de regresión de su preferencia, para que prediga la probabilidad de que un comentario sea tóxico, usando los set de entrenamiento y test definidos anteriormente. Usen la función **CountVectorizer** para preprocesar los comentarios y presenten el desempeño del modelo con la métrica del MSE.\n",
        "\n",
        "Recuerden que el preprocesamiento que se haga sobre los datos de entrenamiento  (*.fit_transform()*) deben ser aplicado al set de test (*.transform()*)."
      ]
    },
    {
      "cell_type": "code",
      "execution_count": null,
      "metadata": {
        "colab": {
          "base_uri": "https://localhost:8080/",
          "height": 211
        },
        "id": "vE8cX_w1dJO6",
        "outputId": "0b8745df-8aaf-4d5a-aae6-f3d49aace1d5"
      },
      "outputs": [
        {
          "name": "stdout",
          "output_type": "stream",
          "text": [
            "Desempeño del modelo con MSE utilizando XGBoost: 0.020689791583810714\n"
          ]
        }
      ],
      "source": [
        "# Celda 1\n",
        "\n",
        "# Paso 1: Preprocesamiento de los comentarios de texto utilizando CountVectorizer\n",
        "vectorizer = CountVectorizer()\n",
        "X_train_counts = vectorizer.fit_transform(X_train)\n",
        "X_test_counts = vectorizer.transform(X_test)\n",
        "\n",
        "# Paso 2: Entrenamiento del modelo de regresión XGBOOST\n",
        "xgb_regressor = XGBRegressor(random_state = 10)\n",
        "xgb_regressor.fit(X_train_counts, y_train)\n",
        "\n",
        "# Paso 3: Evaluación del modelo\n",
        "y_pred_test = xgb_regressor.predict(X_test_counts)\n",
        "\n",
        "mse_test_count = metrics.mean_squared_error(y_pred_test, y_test.values)\n",
        "\n",
        "print(\"Desempeño del modelo con MSE utilizando XGBoost:\", mse_test_count)"
      ]
    },
    {
      "cell_type": "markdown",
      "metadata": {
        "id": "Hs--v6rRdJO6"
      },
      "source": [
        "## Punto 2 - Tokenización con CountVectorizer y trigramas\n",
        "\n",
        "En la celda 2 creen y entrenen el mismo modelo de regresión del punto anterior (es decir si usaron un RandomForestRegresor usen nuevamente ese regresor), para que prediga la probabilidad de que un comentario sea tóxico, usando los set de entrenamiento y test definidos anteriormente. Usen la función CountVectorizer **considerando trigramas** para preprocesar los comentarios y presenten el desempeño del modelo con la métrica del MSE.\n",
        "\n",
        "Recuerden que el preprocesamiento que se haga sobre los datos de entrenamiento  (*.fit_transform()*) deben ser aplicado al set de test (*.transform()*)."
      ]
    },
    {
      "cell_type": "code",
      "execution_count": null,
      "metadata": {
        "id": "BGu_QCXDdJO7",
        "outputId": "68305de4-a7e8-41b5-c338-df78ab1c1255"
      },
      "outputs": [
        {
          "name": "stdout",
          "output_type": "stream",
          "text": [
            "Desempeño del modelo con MSE utilizando XGBoost: 0.036638869904255585\n"
          ]
        }
      ],
      "source": [
        "# Celda 2\n",
        "\n",
        "# Paso 1: Preprocesamiento de los comentarios de texto utilizando CountVectorizer\n",
        "vectorizer_trigrama = CountVectorizer(ngram_range=(3, 3))\n",
        "X_train_counts_tri = vectorizer_trigrama.fit_transform(X_train)\n",
        "X_test_counts_tri = vectorizer_trigrama.transform(X_test)\n",
        "\n",
        "# Paso 2: Entrenamiento del modelo de regresión XGBOOST\n",
        "xgb_regressor_tri = XGBRegressor(random_state = 10)\n",
        "xgb_regressor_tri.fit(X_train_counts_tri, y_train)\n",
        "\n",
        "# Paso 3: Evaluación del modelo\n",
        "y_pred_test_tri = xgb_regressor_tri.predict(X_test_counts_tri)\n",
        "\n",
        "mse_test_count_tri = metrics.mean_squared_error(y_pred_test_tri, y_test.values)\n",
        "\n",
        "print(\"Desempeño del modelo con MSE utilizando XGBoost:\", mse_test_count_tri)"
      ]
    },
    {
      "cell_type": "markdown",
      "metadata": {
        "id": "FVR6KM-TdJO7"
      },
      "source": [
        "## Punto 3 - TfidfVectorizer\n",
        "\n",
        "Investigen sobre la función TfidfVectorizer. En la celda de texto 3, expliquen en qué consiste esta técnica de tokenización (describanla y expliquen su funcionamiento) y cúales son las ventajas o deventajas de su uso al compararlo con la función CountVectorizer."
      ]
    },
    {
      "cell_type": "markdown",
      "source": [
        "#Celda 3\n",
        "**Función TfidfVectorizer**\n",
        "\n",
        "En grandes cuerpos de texto, algunas palabras pueden aparecer muchas veces (por ejemplo: \"el\", \"la\", \"los\", \"un\", \"una\", etc), las cuales usualmente aportan poca significación al documento, pero por su frecuencia pueden eclipsar palabras no tan comunes que sí aportan información del contenido del texto al momento de entrenar un modelo de machine learning usando procesos de tokenización y conteo hechos con ***CountVectorizer*** para la definición de las variables predictoras.\n",
        "\n",
        "La transformación Tf-idf es una técnica común para ponderar el conteo de cada termino dentro de la vectorización.  TF significa Frecuencia de la palabra (Term-frequency en inglés) multiplicado por IDF, el inverso de la frecuencia del documento (inverse document-frequency en inglés). Usando los valores por defecto en la función *TfidfTransformer* de la biblioteca scikit-learn, se calcula IDF con la siguiente ecuación:\n",
        "\n",
        "idf(t) = log ((1+n)/1+df(t)) + 1\n",
        "\n",
        "En donde *n* es el número total de documentos en la muestra y *df(t)* es el número de documentos de esta muestra que contienen el término *t*.  Finalmente, los vectores resultantes son normalizados por la norma Euclidiana.\n",
        "\n",
        "Frente a ***CountVectorizer***, la principal ventaja de ***TfidfVectorizer*** es que permite realizar términos importantes en el contenido y significado del texto que tienen poca frecuencia de aparición y su principal desventaja es el tiempo de procesamiento mayor, debido al cálculo de las ponderaciones de los términos."
      ],
      "metadata": {
        "id": "EXLSIkJaLvr2"
      }
    },
    {
      "cell_type": "markdown",
      "metadata": {
        "id": "QWqlICDUdJO7"
      },
      "source": [
        "## Punto 4 - Tokenización con TfidfVectorizer\n",
        "\n",
        "En la celda 4 creen y entrenen el mismo modelo de regresión del primer punto, para que prediga la probabilidad de que un comentario sea tóxico, usando los set de entrenamiento y test definidos anteriormente. Procesen los comentarios con la función **TfidfVectorizer** y presenten el desempeño del modelo con la métrica del MSE.\n",
        "\n",
        "Recuerden que el preprocesamiento que se haga sobre los datos de entrenamiento  (*.fit_transform()*) deben ser aplicado al set de test (*.transform()*)."
      ]
    },
    {
      "cell_type": "code",
      "execution_count": null,
      "metadata": {
        "id": "6PXgx5VvdJO7",
        "outputId": "be077653-d1f2-46f5-cc2f-d455ad725bf9",
        "colab": {
          "base_uri": "https://localhost:8080/"
        }
      },
      "outputs": [
        {
          "output_type": "stream",
          "name": "stdout",
          "text": [
            "Desempeño del modelo con MSE utilizando XGBoost y TfidfVectorizer: 0.020335956149285114\n"
          ]
        }
      ],
      "source": [
        "# Celda 4\n",
        "\n",
        "# Paso 1: Preprocesamiento de los comentarios de texto utilizando TfidfVectorizer\n",
        "vectorizer_tfid = TfidfVectorizer()\n",
        "X_train_tfidf = vectorizer_tfid.fit_transform(X_train)\n",
        "X_test_tfidf = vectorizer_tfid.transform(X_test)\n",
        "\n",
        "# Paso 2: Entrenamiento del modelo de regresión XGBOOST\n",
        "xgb_regressor_tfid = XGBRegressor(random_state = 10)\n",
        "xgb_regressor_tfid.fit(X_train_tfidf, y_train)\n",
        "\n",
        "# Paso 3: Evaluación del modelo\n",
        "y_pred_test_tfid = xgb_regressor_tfid.predict(X_test_tfidf)\n",
        "\n",
        "mse_test_count_tfid = metrics.mean_squared_error(y_pred_test_tfid, y_test.values)\n",
        "\n",
        "print(\"Desempeño del modelo con MSE utilizando XGBoost y TfidfVectorizer:\", mse_test_count_tfid)"
      ]
    },
    {
      "cell_type": "markdown",
      "metadata": {
        "id": "mpajpoUqdJO8"
      },
      "source": [
        "## Punto 5 - Comparación y análisis de resultados\n",
        "\n",
        "En la celda 5 comparen los resultados obtenidos de los diferentes modelos y comenten cómo el preprocesamiento de texto afecta el desempeño."
      ]
    },
    {
      "cell_type": "code",
      "execution_count": null,
      "metadata": {
        "id": "SUkap7KHdJO8",
        "outputId": "50df4d40-1235-45c9-b2eb-a1cc36ef12f3"
      },
      "outputs": [
        {
          "data": {
            "image/png": "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",
            "text/plain": [
              "<Figure size 640x480 with 1 Axes>"
            ]
          },
          "metadata": {},
          "output_type": "display_data"
        }
      ],
      "source": [
        "# Celda 5\n",
        "fig = plt.figure()\n",
        "ax = fig.add_axes([0,0,1,1])\n",
        "ax.set_title(\"Comparación de Modelos XGBoost - MSE\")\n",
        "ejeX = ['CountVectorizer','CountVectorizer Trigramas', 'TfidfVectorizer']\n",
        "ejeY = [round(mse_test_count,3), round(mse_test_count_tri,3), round(mse_test_count_tfid,3)]\n",
        "ax.bar(ejeX,ejeY)\n",
        "def addlabels(x,y,plotP):\n",
        "    for i in range(len(x)):\n",
        "        plotP.text(i,y[i],y[i], ha='center', va='bottom', fontsize=10)\n",
        "addlabels(ejeX,ejeY,plt)\n",
        "plt.xticks(rotation=45, fontsize=12, ha='right')\n",
        "plt.show()\n"
      ]
    },
    {
      "cell_type": "markdown",
      "source": [
        "CONCLUSIONES: Después de evaluar los MSE obtenidos para cada uno de los métodos implementados, se observa que el preprocesamiento de texto repercute significativamente en el desempeño del modelo de regresión elegido, XGBoost. Entre las técnicas impementadas se destaca el uso de TfidfVectorizer con el mejor MSE de 0.02033. Este método permite, además de contar la frecuencia de cada palabras, asignar un peso a cada una de estas, basado en su frecuencia en el texto, aumentando de esta manera el peso a las palabras más distintivas y reduciéndolo en aquellas que no son relevantes.\n",
        "\n",
        "Se destaca que, si bien el método de CountVectorizer junto con la inclusión de trigramas implica un costo computacional considerable, no necesariamente se traduce en la mejor predicción. Aunque esta combinación puede ser útil en ciertos contextos, en este caso el resultado obtenido no supera al de otras técnicas más eficientes, como el TfidfVectorizer, como se muestra en la gráfica anterior [MSE CountVectorizer Trigamas = 0.0366]."
      ],
      "metadata": {
        "id": "Cx5qiKHzgcZb"
      }
    },
    {
      "cell_type": "code",
      "source": [],
      "metadata": {
        "id": "cHlwRZkFgfhK"
      },
      "execution_count": null,
      "outputs": []
=======
     },
     "execution_count": 6,
     "metadata": {},
     "output_type": "execute_result"
>>>>>>> Stashed changes
    }
  ],
  "metadata": {
    "colab": {
      "provenance": []
    },
    "kernelspec": {
      "display_name": "Python 3 (ipykernel)",
      "language": "python",
      "name": "python3"
    },
    "language_info": {
      "codemirror_mode": {
        "name": "ipython",
        "version": 3
      },
      "file_extension": ".py",
      "mimetype": "text/x-python",
      "name": "python",
      "nbconvert_exporter": "python",
      "pygments_lexer": "ipython3",
      "version": "3.11.7"
    },
    "name": "_merged"
  },
<<<<<<< Updated upstream
  "nbformat": 4,
  "nbformat_minor": 0
}
=======
  {
   "cell_type": "code",
   "execution_count": 7,
   "metadata": {},
   "outputs": [],
   "source": [
    "# Separación de variables predictoras (X), solo se considera el texto de la noticia\n",
    "X = df.comment_text"
   ]
  },
  {
   "cell_type": "code",
   "execution_count": 8,
   "metadata": {},
   "outputs": [],
   "source": [
    "# Separación de datos en set de entrenamiento y test\n",
    "X_train, X_test, y_train, y_test = train_test_split(X, y, test_size=0.33, random_state=42)"
   ]
  },
  {
   "cell_type": "markdown",
   "metadata": {},
   "source": [
    "## Punto 1 - Tokenización con CountVectorizer\n",
    "\n",
    "En la celda 1 creen y entrenen el modelo de regresión de su preferencia, para que prediga la probabilidad de que un comentario sea tóxico, usando los set de entrenamiento y test definidos anteriormente. Usen la función **CountVectorizer** para preprocesar los comentarios y presenten el desempeño del modelo con la métrica del MSE.\n",
    "\n",
    "Recuerden que el preprocesamiento que se haga sobre los datos de entrenamiento  (*.fit_transform()*) deben ser aplicado al set de test (*.transform()*)."
   ]
  },
  {
   "cell_type": "code",
   "execution_count": 9,
   "metadata": {},
   "outputs": [
    {
     "name": "stdout",
     "output_type": "stream",
     "text": [
      "Desempeño del modelo con MSE utilizando Lasso:\n",
      "MSE en el conjunto de entrenamiento: 0.03868599329541478\n",
      "MSE en el conjunto de prueba: 0.03903365870182593\n"
     ]
    }
   ],
   "source": [
    "# Celda 1\n",
    "from sklearn.feature_extraction.text import CountVectorizer\n",
    "from sklearn.linear_model import Lasso\n",
    "from sklearn.metrics import mean_squared_error\n",
    "\n",
    "# Paso 1: Preprocesamiento de los comentarios de texto utilizando CountVectorizer\n",
    "vectorizer = CountVectorizer()\n",
    "X_train_counts = vectorizer.fit_transform(X_train)\n",
    "X_test_counts = vectorizer.transform(X_test)\n",
    "\n",
    "# Paso 2: Entrenamiento del modelo de regresión Lasso\n",
    "modelo_lasso = Lasso()\n",
    "modelo_lasso.fit(X_train_counts, y_train)\n",
    "\n",
    "# Paso 3: Evaluación del modelo\n",
    "y_pred_train = modelo_lasso.predict(X_train_counts)\n",
    "y_pred_test = modelo_lasso.predict(X_test_counts)\n",
    "\n",
    "mse_train_count = mean_squared_error(y_train, y_pred_train)\n",
    "mse_test_count = mean_squared_error(y_test, y_pred_test)\n",
    "\n",
    "print(\"Desempeño del modelo con MSE utilizando Lasso:\")\n",
    "print(\"MSE en el conjunto de entrenamiento:\", mse_train_count)\n",
    "print(\"MSE en el conjunto de prueba:\", mse_test_count)\n",
    "\n"
   ]
  },
  {
   "cell_type": "markdown",
   "metadata": {},
   "source": [
    "## Punto 2 - Tokenización con CountVectorizer y trigramas\n",
    "\n",
    "En la celda 2 creen y entrenen el mismo modelo de regresión del punto anterior (es decir si usaron un RandomForestRegresor usen nuevamente ese regresor), para que prediga la probabilidad de que un comentario sea tóxico, usando los set de entrenamiento y test definidos anteriormente. Usen la función CountVectorizer **considerando trigramas** para preprocesar los comentarios y presenten el desempeño del modelo con la métrica del MSE.\n",
    "\n",
    "Recuerden que el preprocesamiento que se haga sobre los datos de entrenamiento  (*.fit_transform()*) deben ser aplicado al set de test (*.transform()*)."
   ]
  },
  {
   "cell_type": "code",
   "execution_count": null,
   "metadata": {},
   "outputs": [],
   "source": [
    "# Celda 2\n",
    "from sklearn.feature_extraction.text import CountVectorizer\n",
    "from sklearn.linear_model import Lasso\n",
    "from sklearn.metrics import mean_squared_error\n",
    "\n",
    "# Paso 1: Preprocesamiento de los comentarios de texto utilizando CountVectorizer\n",
    "vectorizer = CountVectorizer(ngram_range=(1, 3))\n",
    "X_train_counts = vectorizer.fit_transform(X_train)\n",
    "X_test_counts = vectorizer.transform(X_test)\n",
    "\n",
    "# Paso 2: Entrenamiento del modelo de regresión Lasso\n",
    "modelo_lasso = Lasso()\n",
    "modelo_lasso.fit(X_train_counts, y_train)\n",
    "\n",
    "# Paso 3: Evaluación del modelo\n",
    "y_pred_train = modelo_lasso.predict(X_train_counts)\n",
    "y_pred_test = modelo_lasso.predict(X_test_counts)\n",
    "\n",
    "mse_train_count1 = mean_squared_error(y_train, y_pred_train)\n",
    "mse_test_count1 = mean_squared_error(y_test, y_pred_test)\n",
    "\n",
    "print(\"Desempeño del modelo con MSE utilizando Lasso:\")\n",
    "print(\"MSE en el conjunto de entrenamiento:\", mse_train_count1)\n",
    "print(\"MSE en el conjunto de prueba:\", mse_test_count1)\n"
   ]
  },
  {
   "cell_type": "markdown",
   "metadata": {},
   "source": [
    "## Punto 3 - TfidfVectorizer\n",
    "\n",
    "Investigen sobre la función TfidfVectorizer. En la celda de texto 3, expliquen en qué consiste esta técnica de tokenización (describanla y expliquen su funcionamiento) y cúales son las ventajas o deventajas de su uso al compararlo con la función CountVectorizer."
   ]
  },
  {
   "cell_type": "code",
   "execution_count": null,
   "metadata": {},
   "outputs": [],
   "source": [
    "#Celda 3\n"
   ]
  },
  {
   "cell_type": "markdown",
   "metadata": {},
   "source": [
    "## Punto 4 - Tokenización con TfidfVectorizer\n",
    "\n",
    "En la celda 4 creen y entrenen el mismo modelo de regresión del primer punto, para que prediga la probabilidad de que un comentario sea tóxico, usando los set de entrenamiento y test definidos anteriormente. Procesen los comentarios con la función **TfidfVectorizer** y presenten el desempeño del modelo con la métrica del MSE.\n",
    "\n",
    "Recuerden que el preprocesamiento que se haga sobre los datos de entrenamiento  (*.fit_transform()*) deben ser aplicado al set de test (*.transform()*)."
   ]
  },
  {
   "cell_type": "code",
   "execution_count": null,
   "metadata": {},
   "outputs": [],
   "source": [
    "# Celda 4\n",
    "from sklearn.feature_extraction.text import TfidfVectorizer\n",
    "from sklearn.linear_model import Lasso\n",
    "from sklearn.metrics import mean_squared_error\n",
    "\n",
    "# Paso 1: Preprocesamiento de los comentarios de texto utilizando TfidfVectorizer\n",
    "vectorizer = TfidfVectorizer()\n",
    "X_train_tfidf = vectorizer.fit_transform(X_train)  # Ajustar y transformar en el conjunto de entrenamiento\n",
    "X_test_tfidf = vectorizer.transform(X_test)        # Transformar en el conjunto de prueba usando el ajuste del conjunto de entrenamiento\n",
    "\n",
    "# Paso 2: Entrenamiento del modelo de regresión Lasso\n",
    "modelo_lasso = Lasso()\n",
    "modelo_lasso.fit(X_train_tfidf, y_train)\n",
    "\n",
    "# Paso 3: Evaluación del modelo\n",
    "y_pred_train = modelo_lasso.predict(X_train_tfidf)\n",
    "y_pred_test = modelo_lasso.predict(X_test_tfidf)\n",
    "\n",
    "mse_train_tfid = mean_squared_error(y_train, y_pred_train)\n",
    "mse_test_tfid = mean_squared_error(y_test, y_pred_test)\n",
    "\n",
    "print(\"Desempeño del modelo con MSE utilizando TfidfVectorizer y Lasso Regression:\")\n",
    "print(\"MSE en el conjunto de entrenamiento:\", mse_train_tfid)\n",
    "print(\"MSE en el conjunto de prueba:\", mse_test_tfid)\n"
   ]
  },
  {
   "cell_type": "markdown",
   "metadata": {},
   "source": [
    "## Punto 5 - Comparación y análisis de resultados\n",
    "\n",
    "En la celda 5 comparen los resultados obtenidos de los diferentes modelos y comenten cómo el preprocesamiento de texto afecta el desempeño."
   ]
  },
  {
   "cell_type": "code",
   "execution_count": null,
   "metadata": {},
   "outputs": [],
   "source": [
    "# Celda 5\n",
    "import matplotlib.pyplot as plt\n",
    "\n",
    "# MSE de cada modelo\n",
    "mse_train_count = [mse_train_count_vectorizer, mse_train_tfidf_vectorizer]\n",
    "mse_test_count = [mse_test_count_vectorizer, mse_test_tfidf_vectorizer]\n",
    "\n",
    "# Etiquetas de los modelos\n",
    "model_labels = ['CountVectorizer', 'TfidfVectorizer']\n",
    "\n",
    "# Graficar\n",
    "plt.figure(figsize=(10, 6))\n",
    "plt.bar(model_labels, mse_train_count, color='b', alpha=0.5, label='Train MSE')\n",
    "plt.bar(model_labels, mse_test_count, color='r', alpha=0.5, label='Test MSE')\n",
    "plt.xlabel('Modelos')\n",
    "plt.ylabel('MSE')\n",
    "plt.title('Comparación del desempeño de los modelos')\n",
    "plt.legend()\n",
    "plt.show()\n"
   ]
  },
  {
   "cell_type": "code",
   "execution_count": null,
   "metadata": {},
   "outputs": [],
   "source": []
  }
 ],
 "metadata": {
  "kernelspec": {
   "display_name": "Python 3 (ipykernel)",
   "language": "python",
   "name": "python3"
  },
  "language_info": {
   "codemirror_mode": {
    "name": "ipython",
    "version": 3
   },
   "file_extension": ".py",
   "mimetype": "text/x-python",
   "name": "python",
   "nbconvert_exporter": "python",
   "pygments_lexer": "ipython3",
   "version": "3.11.5"
  },
  "name": "_merged"
 },
 "nbformat": 4,
 "nbformat_minor": 4
}
>>>>>>> Stashed changes
