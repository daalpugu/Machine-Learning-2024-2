{
  "cells": [
    {
      "cell_type": "markdown",
      "metadata": {
        "id": "KV8oS_GUQN7c"
      },
      "source": [
        "![image info](https://raw.githubusercontent.com/albahnsen/MIAD_ML_and_NLP/main/images/banner_1.png)"
      ]
    },
    {
      "cell_type": "markdown",
      "metadata": {
        "id": "FvcU1fPfQN7g"
      },
      "source": [
        "# Taller: Construcción e implementación de modelos Bagging, Random Forest y XGBoost\n",
        "\n",
        "En este taller podrán poner en práctica sus conocimientos sobre la construcción e implementación de modelos de Bagging, Random Forest y XGBoost. El taller está constituido por 8 puntos, en los cuales deberan seguir las intrucciones de cada numeral para su desarrollo."
      ]
    },
    {
      "cell_type": "markdown",
      "metadata": {
        "id": "19Vsx7yLQN7h"
      },
      "source": [
        "## Datos predicción precio de automóviles\n",
        "\n",
        "En este taller se usará el conjunto de datos de Car Listings de Kaggle donde cada observación representa el precio de un automóvil teniendo en cuenta distintas variables como año, marca, modelo, entre otras. El objetivo es predecir el precio del automóvil. Para más detalles puede visitar el siguiente enlace: [datos](https://www.kaggle.com/jpayne/852k-used-car-listings)."
      ]
    },
    {
      "cell_type": "code",
      "execution_count": null,
      "metadata": {
        "tags": [],
        "id": "M88xxUj1QN7i"
      },
      "outputs": [],
      "source": [
        "import warnings\n",
        "warnings.filterwarnings('ignore')"
      ]
    },
    {
      "cell_type": "code",
      "source": [
        "# Importación de librerías\n",
        "import pandas as pd\n",
        "import numpy as np\n",
        "import matplotlib.pyplot as plt\n",
        "import sklearn.metrics as metrics\n",
        "from sklearn.ensemble import BaggingRegressor, RandomForestRegressor\n",
        "from sklearn.metrics import mean_squared_error, mean_absolute_error\n",
        "from sklearn.model_selection import cross_val_score\n",
        "from sklearn.tree import DecisionTreeRegressor, export_graphviz\n",
        "from xgboost import XGBRegressor\n",
        "from sklearn.model_selection import GridSearchCV\n",
        "from sklearn.model_selection import RandomizedSearchCV\n",
        "from sklearn.model_selection import cross_val_score"
      ],
      "metadata": {
        "id": "Ve5CXZtk2Mub"
      },
      "execution_count": null,
      "outputs": []
    },
    {
      "cell_type": "code",
      "execution_count": null,
      "metadata": {
        "tags": [],
        "id": "9tQ_veUPQN7j",
        "outputId": "647c61d5-dc20-4480-9948-f39435f39892",
        "colab": {
          "base_uri": "https://localhost:8080/",
          "height": 206
        }
      },
      "outputs": [
        {
          "output_type": "execute_result",
          "data": {
            "text/plain": [
              "     Price  Year  Mileage  M_Camry  M_Camry4dr  M_CamryBase  M_CamryL  \\\n",
              "7    21995  2014     6480    False       False        False      True   \n",
              "11   13995  2014    39972    False       False        False     False   \n",
              "167  17941  2016    18989    False       False        False     False   \n",
              "225  12493  2014    51330    False       False        False      True   \n",
              "270   7994  2007   116065    False        True        False     False   \n",
              "\n",
              "     M_CamryLE  M_CamrySE  M_CamryXLE  \n",
              "7        False      False       False  \n",
              "11        True      False       False  \n",
              "167      False       True       False  \n",
              "225      False      False       False  \n",
              "270      False      False       False  "
            ],
            "text/html": [
              "\n",
              "  <div id=\"df-907dd4b1-5f0e-4859-a927-d858a8bec524\" class=\"colab-df-container\">\n",
              "    <div>\n",
              "<style scoped>\n",
              "    .dataframe tbody tr th:only-of-type {\n",
              "        vertical-align: middle;\n",
              "    }\n",
              "\n",
              "    .dataframe tbody tr th {\n",
              "        vertical-align: top;\n",
              "    }\n",
              "\n",
              "    .dataframe thead th {\n",
              "        text-align: right;\n",
              "    }\n",
              "</style>\n",
              "<table border=\"1\" class=\"dataframe\">\n",
              "  <thead>\n",
              "    <tr style=\"text-align: right;\">\n",
              "      <th></th>\n",
              "      <th>Price</th>\n",
              "      <th>Year</th>\n",
              "      <th>Mileage</th>\n",
              "      <th>M_Camry</th>\n",
              "      <th>M_Camry4dr</th>\n",
              "      <th>M_CamryBase</th>\n",
              "      <th>M_CamryL</th>\n",
              "      <th>M_CamryLE</th>\n",
              "      <th>M_CamrySE</th>\n",
              "      <th>M_CamryXLE</th>\n",
              "    </tr>\n",
              "  </thead>\n",
              "  <tbody>\n",
              "    <tr>\n",
              "      <th>7</th>\n",
              "      <td>21995</td>\n",
              "      <td>2014</td>\n",
              "      <td>6480</td>\n",
              "      <td>False</td>\n",
              "      <td>False</td>\n",
              "      <td>False</td>\n",
              "      <td>True</td>\n",
              "      <td>False</td>\n",
              "      <td>False</td>\n",
              "      <td>False</td>\n",
              "    </tr>\n",
              "    <tr>\n",
              "      <th>11</th>\n",
              "      <td>13995</td>\n",
              "      <td>2014</td>\n",
              "      <td>39972</td>\n",
              "      <td>False</td>\n",
              "      <td>False</td>\n",
              "      <td>False</td>\n",
              "      <td>False</td>\n",
              "      <td>True</td>\n",
              "      <td>False</td>\n",
              "      <td>False</td>\n",
              "    </tr>\n",
              "    <tr>\n",
              "      <th>167</th>\n",
              "      <td>17941</td>\n",
              "      <td>2016</td>\n",
              "      <td>18989</td>\n",
              "      <td>False</td>\n",
              "      <td>False</td>\n",
              "      <td>False</td>\n",
              "      <td>False</td>\n",
              "      <td>False</td>\n",
              "      <td>True</td>\n",
              "      <td>False</td>\n",
              "    </tr>\n",
              "    <tr>\n",
              "      <th>225</th>\n",
              "      <td>12493</td>\n",
              "      <td>2014</td>\n",
              "      <td>51330</td>\n",
              "      <td>False</td>\n",
              "      <td>False</td>\n",
              "      <td>False</td>\n",
              "      <td>True</td>\n",
              "      <td>False</td>\n",
              "      <td>False</td>\n",
              "      <td>False</td>\n",
              "    </tr>\n",
              "    <tr>\n",
              "      <th>270</th>\n",
              "      <td>7994</td>\n",
              "      <td>2007</td>\n",
              "      <td>116065</td>\n",
              "      <td>False</td>\n",
              "      <td>True</td>\n",
              "      <td>False</td>\n",
              "      <td>False</td>\n",
              "      <td>False</td>\n",
              "      <td>False</td>\n",
              "      <td>False</td>\n",
              "    </tr>\n",
              "  </tbody>\n",
              "</table>\n",
              "</div>\n",
              "    <div class=\"colab-df-buttons\">\n",
              "\n",
              "  <div class=\"colab-df-container\">\n",
              "    <button class=\"colab-df-convert\" onclick=\"convertToInteractive('df-907dd4b1-5f0e-4859-a927-d858a8bec524')\"\n",
              "            title=\"Convert this dataframe to an interactive table.\"\n",
              "            style=\"display:none;\">\n",
              "\n",
              "  <svg xmlns=\"http://www.w3.org/2000/svg\" height=\"24px\" viewBox=\"0 -960 960 960\">\n",
              "    <path d=\"M120-120v-720h720v720H120Zm60-500h600v-160H180v160Zm220 220h160v-160H400v160Zm0 220h160v-160H400v160ZM180-400h160v-160H180v160Zm440 0h160v-160H620v160ZM180-180h160v-160H180v160Zm440 0h160v-160H620v160Z\"/>\n",
              "  </svg>\n",
              "    </button>\n",
              "\n",
              "  <style>\n",
              "    .colab-df-container {\n",
              "      display:flex;\n",
              "      gap: 12px;\n",
              "    }\n",
              "\n",
              "    .colab-df-convert {\n",
              "      background-color: #E8F0FE;\n",
              "      border: none;\n",
              "      border-radius: 50%;\n",
              "      cursor: pointer;\n",
              "      display: none;\n",
              "      fill: #1967D2;\n",
              "      height: 32px;\n",
              "      padding: 0 0 0 0;\n",
              "      width: 32px;\n",
              "    }\n",
              "\n",
              "    .colab-df-convert:hover {\n",
              "      background-color: #E2EBFA;\n",
              "      box-shadow: 0px 1px 2px rgba(60, 64, 67, 0.3), 0px 1px 3px 1px rgba(60, 64, 67, 0.15);\n",
              "      fill: #174EA6;\n",
              "    }\n",
              "\n",
              "    .colab-df-buttons div {\n",
              "      margin-bottom: 4px;\n",
              "    }\n",
              "\n",
              "    [theme=dark] .colab-df-convert {\n",
              "      background-color: #3B4455;\n",
              "      fill: #D2E3FC;\n",
              "    }\n",
              "\n",
              "    [theme=dark] .colab-df-convert:hover {\n",
              "      background-color: #434B5C;\n",
              "      box-shadow: 0px 1px 3px 1px rgba(0, 0, 0, 0.15);\n",
              "      filter: drop-shadow(0px 1px 2px rgba(0, 0, 0, 0.3));\n",
              "      fill: #FFFFFF;\n",
              "    }\n",
              "  </style>\n",
              "\n",
              "    <script>\n",
              "      const buttonEl =\n",
              "        document.querySelector('#df-907dd4b1-5f0e-4859-a927-d858a8bec524 button.colab-df-convert');\n",
              "      buttonEl.style.display =\n",
              "        google.colab.kernel.accessAllowed ? 'block' : 'none';\n",
              "\n",
              "      async function convertToInteractive(key) {\n",
              "        const element = document.querySelector('#df-907dd4b1-5f0e-4859-a927-d858a8bec524');\n",
              "        const dataTable =\n",
              "          await google.colab.kernel.invokeFunction('convertToInteractive',\n",
              "                                                    [key], {});\n",
              "        if (!dataTable) return;\n",
              "\n",
              "        const docLinkHtml = 'Like what you see? Visit the ' +\n",
              "          '<a target=\"_blank\" href=https://colab.research.google.com/notebooks/data_table.ipynb>data table notebook</a>'\n",
              "          + ' to learn more about interactive tables.';\n",
              "        element.innerHTML = '';\n",
              "        dataTable['output_type'] = 'display_data';\n",
              "        await google.colab.output.renderOutput(dataTable, element);\n",
              "        const docLink = document.createElement('div');\n",
              "        docLink.innerHTML = docLinkHtml;\n",
              "        element.appendChild(docLink);\n",
              "      }\n",
              "    </script>\n",
              "  </div>\n",
              "\n",
              "\n",
              "<div id=\"df-b960a2e7-eb58-4abe-a6c1-b22994d7c23c\">\n",
              "  <button class=\"colab-df-quickchart\" onclick=\"quickchart('df-b960a2e7-eb58-4abe-a6c1-b22994d7c23c')\"\n",
              "            title=\"Suggest charts\"\n",
              "            style=\"display:none;\">\n",
              "\n",
              "<svg xmlns=\"http://www.w3.org/2000/svg\" height=\"24px\"viewBox=\"0 0 24 24\"\n",
              "     width=\"24px\">\n",
              "    <g>\n",
              "        <path d=\"M19 3H5c-1.1 0-2 .9-2 2v14c0 1.1.9 2 2 2h14c1.1 0 2-.9 2-2V5c0-1.1-.9-2-2-2zM9 17H7v-7h2v7zm4 0h-2V7h2v10zm4 0h-2v-4h2v4z\"/>\n",
              "    </g>\n",
              "</svg>\n",
              "  </button>\n",
              "\n",
              "<style>\n",
              "  .colab-df-quickchart {\n",
              "      --bg-color: #E8F0FE;\n",
              "      --fill-color: #1967D2;\n",
              "      --hover-bg-color: #E2EBFA;\n",
              "      --hover-fill-color: #174EA6;\n",
              "      --disabled-fill-color: #AAA;\n",
              "      --disabled-bg-color: #DDD;\n",
              "  }\n",
              "\n",
              "  [theme=dark] .colab-df-quickchart {\n",
              "      --bg-color: #3B4455;\n",
              "      --fill-color: #D2E3FC;\n",
              "      --hover-bg-color: #434B5C;\n",
              "      --hover-fill-color: #FFFFFF;\n",
              "      --disabled-bg-color: #3B4455;\n",
              "      --disabled-fill-color: #666;\n",
              "  }\n",
              "\n",
              "  .colab-df-quickchart {\n",
              "    background-color: var(--bg-color);\n",
              "    border: none;\n",
              "    border-radius: 50%;\n",
              "    cursor: pointer;\n",
              "    display: none;\n",
              "    fill: var(--fill-color);\n",
              "    height: 32px;\n",
              "    padding: 0;\n",
              "    width: 32px;\n",
              "  }\n",
              "\n",
              "  .colab-df-quickchart:hover {\n",
              "    background-color: var(--hover-bg-color);\n",
              "    box-shadow: 0 1px 2px rgba(60, 64, 67, 0.3), 0 1px 3px 1px rgba(60, 64, 67, 0.15);\n",
              "    fill: var(--button-hover-fill-color);\n",
              "  }\n",
              "\n",
              "  .colab-df-quickchart-complete:disabled,\n",
              "  .colab-df-quickchart-complete:disabled:hover {\n",
              "    background-color: var(--disabled-bg-color);\n",
              "    fill: var(--disabled-fill-color);\n",
              "    box-shadow: none;\n",
              "  }\n",
              "\n",
              "  .colab-df-spinner {\n",
              "    border: 2px solid var(--fill-color);\n",
              "    border-color: transparent;\n",
              "    border-bottom-color: var(--fill-color);\n",
              "    animation:\n",
              "      spin 1s steps(1) infinite;\n",
              "  }\n",
              "\n",
              "  @keyframes spin {\n",
              "    0% {\n",
              "      border-color: transparent;\n",
              "      border-bottom-color: var(--fill-color);\n",
              "      border-left-color: var(--fill-color);\n",
              "    }\n",
              "    20% {\n",
              "      border-color: transparent;\n",
              "      border-left-color: var(--fill-color);\n",
              "      border-top-color: var(--fill-color);\n",
              "    }\n",
              "    30% {\n",
              "      border-color: transparent;\n",
              "      border-left-color: var(--fill-color);\n",
              "      border-top-color: var(--fill-color);\n",
              "      border-right-color: var(--fill-color);\n",
              "    }\n",
              "    40% {\n",
              "      border-color: transparent;\n",
              "      border-right-color: var(--fill-color);\n",
              "      border-top-color: var(--fill-color);\n",
              "    }\n",
              "    60% {\n",
              "      border-color: transparent;\n",
              "      border-right-color: var(--fill-color);\n",
              "    }\n",
              "    80% {\n",
              "      border-color: transparent;\n",
              "      border-right-color: var(--fill-color);\n",
              "      border-bottom-color: var(--fill-color);\n",
              "    }\n",
              "    90% {\n",
              "      border-color: transparent;\n",
              "      border-bottom-color: var(--fill-color);\n",
              "    }\n",
              "  }\n",
              "</style>\n",
              "\n",
              "  <script>\n",
              "    async function quickchart(key) {\n",
              "      const quickchartButtonEl =\n",
              "        document.querySelector('#' + key + ' button');\n",
              "      quickchartButtonEl.disabled = true;  // To prevent multiple clicks.\n",
              "      quickchartButtonEl.classList.add('colab-df-spinner');\n",
              "      try {\n",
              "        const charts = await google.colab.kernel.invokeFunction(\n",
              "            'suggestCharts', [key], {});\n",
              "      } catch (error) {\n",
              "        console.error('Error during call to suggestCharts:', error);\n",
              "      }\n",
              "      quickchartButtonEl.classList.remove('colab-df-spinner');\n",
              "      quickchartButtonEl.classList.add('colab-df-quickchart-complete');\n",
              "    }\n",
              "    (() => {\n",
              "      let quickchartButtonEl =\n",
              "        document.querySelector('#df-b960a2e7-eb58-4abe-a6c1-b22994d7c23c button');\n",
              "      quickchartButtonEl.style.display =\n",
              "        google.colab.kernel.accessAllowed ? 'block' : 'none';\n",
              "    })();\n",
              "  </script>\n",
              "</div>\n",
              "\n",
              "    </div>\n",
              "  </div>\n"
            ],
            "application/vnd.google.colaboratory.intrinsic+json": {
              "type": "dataframe",
              "variable_name": "data",
              "summary": "{\n  \"name\": \"data\",\n  \"rows\": 10495,\n  \"fields\": [\n    {\n      \"column\": \"Price\",\n      \"properties\": {\n        \"dtype\": \"number\",\n        \"std\": 3922,\n        \"min\": 5002,\n        \"max\": 32444,\n        \"num_unique_values\": 3660,\n        \"samples\": [\n          15285,\n          17966,\n          13787\n        ],\n        \"semantic_type\": \"\",\n        \"description\": \"\"\n      }\n    },\n    {\n      \"column\": \"Year\",\n      \"properties\": {\n        \"dtype\": \"number\",\n        \"std\": 3,\n        \"min\": 1998,\n        \"max\": 2018,\n        \"num_unique_values\": 20,\n        \"samples\": [\n          2014,\n          2018,\n          2002\n        ],\n        \"semantic_type\": \"\",\n        \"description\": \"\"\n      }\n    },\n    {\n      \"column\": \"Mileage\",\n      \"properties\": {\n        \"dtype\": \"number\",\n        \"std\": 36791,\n        \"min\": 5,\n        \"max\": 232658,\n        \"num_unique_values\": 9913,\n        \"samples\": [\n          91918,\n          24261,\n          100093\n        ],\n        \"semantic_type\": \"\",\n        \"description\": \"\"\n      }\n    },\n    {\n      \"column\": \"M_Camry\",\n      \"properties\": {\n        \"dtype\": \"boolean\",\n        \"num_unique_values\": 2,\n        \"samples\": [\n          true,\n          false\n        ],\n        \"semantic_type\": \"\",\n        \"description\": \"\"\n      }\n    },\n    {\n      \"column\": \"M_Camry4dr\",\n      \"properties\": {\n        \"dtype\": \"boolean\",\n        \"num_unique_values\": 2,\n        \"samples\": [\n          true,\n          false\n        ],\n        \"semantic_type\": \"\",\n        \"description\": \"\"\n      }\n    },\n    {\n      \"column\": \"M_CamryBase\",\n      \"properties\": {\n        \"dtype\": \"boolean\",\n        \"num_unique_values\": 2,\n        \"samples\": [\n          true,\n          false\n        ],\n        \"semantic_type\": \"\",\n        \"description\": \"\"\n      }\n    },\n    {\n      \"column\": \"M_CamryL\",\n      \"properties\": {\n        \"dtype\": \"boolean\",\n        \"num_unique_values\": 2,\n        \"samples\": [\n          false,\n          true\n        ],\n        \"semantic_type\": \"\",\n        \"description\": \"\"\n      }\n    },\n    {\n      \"column\": \"M_CamryLE\",\n      \"properties\": {\n        \"dtype\": \"boolean\",\n        \"num_unique_values\": 2,\n        \"samples\": [\n          true,\n          false\n        ],\n        \"semantic_type\": \"\",\n        \"description\": \"\"\n      }\n    },\n    {\n      \"column\": \"M_CamrySE\",\n      \"properties\": {\n        \"dtype\": \"boolean\",\n        \"num_unique_values\": 2,\n        \"samples\": [\n          true,\n          false\n        ],\n        \"semantic_type\": \"\",\n        \"description\": \"\"\n      }\n    },\n    {\n      \"column\": \"M_CamryXLE\",\n      \"properties\": {\n        \"dtype\": \"boolean\",\n        \"num_unique_values\": 2,\n        \"samples\": [\n          true,\n          false\n        ],\n        \"semantic_type\": \"\",\n        \"description\": \"\"\n      }\n    }\n  ]\n}"
            }
          },
          "metadata": {},
          "execution_count": 3
        }
      ],
      "source": [
        "# Lectura de la información de archivo .csv\n",
        "data = pd.read_csv('https://raw.githubusercontent.com/albahnsen/MIAD_ML_and_NLP/main/datasets/dataTrain_carListings.zip')\n",
        "\n",
        "# Preprocesamiento de datos para el taller\n",
        "data = data.loc[data['Model'].str.contains('Camry')].drop(['Make', 'State'], axis=1)\n",
        "data = data.join(pd.get_dummies(data['Model'], prefix='M'))\n",
        "data = data.drop(['Model'], axis=1)\n",
        "\n",
        "# Visualización dataset\n",
        "data.head()"
      ]
    },
    {
      "cell_type": "code",
      "execution_count": null,
      "metadata": {
        "tags": [],
        "id": "zXSBBqsZQN7l"
      },
      "outputs": [],
      "source": [
        "# Separación de variables predictoras (X) y variable de interés (y)\n",
        "y = data['Price']\n",
        "X = data.drop(['Price'], axis=1)"
      ]
    },
    {
      "cell_type": "code",
      "source": [
        "y.describe()"
      ],
      "metadata": {
        "colab": {
          "base_uri": "https://localhost:8080/"
        },
        "id": "C2X88PWJAhf_",
        "outputId": "18c20c3b-f1c8-4505-b11a-3e826c6fdbc0"
      },
      "execution_count": null,
      "outputs": [
        {
          "output_type": "execute_result",
          "data": {
            "text/plain": [
              "count    10495.000000\n",
              "mean     14538.403716\n",
              "std       3922.420961\n",
              "min       5002.000000\n",
              "25%      11999.000000\n",
              "50%      15000.000000\n",
              "75%      16999.000000\n",
              "max      32444.000000\n",
              "Name: Price, dtype: float64"
            ]
          },
          "metadata": {},
          "execution_count": 5
        }
      ]
    },
    {
      "cell_type": "code",
      "execution_count": null,
      "metadata": {
        "tags": [],
        "id": "1CLc3Y2hQN7l"
      },
      "outputs": [],
      "source": [
        "# Separación de datos en set de entrenamiento y test\n",
        "from sklearn.model_selection import train_test_split\n",
        "X_train, X_test, y_train, y_test = train_test_split(X, y, test_size=0.33, random_state=42)"
      ]
    },
    {
      "cell_type": "markdown",
      "metadata": {
        "id": "80Dp3H_DQN7l"
      },
      "source": [
        "### Punto 1 - Árbol de decisión manual\n",
        "\n",
        "En la celda 1 creen un árbol de decisión **manualmente**  que considere los set de entrenamiento y test definidos anteriormente y presenten el RMSE y MAE del modelo en el set de test."
      ]
    },
    {
      "cell_type": "code",
      "execution_count": null,
      "metadata": {
        "id": "MgNDCUFfQN7m"
      },
      "outputs": [],
      "source": [
        "# Celda 1 - Árbol de decisión manual modelo de regresión\n",
        "def MSE(y):\n",
        "    Dif_cuad = ((y-y.mean())**2)\n",
        "    MSE = Dif_cuad.sum()/Dif_cuad.shape\n",
        "    return MSE[0]\n",
        "\n",
        "def MSE_impurity(X_col, y, split):\n",
        "\n",
        "    filter_l = X_col <= split\n",
        "    y_l = y[filter_l]\n",
        "    y_r = y[~filter_l]\n",
        "\n",
        "    n_l = y_l.shape[0]\n",
        "    n_r = y_r.shape[0]\n",
        "\n",
        "    MSE_y = MSE(y)\n",
        "    MSE_l = MSE(y_l)\n",
        "    MSE_r = MSE(y_r)\n",
        "\n",
        "    MSE_impurity_ = MSE_y - (n_l / (n_l + n_r) * MSE_l + n_r / (n_l + n_r) * MSE_r)\n",
        "\n",
        "    return MSE_impurity_\n",
        "\n",
        "def best_split(X, y, num_pct=10):\n",
        "\n",
        "    features = range(X.shape[1])\n",
        "\n",
        "    best_split = [0, 0, 0]  # j, split, gain\n",
        "\n",
        "    # Para todas las varibles\n",
        "    for j in features:\n",
        "        X.iloc[:,j].unique().shape\n",
        "        if X.iloc[:,j].unique().shape[0] <= num_pct :\n",
        "            splits = np.array(X.iloc[:,j].unique()[:-1])\n",
        "        else:\n",
        "            splits = np.percentile(X.iloc[:, j], np.arange(0, 100, 100.0 / (num_pct+1)).tolist())\n",
        "            splits = np.unique(splits)[1:]\n",
        "\n",
        "        # Para cada partición\n",
        "        for split in splits:\n",
        "            gain = MSE_impurity(X.iloc[:, j], y, split)\n",
        "\n",
        "            if gain > best_split[2]:\n",
        "                best_split = [j, split, gain]\n",
        "\n",
        "    return best_split\n",
        "\n",
        "def tree_grow(X, y, level=0, min_gain=0.001, max_depth=None, num_pct=10):\n",
        "\n",
        "    # Si solo es una observación\n",
        "    if X.shape[0] == 1:\n",
        "        tree = dict(y_pred=y.iloc[:1].values[0], level=level, split=-1, n_samples=1, gain=0)\n",
        "        return tree\n",
        "\n",
        "    # Calcular la mejor división\n",
        "    j, split, gain = best_split(X, y, num_pct)\n",
        "\n",
        "    # Guardar el árbol y estimar la predicción\n",
        "    y_pred = y.mean()\n",
        "\n",
        "    tree = dict(y_pred=y_pred, level=level, split=-1, n_samples=X.shape[0], gain=gain)\n",
        "    # Revisar el criterio de parada\n",
        "    if gain < min_gain:\n",
        "        return tree\n",
        "    if max_depth is not None:\n",
        "        if level >= max_depth:\n",
        "            return tree\n",
        "\n",
        "    # Continuar creando la partición\n",
        "    filter_l = X.iloc[:, j] < split\n",
        "    X_l, y_l = X.loc[filter_l], y.loc[filter_l]\n",
        "    X_r, y_r = X.loc[~filter_l], y.loc[~filter_l]\n",
        "    tree['split'] = [j, split]\n",
        "\n",
        "    # Siguiente iteración para cada partición\n",
        "\n",
        "    tree['sl'] = tree_grow(X_l, y_l, level + 1, min_gain=min_gain, max_depth=max_depth, num_pct=num_pct)\n",
        "    tree['sr'] = tree_grow(X_r, y_r, level + 1, min_gain=min_gain, max_depth=max_depth, num_pct=num_pct)\n",
        "\n",
        "    return tree\n",
        "\n",
        "def tree_predict(X, tree):\n",
        "\n",
        "    predicted = np.ones(X.shape[0])\n",
        "\n",
        "    # Revisar si es el nodo final\n",
        "    if tree['split'] == -1:\n",
        "        predicted = predicted * tree['y_pred']\n",
        "    else:\n",
        "\n",
        "        j, split = tree['split']\n",
        "        filter_l = (X.iloc[:, j] < split)\n",
        "        X_l = X.loc[filter_l]\n",
        "        X_r = X.loc[~filter_l]\n",
        "\n",
        "        if X_l.shape[0] == 0:  # Si el nodo izquierdo está vacio solo continua con el derecho\n",
        "            predicted[~filter_l] = tree_predict(X_r, tree['sr'])\n",
        "        elif X_r.shape[0] == 0:  #  Si el nodo derecho está vacio solo continua con el izquierdo\n",
        "            predicted[filter_l] = tree_predict(X_l, tree['sl'])\n",
        "        else:\n",
        "            predicted[filter_l] = tree_predict(X_l, tree['sl'])\n",
        "            predicted[~filter_l] = tree_predict(X_r, tree['sr'])\n",
        "\n",
        "    return predicted"
      ]
    },
    {
      "cell_type": "code",
      "source": [
        "# Entrenamiento del modelo con parámetros máxima profundidad=10, número de percentiles = 10, mínima ganancia=0.001:\n",
        "tree=tree_grow(X_train, y_train, level=0, min_gain=0.001, max_depth=10, num_pct=10)\n",
        "# Predicción:\n",
        "y_pred= tree_predict(X_test, tree)\n",
        "print(y_pred)"
      ],
      "metadata": {
        "id": "JiRW651Oukmm",
        "colab": {
          "base_uri": "https://localhost:8080/"
        },
        "outputId": "d873bc3b-2978-4cb4-8fcd-a02b10ac1ca4"
      },
      "execution_count": null,
      "outputs": [
        {
          "output_type": "stream",
          "name": "stdout",
          "text": [
            "[13809.24647887  7622.06995885 16465.61766784 ... 18301.38562092\n",
            " 12762.16949153 11601.16923077]\n"
          ]
        }
      ]
    },
    {
      "cell_type": "code",
      "source": [
        "# Cálculo del RMSE y el MAE para el modelo\n",
        "rmse_ArbMan = np.sqrt(mean_squared_error(y_test, y_pred))\n",
        "print(\"RMSE modelo de regresión árbol manual:\", rmse_ArbMan)\n",
        "mae_ArbMan = mean_absolute_error(y_test, y_pred)\n",
        "print(\"MAE modelo de regresión árbol manual:\", mae_ArbMan)"
      ],
      "metadata": {
        "id": "qCSLOD8Rutk2",
        "colab": {
          "base_uri": "https://localhost:8080/"
        },
        "outputId": "0df3b47a-a27b-4a23-ac39-bf4cd4807a3c"
      },
      "execution_count": null,
      "outputs": [
        {
          "output_type": "stream",
          "name": "stdout",
          "text": [
            "RMSE modelo de regresión árbol manual: 1883.0877365548374\n",
            "MAE modelo de regresión árbol manual: 1392.711484806782\n"
          ]
        }
      ]
    },
    {
      "cell_type": "markdown",
      "source": [
        "**Desempeño del modelo Árbol de decisión manual para modelo de regresión:** El modelo de árbol de regresión manual implementado con máxima profundidad=10, número de percentiles = 10, mínima ganancia = 0.001, muestra un rendimiento aceptable en la predicción de los valores objetivo. El error cuadrático medio (RMSE) es de 1883.087 y el error absoluto medio (MAE) es de 1392.711 indican que el modelo tiene cierta capacidad para predecir los valores de forma relativamente precisa, pues el RMSE es aproximadamente el 11% del percentil 75 de la variable dependiente."
      ],
      "metadata": {
        "id": "OxkadNg6_OaL"
      }
    },
    {
      "cell_type": "markdown",
      "metadata": {
        "id": "PnptLaLjQN7m"
      },
      "source": [
        "### Punto 2 - Bagging manual\n",
        "\n",
        "En la celda 2 creen un modelo bagging **manualmente** con 10 árboles de regresión y comenten sobre el desempeño del modelo."
      ]
    },
    {
      "cell_type": "code",
      "execution_count": null,
      "metadata": {
        "id": "UAHyZCPsQN7m",
        "colab": {
          "base_uri": "https://localhost:8080/"
        },
        "outputId": "e6c648a3-375d-43ea-f9df-4f1f7e9a973a"
      },
      "outputs": [
        {
          "output_type": "stream",
          "name": "stdout",
          "text": [
            "Arreglo: [ 1  2  3  4  5  6  7  8  9 10]\n",
            "Muestreo aleatorio:  [ 6  9 10  6  1  1  2  8  7 10]\n"
          ]
        }
      ],
      "source": [
        "# Celda 2\n",
        "# Se crea un arreglo de 1 a 10\n",
        "np.random.seed(1)\n",
        "\n",
        "# Impresión de arreglo y muestreo aleatorio\n",
        "nums = np.arange(1, 11)\n",
        "print('Arreglo:', nums)\n",
        "print('Muestreo aleatorio: ', np.random.choice(a=nums, size=10, replace=True))"
      ]
    },
    {
      "cell_type": "code",
      "source": [
        "# Creación de 10 muestras de bootstrap\n",
        "np.random.seed(123)\n",
        "\n",
        "n_samples = X_train.shape[0]\n",
        "n_B = 10\n",
        "\n",
        "samples = [np.random.choice(a=n_samples, size=n_samples, replace=True) for _ in range(1, n_B +1 )]\n",
        "samples"
      ],
      "metadata": {
        "id": "nMAYjN36eolV",
        "colab": {
          "base_uri": "https://localhost:8080/"
        },
        "outputId": "5c5d9fcc-a738-4426-cd32-721e0e2f312e"
      },
      "execution_count": null,
      "outputs": [
        {
          "output_type": "execute_result",
          "data": {
            "text/plain": [
              "[array([3582, 3454, 1346, ...,  826,  801, 5657]),\n",
              " array([6962, 3408, 2553, ..., 6611,  877, 6412]),\n",
              " array([1917, 3131,  384, ..., 2876, 6449, 6557]),\n",
              " array([3849, 4565, 6820, ..., 6835, 4643,  639]),\n",
              " array([2468, 3608, 1367, ..., 3108, 2961, 4357]),\n",
              " array([3142, 1537, 5966, ..., 3224, 6922, 3396]),\n",
              " array([6588, 3753, 1786, ..., 2131, 4627, 5672]),\n",
              " array([1289, 3776,  981, ..., 1891, 6034, 6165]),\n",
              " array([6079, 3819, 6976, ..., 6478, 2225, 5072]),\n",
              " array([3952, 3276,  896, ..., 4589, 1964,  893])]"
            ]
          },
          "metadata": {},
          "execution_count": 82
        }
      ]
    },
    {
      "cell_type": "code",
      "source": [
        "# Visualización muestra boostrap #1 para entremiento\n",
        "data.iloc[samples[0], :]"
      ],
      "metadata": {
        "id": "J-4GJuBoer4g",
        "colab": {
          "base_uri": "https://localhost:8080/",
          "height": 423
        },
        "outputId": "aaf3232b-23a2-4a02-ea51-ebe6aafc4294"
      },
      "execution_count": null,
      "outputs": [
        {
          "output_type": "execute_result",
          "data": {
            "text/plain": [
              "        Price  Year  Mileage  M_Camry  M_Camry4dr  M_CamryBase  M_CamryL  \\\n",
              "137130   8995  2010    88909    False       False        False     False   \n",
              "132538   5998  2007   136022    False       False        False     False   \n",
              "51669   16500  2015    27217    False       False        False     False   \n",
              "154900  17508  2017    34279    False       False        False     False   \n",
              "199443  13695  2012    77117    False        True        False     False   \n",
              "...       ...   ...      ...      ...         ...          ...       ...   \n",
              "10241   10790  2011    90375    False       False        False     False   \n",
              "4214     8995  2009    62991    False        True        False     False   \n",
              "32299   11988  2011    76862    False       False        False     False   \n",
              "31240   19248  2017    32465    False       False        False     False   \n",
              "215081  13698  2014    46458    False       False        False      True   \n",
              "\n",
              "        M_CamryLE  M_CamrySE  M_CamryXLE  \n",
              "137130       True      False       False  \n",
              "132538       True      False       False  \n",
              "51669       False       True       False  \n",
              "154900      False       True       False  \n",
              "199443      False      False       False  \n",
              "...           ...        ...         ...  \n",
              "10241        True      False       False  \n",
              "4214        False      False       False  \n",
              "32299        True      False       False  \n",
              "31240       False       True       False  \n",
              "215081      False      False       False  \n",
              "\n",
              "[7031 rows x 10 columns]"
            ],
            "text/html": [
              "\n",
              "  <div id=\"df-b8d36381-dfb8-4d24-8345-a9280c6f148d\" class=\"colab-df-container\">\n",
              "    <div>\n",
              "<style scoped>\n",
              "    .dataframe tbody tr th:only-of-type {\n",
              "        vertical-align: middle;\n",
              "    }\n",
              "\n",
              "    .dataframe tbody tr th {\n",
              "        vertical-align: top;\n",
              "    }\n",
              "\n",
              "    .dataframe thead th {\n",
              "        text-align: right;\n",
              "    }\n",
              "</style>\n",
              "<table border=\"1\" class=\"dataframe\">\n",
              "  <thead>\n",
              "    <tr style=\"text-align: right;\">\n",
              "      <th></th>\n",
              "      <th>Price</th>\n",
              "      <th>Year</th>\n",
              "      <th>Mileage</th>\n",
              "      <th>M_Camry</th>\n",
              "      <th>M_Camry4dr</th>\n",
              "      <th>M_CamryBase</th>\n",
              "      <th>M_CamryL</th>\n",
              "      <th>M_CamryLE</th>\n",
              "      <th>M_CamrySE</th>\n",
              "      <th>M_CamryXLE</th>\n",
              "    </tr>\n",
              "  </thead>\n",
              "  <tbody>\n",
              "    <tr>\n",
              "      <th>137130</th>\n",
              "      <td>8995</td>\n",
              "      <td>2010</td>\n",
              "      <td>88909</td>\n",
              "      <td>False</td>\n",
              "      <td>False</td>\n",
              "      <td>False</td>\n",
              "      <td>False</td>\n",
              "      <td>True</td>\n",
              "      <td>False</td>\n",
              "      <td>False</td>\n",
              "    </tr>\n",
              "    <tr>\n",
              "      <th>132538</th>\n",
              "      <td>5998</td>\n",
              "      <td>2007</td>\n",
              "      <td>136022</td>\n",
              "      <td>False</td>\n",
              "      <td>False</td>\n",
              "      <td>False</td>\n",
              "      <td>False</td>\n",
              "      <td>True</td>\n",
              "      <td>False</td>\n",
              "      <td>False</td>\n",
              "    </tr>\n",
              "    <tr>\n",
              "      <th>51669</th>\n",
              "      <td>16500</td>\n",
              "      <td>2015</td>\n",
              "      <td>27217</td>\n",
              "      <td>False</td>\n",
              "      <td>False</td>\n",
              "      <td>False</td>\n",
              "      <td>False</td>\n",
              "      <td>False</td>\n",
              "      <td>True</td>\n",
              "      <td>False</td>\n",
              "    </tr>\n",
              "    <tr>\n",
              "      <th>154900</th>\n",
              "      <td>17508</td>\n",
              "      <td>2017</td>\n",
              "      <td>34279</td>\n",
              "      <td>False</td>\n",
              "      <td>False</td>\n",
              "      <td>False</td>\n",
              "      <td>False</td>\n",
              "      <td>False</td>\n",
              "      <td>True</td>\n",
              "      <td>False</td>\n",
              "    </tr>\n",
              "    <tr>\n",
              "      <th>199443</th>\n",
              "      <td>13695</td>\n",
              "      <td>2012</td>\n",
              "      <td>77117</td>\n",
              "      <td>False</td>\n",
              "      <td>True</td>\n",
              "      <td>False</td>\n",
              "      <td>False</td>\n",
              "      <td>False</td>\n",
              "      <td>False</td>\n",
              "      <td>False</td>\n",
              "    </tr>\n",
              "    <tr>\n",
              "      <th>...</th>\n",
              "      <td>...</td>\n",
              "      <td>...</td>\n",
              "      <td>...</td>\n",
              "      <td>...</td>\n",
              "      <td>...</td>\n",
              "      <td>...</td>\n",
              "      <td>...</td>\n",
              "      <td>...</td>\n",
              "      <td>...</td>\n",
              "      <td>...</td>\n",
              "    </tr>\n",
              "    <tr>\n",
              "      <th>10241</th>\n",
              "      <td>10790</td>\n",
              "      <td>2011</td>\n",
              "      <td>90375</td>\n",
              "      <td>False</td>\n",
              "      <td>False</td>\n",
              "      <td>False</td>\n",
              "      <td>False</td>\n",
              "      <td>True</td>\n",
              "      <td>False</td>\n",
              "      <td>False</td>\n",
              "    </tr>\n",
              "    <tr>\n",
              "      <th>4214</th>\n",
              "      <td>8995</td>\n",
              "      <td>2009</td>\n",
              "      <td>62991</td>\n",
              "      <td>False</td>\n",
              "      <td>True</td>\n",
              "      <td>False</td>\n",
              "      <td>False</td>\n",
              "      <td>False</td>\n",
              "      <td>False</td>\n",
              "      <td>False</td>\n",
              "    </tr>\n",
              "    <tr>\n",
              "      <th>32299</th>\n",
              "      <td>11988</td>\n",
              "      <td>2011</td>\n",
              "      <td>76862</td>\n",
              "      <td>False</td>\n",
              "      <td>False</td>\n",
              "      <td>False</td>\n",
              "      <td>False</td>\n",
              "      <td>True</td>\n",
              "      <td>False</td>\n",
              "      <td>False</td>\n",
              "    </tr>\n",
              "    <tr>\n",
              "      <th>31240</th>\n",
              "      <td>19248</td>\n",
              "      <td>2017</td>\n",
              "      <td>32465</td>\n",
              "      <td>False</td>\n",
              "      <td>False</td>\n",
              "      <td>False</td>\n",
              "      <td>False</td>\n",
              "      <td>False</td>\n",
              "      <td>True</td>\n",
              "      <td>False</td>\n",
              "    </tr>\n",
              "    <tr>\n",
              "      <th>215081</th>\n",
              "      <td>13698</td>\n",
              "      <td>2014</td>\n",
              "      <td>46458</td>\n",
              "      <td>False</td>\n",
              "      <td>False</td>\n",
              "      <td>False</td>\n",
              "      <td>True</td>\n",
              "      <td>False</td>\n",
              "      <td>False</td>\n",
              "      <td>False</td>\n",
              "    </tr>\n",
              "  </tbody>\n",
              "</table>\n",
              "<p>7031 rows × 10 columns</p>\n",
              "</div>\n",
              "    <div class=\"colab-df-buttons\">\n",
              "\n",
              "  <div class=\"colab-df-container\">\n",
              "    <button class=\"colab-df-convert\" onclick=\"convertToInteractive('df-b8d36381-dfb8-4d24-8345-a9280c6f148d')\"\n",
              "            title=\"Convert this dataframe to an interactive table.\"\n",
              "            style=\"display:none;\">\n",
              "\n",
              "  <svg xmlns=\"http://www.w3.org/2000/svg\" height=\"24px\" viewBox=\"0 -960 960 960\">\n",
              "    <path d=\"M120-120v-720h720v720H120Zm60-500h600v-160H180v160Zm220 220h160v-160H400v160Zm0 220h160v-160H400v160ZM180-400h160v-160H180v160Zm440 0h160v-160H620v160ZM180-180h160v-160H180v160Zm440 0h160v-160H620v160Z\"/>\n",
              "  </svg>\n",
              "    </button>\n",
              "\n",
              "  <style>\n",
              "    .colab-df-container {\n",
              "      display:flex;\n",
              "      gap: 12px;\n",
              "    }\n",
              "\n",
              "    .colab-df-convert {\n",
              "      background-color: #E8F0FE;\n",
              "      border: none;\n",
              "      border-radius: 50%;\n",
              "      cursor: pointer;\n",
              "      display: none;\n",
              "      fill: #1967D2;\n",
              "      height: 32px;\n",
              "      padding: 0 0 0 0;\n",
              "      width: 32px;\n",
              "    }\n",
              "\n",
              "    .colab-df-convert:hover {\n",
              "      background-color: #E2EBFA;\n",
              "      box-shadow: 0px 1px 2px rgba(60, 64, 67, 0.3), 0px 1px 3px 1px rgba(60, 64, 67, 0.15);\n",
              "      fill: #174EA6;\n",
              "    }\n",
              "\n",
              "    .colab-df-buttons div {\n",
              "      margin-bottom: 4px;\n",
              "    }\n",
              "\n",
              "    [theme=dark] .colab-df-convert {\n",
              "      background-color: #3B4455;\n",
              "      fill: #D2E3FC;\n",
              "    }\n",
              "\n",
              "    [theme=dark] .colab-df-convert:hover {\n",
              "      background-color: #434B5C;\n",
              "      box-shadow: 0px 1px 3px 1px rgba(0, 0, 0, 0.15);\n",
              "      filter: drop-shadow(0px 1px 2px rgba(0, 0, 0, 0.3));\n",
              "      fill: #FFFFFF;\n",
              "    }\n",
              "  </style>\n",
              "\n",
              "    <script>\n",
              "      const buttonEl =\n",
              "        document.querySelector('#df-b8d36381-dfb8-4d24-8345-a9280c6f148d button.colab-df-convert');\n",
              "      buttonEl.style.display =\n",
              "        google.colab.kernel.accessAllowed ? 'block' : 'none';\n",
              "\n",
              "      async function convertToInteractive(key) {\n",
              "        const element = document.querySelector('#df-b8d36381-dfb8-4d24-8345-a9280c6f148d');\n",
              "        const dataTable =\n",
              "          await google.colab.kernel.invokeFunction('convertToInteractive',\n",
              "                                                    [key], {});\n",
              "        if (!dataTable) return;\n",
              "\n",
              "        const docLinkHtml = 'Like what you see? Visit the ' +\n",
              "          '<a target=\"_blank\" href=https://colab.research.google.com/notebooks/data_table.ipynb>data table notebook</a>'\n",
              "          + ' to learn more about interactive tables.';\n",
              "        element.innerHTML = '';\n",
              "        dataTable['output_type'] = 'display_data';\n",
              "        await google.colab.output.renderOutput(dataTable, element);\n",
              "        const docLink = document.createElement('div');\n",
              "        docLink.innerHTML = docLinkHtml;\n",
              "        element.appendChild(docLink);\n",
              "      }\n",
              "    </script>\n",
              "  </div>\n",
              "\n",
              "\n",
              "<div id=\"df-bb285e6b-7e4c-4802-9709-c253d9b7c53f\">\n",
              "  <button class=\"colab-df-quickchart\" onclick=\"quickchart('df-bb285e6b-7e4c-4802-9709-c253d9b7c53f')\"\n",
              "            title=\"Suggest charts\"\n",
              "            style=\"display:none;\">\n",
              "\n",
              "<svg xmlns=\"http://www.w3.org/2000/svg\" height=\"24px\"viewBox=\"0 0 24 24\"\n",
              "     width=\"24px\">\n",
              "    <g>\n",
              "        <path d=\"M19 3H5c-1.1 0-2 .9-2 2v14c0 1.1.9 2 2 2h14c1.1 0 2-.9 2-2V5c0-1.1-.9-2-2-2zM9 17H7v-7h2v7zm4 0h-2V7h2v10zm4 0h-2v-4h2v4z\"/>\n",
              "    </g>\n",
              "</svg>\n",
              "  </button>\n",
              "\n",
              "<style>\n",
              "  .colab-df-quickchart {\n",
              "      --bg-color: #E8F0FE;\n",
              "      --fill-color: #1967D2;\n",
              "      --hover-bg-color: #E2EBFA;\n",
              "      --hover-fill-color: #174EA6;\n",
              "      --disabled-fill-color: #AAA;\n",
              "      --disabled-bg-color: #DDD;\n",
              "  }\n",
              "\n",
              "  [theme=dark] .colab-df-quickchart {\n",
              "      --bg-color: #3B4455;\n",
              "      --fill-color: #D2E3FC;\n",
              "      --hover-bg-color: #434B5C;\n",
              "      --hover-fill-color: #FFFFFF;\n",
              "      --disabled-bg-color: #3B4455;\n",
              "      --disabled-fill-color: #666;\n",
              "  }\n",
              "\n",
              "  .colab-df-quickchart {\n",
              "    background-color: var(--bg-color);\n",
              "    border: none;\n",
              "    border-radius: 50%;\n",
              "    cursor: pointer;\n",
              "    display: none;\n",
              "    fill: var(--fill-color);\n",
              "    height: 32px;\n",
              "    padding: 0;\n",
              "    width: 32px;\n",
              "  }\n",
              "\n",
              "  .colab-df-quickchart:hover {\n",
              "    background-color: var(--hover-bg-color);\n",
              "    box-shadow: 0 1px 2px rgba(60, 64, 67, 0.3), 0 1px 3px 1px rgba(60, 64, 67, 0.15);\n",
              "    fill: var(--button-hover-fill-color);\n",
              "  }\n",
              "\n",
              "  .colab-df-quickchart-complete:disabled,\n",
              "  .colab-df-quickchart-complete:disabled:hover {\n",
              "    background-color: var(--disabled-bg-color);\n",
              "    fill: var(--disabled-fill-color);\n",
              "    box-shadow: none;\n",
              "  }\n",
              "\n",
              "  .colab-df-spinner {\n",
              "    border: 2px solid var(--fill-color);\n",
              "    border-color: transparent;\n",
              "    border-bottom-color: var(--fill-color);\n",
              "    animation:\n",
              "      spin 1s steps(1) infinite;\n",
              "  }\n",
              "\n",
              "  @keyframes spin {\n",
              "    0% {\n",
              "      border-color: transparent;\n",
              "      border-bottom-color: var(--fill-color);\n",
              "      border-left-color: var(--fill-color);\n",
              "    }\n",
              "    20% {\n",
              "      border-color: transparent;\n",
              "      border-left-color: var(--fill-color);\n",
              "      border-top-color: var(--fill-color);\n",
              "    }\n",
              "    30% {\n",
              "      border-color: transparent;\n",
              "      border-left-color: var(--fill-color);\n",
              "      border-top-color: var(--fill-color);\n",
              "      border-right-color: var(--fill-color);\n",
              "    }\n",
              "    40% {\n",
              "      border-color: transparent;\n",
              "      border-right-color: var(--fill-color);\n",
              "      border-top-color: var(--fill-color);\n",
              "    }\n",
              "    60% {\n",
              "      border-color: transparent;\n",
              "      border-right-color: var(--fill-color);\n",
              "    }\n",
              "    80% {\n",
              "      border-color: transparent;\n",
              "      border-right-color: var(--fill-color);\n",
              "      border-bottom-color: var(--fill-color);\n",
              "    }\n",
              "    90% {\n",
              "      border-color: transparent;\n",
              "      border-bottom-color: var(--fill-color);\n",
              "    }\n",
              "  }\n",
              "</style>\n",
              "\n",
              "  <script>\n",
              "    async function quickchart(key) {\n",
              "      const quickchartButtonEl =\n",
              "        document.querySelector('#' + key + ' button');\n",
              "      quickchartButtonEl.disabled = true;  // To prevent multiple clicks.\n",
              "      quickchartButtonEl.classList.add('colab-df-spinner');\n",
              "      try {\n",
              "        const charts = await google.colab.kernel.invokeFunction(\n",
              "            'suggestCharts', [key], {});\n",
              "      } catch (error) {\n",
              "        console.error('Error during call to suggestCharts:', error);\n",
              "      }\n",
              "      quickchartButtonEl.classList.remove('colab-df-spinner');\n",
              "      quickchartButtonEl.classList.add('colab-df-quickchart-complete');\n",
              "    }\n",
              "    (() => {\n",
              "      let quickchartButtonEl =\n",
              "        document.querySelector('#df-bb285e6b-7e4c-4802-9709-c253d9b7c53f button');\n",
              "      quickchartButtonEl.style.display =\n",
              "        google.colab.kernel.accessAllowed ? 'block' : 'none';\n",
              "    })();\n",
              "  </script>\n",
              "</div>\n",
              "\n",
              "    </div>\n",
              "  </div>\n"
            ],
            "application/vnd.google.colaboratory.intrinsic+json": {
              "type": "dataframe",
              "summary": "{\n  \"name\": \"data\",\n  \"rows\": 7031,\n  \"fields\": [\n    {\n      \"column\": \"Price\",\n      \"properties\": {\n        \"dtype\": \"number\",\n        \"std\": 3928,\n        \"min\": 5126,\n        \"max\": 30673,\n        \"num_unique_values\": 2069,\n        \"samples\": [\n          13490,\n          12999,\n          15899\n        ],\n        \"semantic_type\": \"\",\n        \"description\": \"\"\n      }\n    },\n    {\n      \"column\": \"Year\",\n      \"properties\": {\n        \"dtype\": \"number\",\n        \"std\": 3,\n        \"min\": 1998,\n        \"max\": 2018,\n        \"num_unique_values\": 20,\n        \"samples\": [\n          2010,\n          2000,\n          2002\n        ],\n        \"semantic_type\": \"\",\n        \"description\": \"\"\n      }\n    },\n    {\n      \"column\": \"Mileage\",\n      \"properties\": {\n        \"dtype\": \"number\",\n        \"std\": 36520,\n        \"min\": 5,\n        \"max\": 232658,\n        \"num_unique_values\": 4332,\n        \"samples\": [\n          105799,\n          22874,\n          44099\n        ],\n        \"semantic_type\": \"\",\n        \"description\": \"\"\n      }\n    },\n    {\n      \"column\": \"M_Camry\",\n      \"properties\": {\n        \"dtype\": \"boolean\",\n        \"num_unique_values\": 2,\n        \"samples\": [\n          true,\n          false\n        ],\n        \"semantic_type\": \"\",\n        \"description\": \"\"\n      }\n    },\n    {\n      \"column\": \"M_Camry4dr\",\n      \"properties\": {\n        \"dtype\": \"boolean\",\n        \"num_unique_values\": 2,\n        \"samples\": [\n          true,\n          false\n        ],\n        \"semantic_type\": \"\",\n        \"description\": \"\"\n      }\n    },\n    {\n      \"column\": \"M_CamryBase\",\n      \"properties\": {\n        \"dtype\": \"boolean\",\n        \"num_unique_values\": 2,\n        \"samples\": [\n          true,\n          false\n        ],\n        \"semantic_type\": \"\",\n        \"description\": \"\"\n      }\n    },\n    {\n      \"column\": \"M_CamryL\",\n      \"properties\": {\n        \"dtype\": \"boolean\",\n        \"num_unique_values\": 2,\n        \"samples\": [\n          true,\n          false\n        ],\n        \"semantic_type\": \"\",\n        \"description\": \"\"\n      }\n    },\n    {\n      \"column\": \"M_CamryLE\",\n      \"properties\": {\n        \"dtype\": \"boolean\",\n        \"num_unique_values\": 2,\n        \"samples\": [\n          false,\n          true\n        ],\n        \"semantic_type\": \"\",\n        \"description\": \"\"\n      }\n    },\n    {\n      \"column\": \"M_CamrySE\",\n      \"properties\": {\n        \"dtype\": \"boolean\",\n        \"num_unique_values\": 2,\n        \"samples\": [\n          true,\n          false\n        ],\n        \"semantic_type\": \"\",\n        \"description\": \"\"\n      }\n    },\n    {\n      \"column\": \"M_CamryXLE\",\n      \"properties\": {\n        \"dtype\": \"boolean\",\n        \"num_unique_values\": 2,\n        \"samples\": [\n          true,\n          false\n        ],\n        \"semantic_type\": \"\",\n        \"description\": \"\"\n      }\n    }\n  ]\n}"
            }
          },
          "metadata": {},
          "execution_count": 83
        }
      ]
    },
    {
      "cell_type": "code",
      "source": [
        "# Construcción un árbol de decisión para cada muestra boostrap\n",
        "# Definición del modelo usando DecisionTreeRegressor de sklearn\n",
        "treereg = DecisionTreeRegressor(max_depth=None, random_state=123)\n",
        "\n",
        "# DataFrame para guardar las predicciones de cada árbol\n",
        "y_pred = pd.DataFrame(index=X_test.index, columns=[list(range(n_B))])\n",
        "\n",
        "# Entrenamiento de un árbol sobre cada muestra boostrap y predicción sobre los datos de test\n",
        "for i, sample in enumerate(samples):\n",
        "    X_train = data.iloc[sample, 1:]\n",
        "    y_train = data.iloc[sample, 0]\n",
        "    treereg.fit(X_train, y_train)\n",
        "    y_pred.iloc[:,i] = treereg.predict(X_test)\n",
        "\n",
        "y_pred"
      ],
      "metadata": {
        "id": "_QWeBKwheuwn",
        "colab": {
          "base_uri": "https://localhost:8080/",
          "height": 423
        },
        "outputId": "dd020fcd-9d39-4c17-9485-898228e68c00"
      },
      "execution_count": null,
      "outputs": [
        {
          "output_type": "execute_result",
          "data": {
            "text/plain": [
              "              0        1        2        3        4        5        6  \\\n",
              "257343   9900.0   9900.0   9900.0   9900.0   9900.0  11995.0  11788.0   \n",
              "326011   5995.0   7495.0   5995.0   7495.0   5995.0   5995.0   6987.0   \n",
              "242354  15814.0  15814.0  15814.0  15814.0  16491.0  15814.0  15814.0   \n",
              "266376  17997.0  16691.0  15813.0  17997.0  17997.0  17997.0  17997.0   \n",
              "396954  18995.0  18995.0  16951.0  16951.0  16951.0  16951.0  18995.0   \n",
              "...         ...      ...      ...      ...      ...      ...      ...   \n",
              "144298  15976.0  17988.0  15976.0  17988.0  17988.0  16977.0  15976.0   \n",
              "364521  14699.0  14699.0  15700.0  16900.0  15700.0  15999.0  14995.0   \n",
              "120072  18330.0  17803.0  18330.0  23533.0  18330.0  23533.0  18330.0   \n",
              "99878   10495.0  10495.0  12989.0  12989.0  10495.0  10495.0  12989.0   \n",
              "387162  11985.0  12922.0  12922.0  11898.0  11985.0  11985.0  11000.0   \n",
              "\n",
              "              7        8        9  \n",
              "257343   9900.0   9900.0   9900.0  \n",
              "326011   6700.0   7495.0   6492.0  \n",
              "242354  15349.0  15814.0  15349.0  \n",
              "266376  21990.0  23482.0  23482.0  \n",
              "396954  15988.0  18995.0  18995.0  \n",
              "...         ...      ...      ...  \n",
              "144298  17988.0  15976.0  17988.0  \n",
              "364521  14851.0  14851.0  14851.0  \n",
              "120072  23533.0  18330.0  18330.0  \n",
              "99878   10495.0  12995.0  10495.0  \n",
              "387162  12922.0  10492.0  11995.0  \n",
              "\n",
              "[3464 rows x 10 columns]"
            ],
            "text/html": [
              "\n",
              "  <div id=\"df-076e1adb-b72f-4a78-a4e5-8cddcc5423e5\" class=\"colab-df-container\">\n",
              "    <div>\n",
              "<style scoped>\n",
              "    .dataframe tbody tr th:only-of-type {\n",
              "        vertical-align: middle;\n",
              "    }\n",
              "\n",
              "    .dataframe tbody tr th {\n",
              "        vertical-align: top;\n",
              "    }\n",
              "\n",
              "    .dataframe thead tr th {\n",
              "        text-align: left;\n",
              "    }\n",
              "</style>\n",
              "<table border=\"1\" class=\"dataframe\">\n",
              "  <thead>\n",
              "    <tr>\n",
              "      <th></th>\n",
              "      <th>0</th>\n",
              "      <th>1</th>\n",
              "      <th>2</th>\n",
              "      <th>3</th>\n",
              "      <th>4</th>\n",
              "      <th>5</th>\n",
              "      <th>6</th>\n",
              "      <th>7</th>\n",
              "      <th>8</th>\n",
              "      <th>9</th>\n",
              "    </tr>\n",
              "  </thead>\n",
              "  <tbody>\n",
              "    <tr>\n",
              "      <th>257343</th>\n",
              "      <td>9900.0</td>\n",
              "      <td>9900.0</td>\n",
              "      <td>9900.0</td>\n",
              "      <td>9900.0</td>\n",
              "      <td>9900.0</td>\n",
              "      <td>11995.0</td>\n",
              "      <td>11788.0</td>\n",
              "      <td>9900.0</td>\n",
              "      <td>9900.0</td>\n",
              "      <td>9900.0</td>\n",
              "    </tr>\n",
              "    <tr>\n",
              "      <th>326011</th>\n",
              "      <td>5995.0</td>\n",
              "      <td>7495.0</td>\n",
              "      <td>5995.0</td>\n",
              "      <td>7495.0</td>\n",
              "      <td>5995.0</td>\n",
              "      <td>5995.0</td>\n",
              "      <td>6987.0</td>\n",
              "      <td>6700.0</td>\n",
              "      <td>7495.0</td>\n",
              "      <td>6492.0</td>\n",
              "    </tr>\n",
              "    <tr>\n",
              "      <th>242354</th>\n",
              "      <td>15814.0</td>\n",
              "      <td>15814.0</td>\n",
              "      <td>15814.0</td>\n",
              "      <td>15814.0</td>\n",
              "      <td>16491.0</td>\n",
              "      <td>15814.0</td>\n",
              "      <td>15814.0</td>\n",
              "      <td>15349.0</td>\n",
              "      <td>15814.0</td>\n",
              "      <td>15349.0</td>\n",
              "    </tr>\n",
              "    <tr>\n",
              "      <th>266376</th>\n",
              "      <td>17997.0</td>\n",
              "      <td>16691.0</td>\n",
              "      <td>15813.0</td>\n",
              "      <td>17997.0</td>\n",
              "      <td>17997.0</td>\n",
              "      <td>17997.0</td>\n",
              "      <td>17997.0</td>\n",
              "      <td>21990.0</td>\n",
              "      <td>23482.0</td>\n",
              "      <td>23482.0</td>\n",
              "    </tr>\n",
              "    <tr>\n",
              "      <th>396954</th>\n",
              "      <td>18995.0</td>\n",
              "      <td>18995.0</td>\n",
              "      <td>16951.0</td>\n",
              "      <td>16951.0</td>\n",
              "      <td>16951.0</td>\n",
              "      <td>16951.0</td>\n",
              "      <td>18995.0</td>\n",
              "      <td>15988.0</td>\n",
              "      <td>18995.0</td>\n",
              "      <td>18995.0</td>\n",
              "    </tr>\n",
              "    <tr>\n",
              "      <th>...</th>\n",
              "      <td>...</td>\n",
              "      <td>...</td>\n",
              "      <td>...</td>\n",
              "      <td>...</td>\n",
              "      <td>...</td>\n",
              "      <td>...</td>\n",
              "      <td>...</td>\n",
              "      <td>...</td>\n",
              "      <td>...</td>\n",
              "      <td>...</td>\n",
              "    </tr>\n",
              "    <tr>\n",
              "      <th>144298</th>\n",
              "      <td>15976.0</td>\n",
              "      <td>17988.0</td>\n",
              "      <td>15976.0</td>\n",
              "      <td>17988.0</td>\n",
              "      <td>17988.0</td>\n",
              "      <td>16977.0</td>\n",
              "      <td>15976.0</td>\n",
              "      <td>17988.0</td>\n",
              "      <td>15976.0</td>\n",
              "      <td>17988.0</td>\n",
              "    </tr>\n",
              "    <tr>\n",
              "      <th>364521</th>\n",
              "      <td>14699.0</td>\n",
              "      <td>14699.0</td>\n",
              "      <td>15700.0</td>\n",
              "      <td>16900.0</td>\n",
              "      <td>15700.0</td>\n",
              "      <td>15999.0</td>\n",
              "      <td>14995.0</td>\n",
              "      <td>14851.0</td>\n",
              "      <td>14851.0</td>\n",
              "      <td>14851.0</td>\n",
              "    </tr>\n",
              "    <tr>\n",
              "      <th>120072</th>\n",
              "      <td>18330.0</td>\n",
              "      <td>17803.0</td>\n",
              "      <td>18330.0</td>\n",
              "      <td>23533.0</td>\n",
              "      <td>18330.0</td>\n",
              "      <td>23533.0</td>\n",
              "      <td>18330.0</td>\n",
              "      <td>23533.0</td>\n",
              "      <td>18330.0</td>\n",
              "      <td>18330.0</td>\n",
              "    </tr>\n",
              "    <tr>\n",
              "      <th>99878</th>\n",
              "      <td>10495.0</td>\n",
              "      <td>10495.0</td>\n",
              "      <td>12989.0</td>\n",
              "      <td>12989.0</td>\n",
              "      <td>10495.0</td>\n",
              "      <td>10495.0</td>\n",
              "      <td>12989.0</td>\n",
              "      <td>10495.0</td>\n",
              "      <td>12995.0</td>\n",
              "      <td>10495.0</td>\n",
              "    </tr>\n",
              "    <tr>\n",
              "      <th>387162</th>\n",
              "      <td>11985.0</td>\n",
              "      <td>12922.0</td>\n",
              "      <td>12922.0</td>\n",
              "      <td>11898.0</td>\n",
              "      <td>11985.0</td>\n",
              "      <td>11985.0</td>\n",
              "      <td>11000.0</td>\n",
              "      <td>12922.0</td>\n",
              "      <td>10492.0</td>\n",
              "      <td>11995.0</td>\n",
              "    </tr>\n",
              "  </tbody>\n",
              "</table>\n",
              "<p>3464 rows × 10 columns</p>\n",
              "</div>\n",
              "    <div class=\"colab-df-buttons\">\n",
              "\n",
              "  <div class=\"colab-df-container\">\n",
              "    <button class=\"colab-df-convert\" onclick=\"convertToInteractive('df-076e1adb-b72f-4a78-a4e5-8cddcc5423e5')\"\n",
              "            title=\"Convert this dataframe to an interactive table.\"\n",
              "            style=\"display:none;\">\n",
              "\n",
              "  <svg xmlns=\"http://www.w3.org/2000/svg\" height=\"24px\" viewBox=\"0 -960 960 960\">\n",
              "    <path d=\"M120-120v-720h720v720H120Zm60-500h600v-160H180v160Zm220 220h160v-160H400v160Zm0 220h160v-160H400v160ZM180-400h160v-160H180v160Zm440 0h160v-160H620v160ZM180-180h160v-160H180v160Zm440 0h160v-160H620v160Z\"/>\n",
              "  </svg>\n",
              "    </button>\n",
              "\n",
              "  <style>\n",
              "    .colab-df-container {\n",
              "      display:flex;\n",
              "      gap: 12px;\n",
              "    }\n",
              "\n",
              "    .colab-df-convert {\n",
              "      background-color: #E8F0FE;\n",
              "      border: none;\n",
              "      border-radius: 50%;\n",
              "      cursor: pointer;\n",
              "      display: none;\n",
              "      fill: #1967D2;\n",
              "      height: 32px;\n",
              "      padding: 0 0 0 0;\n",
              "      width: 32px;\n",
              "    }\n",
              "\n",
              "    .colab-df-convert:hover {\n",
              "      background-color: #E2EBFA;\n",
              "      box-shadow: 0px 1px 2px rgba(60, 64, 67, 0.3), 0px 1px 3px 1px rgba(60, 64, 67, 0.15);\n",
              "      fill: #174EA6;\n",
              "    }\n",
              "\n",
              "    .colab-df-buttons div {\n",
              "      margin-bottom: 4px;\n",
              "    }\n",
              "\n",
              "    [theme=dark] .colab-df-convert {\n",
              "      background-color: #3B4455;\n",
              "      fill: #D2E3FC;\n",
              "    }\n",
              "\n",
              "    [theme=dark] .colab-df-convert:hover {\n",
              "      background-color: #434B5C;\n",
              "      box-shadow: 0px 1px 3px 1px rgba(0, 0, 0, 0.15);\n",
              "      filter: drop-shadow(0px 1px 2px rgba(0, 0, 0, 0.3));\n",
              "      fill: #FFFFFF;\n",
              "    }\n",
              "  </style>\n",
              "\n",
              "    <script>\n",
              "      const buttonEl =\n",
              "        document.querySelector('#df-076e1adb-b72f-4a78-a4e5-8cddcc5423e5 button.colab-df-convert');\n",
              "      buttonEl.style.display =\n",
              "        google.colab.kernel.accessAllowed ? 'block' : 'none';\n",
              "\n",
              "      async function convertToInteractive(key) {\n",
              "        const element = document.querySelector('#df-076e1adb-b72f-4a78-a4e5-8cddcc5423e5');\n",
              "        const dataTable =\n",
              "          await google.colab.kernel.invokeFunction('convertToInteractive',\n",
              "                                                    [key], {});\n",
              "        if (!dataTable) return;\n",
              "\n",
              "        const docLinkHtml = 'Like what you see? Visit the ' +\n",
              "          '<a target=\"_blank\" href=https://colab.research.google.com/notebooks/data_table.ipynb>data table notebook</a>'\n",
              "          + ' to learn more about interactive tables.';\n",
              "        element.innerHTML = '';\n",
              "        dataTable['output_type'] = 'display_data';\n",
              "        await google.colab.output.renderOutput(dataTable, element);\n",
              "        const docLink = document.createElement('div');\n",
              "        docLink.innerHTML = docLinkHtml;\n",
              "        element.appendChild(docLink);\n",
              "      }\n",
              "    </script>\n",
              "  </div>\n",
              "\n",
              "\n",
              "<div id=\"df-bc92202b-5fc9-4352-9f6c-db0b56a3cc55\">\n",
              "  <button class=\"colab-df-quickchart\" onclick=\"quickchart('df-bc92202b-5fc9-4352-9f6c-db0b56a3cc55')\"\n",
              "            title=\"Suggest charts\"\n",
              "            style=\"display:none;\">\n",
              "\n",
              "<svg xmlns=\"http://www.w3.org/2000/svg\" height=\"24px\"viewBox=\"0 0 24 24\"\n",
              "     width=\"24px\">\n",
              "    <g>\n",
              "        <path d=\"M19 3H5c-1.1 0-2 .9-2 2v14c0 1.1.9 2 2 2h14c1.1 0 2-.9 2-2V5c0-1.1-.9-2-2-2zM9 17H7v-7h2v7zm4 0h-2V7h2v10zm4 0h-2v-4h2v4z\"/>\n",
              "    </g>\n",
              "</svg>\n",
              "  </button>\n",
              "\n",
              "<style>\n",
              "  .colab-df-quickchart {\n",
              "      --bg-color: #E8F0FE;\n",
              "      --fill-color: #1967D2;\n",
              "      --hover-bg-color: #E2EBFA;\n",
              "      --hover-fill-color: #174EA6;\n",
              "      --disabled-fill-color: #AAA;\n",
              "      --disabled-bg-color: #DDD;\n",
              "  }\n",
              "\n",
              "  [theme=dark] .colab-df-quickchart {\n",
              "      --bg-color: #3B4455;\n",
              "      --fill-color: #D2E3FC;\n",
              "      --hover-bg-color: #434B5C;\n",
              "      --hover-fill-color: #FFFFFF;\n",
              "      --disabled-bg-color: #3B4455;\n",
              "      --disabled-fill-color: #666;\n",
              "  }\n",
              "\n",
              "  .colab-df-quickchart {\n",
              "    background-color: var(--bg-color);\n",
              "    border: none;\n",
              "    border-radius: 50%;\n",
              "    cursor: pointer;\n",
              "    display: none;\n",
              "    fill: var(--fill-color);\n",
              "    height: 32px;\n",
              "    padding: 0;\n",
              "    width: 32px;\n",
              "  }\n",
              "\n",
              "  .colab-df-quickchart:hover {\n",
              "    background-color: var(--hover-bg-color);\n",
              "    box-shadow: 0 1px 2px rgba(60, 64, 67, 0.3), 0 1px 3px 1px rgba(60, 64, 67, 0.15);\n",
              "    fill: var(--button-hover-fill-color);\n",
              "  }\n",
              "\n",
              "  .colab-df-quickchart-complete:disabled,\n",
              "  .colab-df-quickchart-complete:disabled:hover {\n",
              "    background-color: var(--disabled-bg-color);\n",
              "    fill: var(--disabled-fill-color);\n",
              "    box-shadow: none;\n",
              "  }\n",
              "\n",
              "  .colab-df-spinner {\n",
              "    border: 2px solid var(--fill-color);\n",
              "    border-color: transparent;\n",
              "    border-bottom-color: var(--fill-color);\n",
              "    animation:\n",
              "      spin 1s steps(1) infinite;\n",
              "  }\n",
              "\n",
              "  @keyframes spin {\n",
              "    0% {\n",
              "      border-color: transparent;\n",
              "      border-bottom-color: var(--fill-color);\n",
              "      border-left-color: var(--fill-color);\n",
              "    }\n",
              "    20% {\n",
              "      border-color: transparent;\n",
              "      border-left-color: var(--fill-color);\n",
              "      border-top-color: var(--fill-color);\n",
              "    }\n",
              "    30% {\n",
              "      border-color: transparent;\n",
              "      border-left-color: var(--fill-color);\n",
              "      border-top-color: var(--fill-color);\n",
              "      border-right-color: var(--fill-color);\n",
              "    }\n",
              "    40% {\n",
              "      border-color: transparent;\n",
              "      border-right-color: var(--fill-color);\n",
              "      border-top-color: var(--fill-color);\n",
              "    }\n",
              "    60% {\n",
              "      border-color: transparent;\n",
              "      border-right-color: var(--fill-color);\n",
              "    }\n",
              "    80% {\n",
              "      border-color: transparent;\n",
              "      border-right-color: var(--fill-color);\n",
              "      border-bottom-color: var(--fill-color);\n",
              "    }\n",
              "    90% {\n",
              "      border-color: transparent;\n",
              "      border-bottom-color: var(--fill-color);\n",
              "    }\n",
              "  }\n",
              "</style>\n",
              "\n",
              "  <script>\n",
              "    async function quickchart(key) {\n",
              "      const quickchartButtonEl =\n",
              "        document.querySelector('#' + key + ' button');\n",
              "      quickchartButtonEl.disabled = true;  // To prevent multiple clicks.\n",
              "      quickchartButtonEl.classList.add('colab-df-spinner');\n",
              "      try {\n",
              "        const charts = await google.colab.kernel.invokeFunction(\n",
              "            'suggestCharts', [key], {});\n",
              "      } catch (error) {\n",
              "        console.error('Error during call to suggestCharts:', error);\n",
              "      }\n",
              "      quickchartButtonEl.classList.remove('colab-df-spinner');\n",
              "      quickchartButtonEl.classList.add('colab-df-quickchart-complete');\n",
              "    }\n",
              "    (() => {\n",
              "      let quickchartButtonEl =\n",
              "        document.querySelector('#df-bc92202b-5fc9-4352-9f6c-db0b56a3cc55 button');\n",
              "      quickchartButtonEl.style.display =\n",
              "        google.colab.kernel.accessAllowed ? 'block' : 'none';\n",
              "    })();\n",
              "  </script>\n",
              "</div>\n",
              "\n",
              "  <div id=\"id_d0235585-06c1-4422-a5c9-56b97d8f6ffa\">\n",
              "    <style>\n",
              "      .colab-df-generate {\n",
              "        background-color: #E8F0FE;\n",
              "        border: none;\n",
              "        border-radius: 50%;\n",
              "        cursor: pointer;\n",
              "        display: none;\n",
              "        fill: #1967D2;\n",
              "        height: 32px;\n",
              "        padding: 0 0 0 0;\n",
              "        width: 32px;\n",
              "      }\n",
              "\n",
              "      .colab-df-generate:hover {\n",
              "        background-color: #E2EBFA;\n",
              "        box-shadow: 0px 1px 2px rgba(60, 64, 67, 0.3), 0px 1px 3px 1px rgba(60, 64, 67, 0.15);\n",
              "        fill: #174EA6;\n",
              "      }\n",
              "\n",
              "      [theme=dark] .colab-df-generate {\n",
              "        background-color: #3B4455;\n",
              "        fill: #D2E3FC;\n",
              "      }\n",
              "\n",
              "      [theme=dark] .colab-df-generate:hover {\n",
              "        background-color: #434B5C;\n",
              "        box-shadow: 0px 1px 3px 1px rgba(0, 0, 0, 0.15);\n",
              "        filter: drop-shadow(0px 1px 2px rgba(0, 0, 0, 0.3));\n",
              "        fill: #FFFFFF;\n",
              "      }\n",
              "    </style>\n",
              "    <button class=\"colab-df-generate\" onclick=\"generateWithVariable('y_pred')\"\n",
              "            title=\"Generate code using this dataframe.\"\n",
              "            style=\"display:none;\">\n",
              "\n",
              "  <svg xmlns=\"http://www.w3.org/2000/svg\" height=\"24px\"viewBox=\"0 0 24 24\"\n",
              "       width=\"24px\">\n",
              "    <path d=\"M7,19H8.4L18.45,9,17,7.55,7,17.6ZM5,21V16.75L18.45,3.32a2,2,0,0,1,2.83,0l1.4,1.43a1.91,1.91,0,0,1,.58,1.4,1.91,1.91,0,0,1-.58,1.4L9.25,21ZM18.45,9,17,7.55Zm-12,3A5.31,5.31,0,0,0,4.9,8.1,5.31,5.31,0,0,0,1,6.5,5.31,5.31,0,0,0,4.9,4.9,5.31,5.31,0,0,0,6.5,1,5.31,5.31,0,0,0,8.1,4.9,5.31,5.31,0,0,0,12,6.5,5.46,5.46,0,0,0,6.5,12Z\"/>\n",
              "  </svg>\n",
              "    </button>\n",
              "    <script>\n",
              "      (() => {\n",
              "      const buttonEl =\n",
              "        document.querySelector('#id_d0235585-06c1-4422-a5c9-56b97d8f6ffa button.colab-df-generate');\n",
              "      buttonEl.style.display =\n",
              "        google.colab.kernel.accessAllowed ? 'block' : 'none';\n",
              "\n",
              "      buttonEl.onclick = () => {\n",
              "        google.colab.notebook.generateWithVariable('y_pred');\n",
              "      }\n",
              "      })();\n",
              "    </script>\n",
              "  </div>\n",
              "\n",
              "    </div>\n",
              "  </div>\n"
            ],
            "application/vnd.google.colaboratory.intrinsic+json": {
              "type": "dataframe",
              "variable_name": "y_pred",
              "repr_error": "0"
            }
          },
          "metadata": {},
          "execution_count": 84
        }
      ]
    },
    {
      "cell_type": "code",
      "source": [
        "# Desempeño de cada árbol\n",
        "for i in range(n_B):\n",
        "    print('Árbol ', i, 'tiene un error: ', np.sqrt(mean_squared_error(y_pred.iloc[:,i], y_test)))"
      ],
      "metadata": {
        "id": "uIg7fWPie0P6",
        "colab": {
          "base_uri": "https://localhost:8080/"
        },
        "outputId": "e63db0d0-cb17-4fb5-d96a-e4bc2c429a3b"
      },
      "execution_count": null,
      "outputs": [
        {
          "output_type": "stream",
          "name": "stdout",
          "text": [
            "Árbol  0 tiene un error:  1660.1411726141453\n",
            "Árbol  1 tiene un error:  1624.2014889152688\n",
            "Árbol  2 tiene un error:  1619.3033008294965\n",
            "Árbol  3 tiene un error:  1661.0335050691997\n",
            "Árbol  4 tiene un error:  1642.5555994451854\n",
            "Árbol  5 tiene un error:  1630.948425578028\n",
            "Árbol  6 tiene un error:  1663.1370581249548\n",
            "Árbol  7 tiene un error:  1651.6951167490276\n",
            "Árbol  8 tiene un error:  1659.3293244606423\n",
            "Árbol  9 tiene un error:  1635.898227033642\n"
          ]
        }
      ]
    },
    {
      "cell_type": "code",
      "source": [
        "# Predicciones promedio para cada obserbación del set de test\n",
        "y_pred.mean(axis=1)"
      ],
      "metadata": {
        "id": "lnu1WRyTe5yy",
        "colab": {
          "base_uri": "https://localhost:8080/"
        },
        "outputId": "1a9c1adb-eadc-4dc0-c249-710ac30122f8"
      },
      "execution_count": null,
      "outputs": [
        {
          "output_type": "execute_result",
          "data": {
            "text/plain": [
              "257343    10298.3\n",
              "326011     6664.4\n",
              "242354    15788.7\n",
              "266376    19144.3\n",
              "396954    17876.7\n",
              "           ...   \n",
              "144298    17082.1\n",
              "364521    15324.5\n",
              "120072    19838.2\n",
              "99878     11493.2\n",
              "387162    12010.6\n",
              "Length: 3464, dtype: object"
            ]
          },
          "metadata": {},
          "execution_count": 86
        }
      ]
    },
    {
      "cell_type": "code",
      "source": [
        "# Error al promediar las predicciones de todos los árboles\n",
        "np.sqrt(mean_squared_error(y_test, y_pred.mean(axis=1)))"
      ],
      "metadata": {
        "id": "nej_5WYQe9XQ",
        "colab": {
          "base_uri": "https://localhost:8080/"
        },
        "outputId": "ffc7105d-99e0-47df-bb32-b0be326f5079"
      },
      "execution_count": null,
      "outputs": [
        {
          "output_type": "execute_result",
          "data": {
            "text/plain": [
              "1224.9754517796266"
            ]
          },
          "metadata": {},
          "execution_count": 87
        }
      ]
    },
    {
      "cell_type": "code",
      "source": [
        "rmse_baggingman = np.sqrt(mean_squared_error(y_test, y_pred.mean(axis=1)))\n",
        "print(\"RMSE Bagging Manual:\", rmse_baggingman)\n",
        "mae_baggingman = mean_absolute_error(y_test, y_pred.mean(axis=1))\n",
        "print(\"MAE Bagging Manual:\", mae_baggingman)"
      ],
      "metadata": {
        "id": "53K0SwDbw9BN",
        "colab": {
          "base_uri": "https://localhost:8080/"
        },
        "outputId": "1a8d20f8-ed3b-400a-cb3b-82a048155cec"
      },
      "execution_count": null,
      "outputs": [
        {
          "output_type": "stream",
          "name": "stdout",
          "text": [
            "RMSE Bagging Manual: 1224.9754517796266\n",
            "MAE Bagging Manual: 799.5513011757295\n"
          ]
        }
      ]
    },
    {
      "cell_type": "markdown",
      "source": [
        "Desempeño del modelo: El modelo de Bagging Manual implementado con 10 estimadores muestra un rendimiento aceptable en la predicción de los valores objetivo. El error cuadrático medio (RMSE) de 1224.98 y el error absoluto medio (MAE) de 799.55 indican que el modelo tiene cierta capacidad para predecir los valores de forma relativamente precisa, se está a la espera de los demás modelos para comparar su rendimiento."
      ],
      "metadata": {
        "id": "DQmiljSCnyH1"
      }
    },
    {
      "cell_type": "markdown",
      "metadata": {
        "id": "Mbkpyx8VQN7m"
      },
      "source": [
        "### Punto 3 - Bagging con librería\n",
        "\n",
        "En la celda 3, con la librería sklearn, entrenen un modelo bagging con 10 árboles de regresión y el parámetro `max_features` igual a `log(n_features)` y comenten sobre el desempeño del modelo."
      ]
    },
    {
      "cell_type": "code",
      "execution_count": null,
      "metadata": {
        "id": "xTuJl90xQN7n",
        "colab": {
          "base_uri": "https://localhost:8080/"
        },
        "outputId": "273ac126-9c8c-45f1-9d69-126ea81642b9"
      },
      "outputs": [
        {
          "output_type": "stream",
          "name": "stdout",
          "text": [
            "Desempeño del modelo de Bagging con CV:\n",
            "RMSE: 1316.4423897613187\n",
            "MAE: 989.7761001938304\n"
          ]
        }
      ],
      "source": [
        "# Celda 3\n",
        "max_features = int(np.log2(X.shape[1]))\n",
        "\n",
        "# Definir el estimador base para Bagging (Árbol de Decisión con max_features)\n",
        "base_estimator = DecisionTreeRegressor(max_features=max_features, random_state=42)\n",
        "\n",
        "# Crear el modelo de Bagging con los hiperparámetros especificados\n",
        "bagging_model_cv = BaggingRegressor(base_estimator=base_estimator, n_estimators=10, random_state=42)\n",
        "\n",
        "# Aplicar CV al modelo utilizando 5-fold cross-validation\n",
        "cv_scores = cross_val_score(bagging_model_cv, X_train, y_train, cv=5, scoring='neg_mean_squared_error')\n",
        "\n",
        "# Entrenar el modelo utilizando todos los datos de entrenamiento\n",
        "bagging_model_cv.fit(X_train, y_train)\n",
        "\n",
        "# Realizar predicciones en el conjunto de prueba\n",
        "y_pred_test_cv = bagging_model_cv.predict(X_test)\n",
        "\n",
        "# Calcular métricas de evaluación\n",
        "rmse_bagging_cv = np.sqrt(-cv_scores.mean())  # Usamos la media del negativo de los scores para obtener el RMSE\n",
        "mae_bagging_cv = mean_absolute_error(y_test, y_pred_test_cv)\n",
        "\n",
        "# Imprimir el desempeño del modelo\n",
        "print(\"Desempeño del modelo de Bagging con CV:\")\n",
        "print(\"RMSE:\", rmse_bagging_cv)\n",
        "print(\"MAE:\", mae_bagging_cv)"
      ]
    },
    {
      "cell_type": "markdown",
      "source": [
        "**Desempeño del modelo Bagging con librería:** El modelo de Bagging que hemos implementado muestra un buen poder de predicción, con un RMSE de 1316.44 y un MAE de 989.77 tras la aplicación de la validación cruzada (CV). Estos resultados indican que el modelo tiene la capacidad de hacer predicciones con una precisión bastante aceptable. Es importante destacar que la utilización de la validación cruzada (CV) nos permitió una evaluación más robusta del modelo. Además, dos factores clave en el rendimiento del modelo son la cantidad de características que cada árbol considera (max_features) y el número total de árboles en el modelo (n_estimators). En este caso, definimos max_features como el logaritmo base 2 del número total de características en nuestros datos y utilizamos 10 estimadores. Esta configuración parece estar dando resultados razonables, pero siempre hay margen para ajustes y mejoras si queremos refinar aún más nuestro modelo."
      ],
      "metadata": {
        "id": "zLAPKEf9flpy"
      }
    },
    {
      "cell_type": "markdown",
      "metadata": {
        "id": "Nt32GVdJQN7n"
      },
      "source": [
        "### Punto 4 - Random forest con librería\n",
        "\n",
        "En la celda 4, usando la librería sklearn entrenen un modelo de Randon Forest para regresión  y comenten sobre el desempeño del modelo."
      ]
    },
    {
      "cell_type": "code",
      "execution_count": null,
      "metadata": {
        "id": "rK8hwnY3QN7n",
        "colab": {
          "base_uri": "https://localhost:8080/"
        },
        "outputId": "09ed2fda-f15d-48f5-f090-3a7094697930"
      },
      "outputs": [
        {
          "output_type": "stream",
          "name": "stdout",
          "text": [
            "Desempeño del modelo de Random Forest con CV:\n",
            "RMSE: 1277.9854711184116\n",
            "MAE: 948.9949724696653\n"
          ]
        }
      ],
      "source": [
        "# Crear el modelo de Random Forest con los hiperparámetros especificados\n",
        "random_forest_model_cv = RandomForestRegressor(n_estimators=100, random_state=42)\n",
        "\n",
        "# Aplicar CV al modelo utilizando 5-fold cross-validation\n",
        "cv_scores = cross_val_score(random_forest_model_cv, X_train, y_train, cv=5, scoring='neg_mean_squared_error')\n",
        "\n",
        "# Entrenar el modelo utilizando todos los datos de entrenamiento\n",
        "random_forest_model_cv.fit(X_train, y_train)\n",
        "\n",
        "# Realizar predicciones en el conjunto de prueba\n",
        "y_pred_rf_cv = random_forest_model_cv.predict(X_test)\n",
        "\n",
        "# Calcular métricas de evaluación\n",
        "rmse_rf_cv = np.sqrt(-cv_scores.mean())  # Usamos la media del negativo de los scores para obtener el RMSE\n",
        "mae_rf_cv = mean_absolute_error(y_test, y_pred_rf_cv)\n",
        "\n",
        "# Imprimir el desempeño del modelo\n",
        "print(\"Desempeño del modelo de Random Forest con CV:\")\n",
        "print(\"RMSE:\", rmse_rf_cv)\n",
        "print(\"MAE:\", mae_rf_cv)"
      ]
    },
    {
      "cell_type": "markdown",
      "source": [
        "**Desempeño del modelo Random Forest con librería:** El modelo de Random Forest que hemos entrenado con 100 árboles parece estar ofreciendo una sólida capacidad predictiva. Con un RMSE de 1277.98 y un MAE de 948.99, demuestra una buena capacidad para predecir la variable de respuesta. La elección de un mayor número de árboles parece beneficiar la precisión del modelo al permitir capturar una amplia variedad de patrones en los datos. Al aplicar la validación cruzada, hemos reforzado la evaluación del modelo, garantizando una mayor confianza en su rendimiento consistente y confiable en futuras predicciones. Estos resultados respaldan la viabilidad del modelo de Random Forest y su capacidad para proporcionar resultados sólidos y fiables."
      ],
      "metadata": {
        "id": "R4uPFU-qpWfz"
      }
    },
    {
      "cell_type": "markdown",
      "metadata": {
        "id": "cDRILvonQN7n"
      },
      "source": [
        "### Punto 5 - Calibración de parámetros Random forest\n",
        "\n",
        "En la celda 5, calibren los parámetros max_depth, max_features y n_estimators del modelo de Randon Forest para regresión, comenten sobre el desempeño del modelo y describan cómo cada parámetro afecta el desempeño del modelo."
      ]
    },
    {
      "cell_type": "markdown",
      "source": [
        "# **Calibración de max_depth**"
      ],
      "metadata": {
        "id": "gwv2daTVL1Mw"
      }
    },
    {
      "cell_type": "code",
      "execution_count": null,
      "metadata": {
        "id": "8fbyL9-7QN7n",
        "colab": {
          "base_uri": "https://localhost:8080/",
          "height": 507
        },
        "outputId": "3bc50b68-cc77-4806-be55-e766213caadf"
      },
      "outputs": [
        {
          "output_type": "stream",
          "name": "stdout",
          "text": [
            "El menor RMSE promedio utilizando CV es: 1273.663180379359\n",
            "Su correspondiente valor de max_depth es: 19\n"
          ]
        },
        {
          "output_type": "display_data",
          "data": {
            "text/plain": [
              "<Figure size 640x480 with 1 Axes>"
            ],
            "image/png": "[encoded data removed]"
          },
          "metadata": {}
        }
      ],
      "source": [
        "# Celda 5\n",
        "\n",
        "rmse_scores_cv = []\n",
        "\n",
        "max_depth_range = range(1, 21)\n",
        "\n",
        "for max_depth in max_depth_range:\n",
        "    random_forest_model = RandomForestRegressor(n_estimators=100, max_depth=max_depth, random_state=42)\n",
        "    # Realizar cross-validation con 5 folds\n",
        "    rmse_cv = -cross_val_score(random_forest_model, X_train, y_train, cv=5, scoring='neg_root_mean_squared_error').mean()\n",
        "    rmse_scores_cv.append(rmse_cv)\n",
        "\n",
        "# Encontrar el menor RMSE y su correspondiente max_depth\n",
        "min_rmse_depth_cv = min(rmse_scores_cv)\n",
        "best_max_depth_cv = max_depth_range[rmse_scores_cv.index(min_rmse_depth_cv)]\n",
        "\n",
        "# Imprimir el resultado\n",
        "print(\"El menor RMSE promedio utilizando CV es:\", min_rmse_depth_cv)\n",
        "print(\"Su correspondiente valor de max_depth es:\", best_max_depth_cv)\n",
        "\n",
        "plt.plot(max_depth_range, rmse_scores_cv, marker='o', linestyle='-')\n",
        "plt.xlabel('max_depth')\n",
        "plt.ylabel('RMSE promedio utilizando CV')\n",
        "plt.title('RMSE promedio utilizando CV vs. max_depth para Random Forest')\n",
        "plt.xticks(max_depth_range)\n",
        "plt.grid(True)\n",
        "plt.show()\n"
      ]
    },
    {
      "cell_type": "markdown",
      "source": [
        "# **Calibración de max_features**"
      ],
      "metadata": {
        "id": "mjBFfLr4MLQm"
      }
    },
    {
      "cell_type": "code",
      "source": [
        "# Lista para almacenar los resultados de RMSE promedio utilizando CV para diferentes valores de max_features\n",
        "rmse_scores_mf_cv = []\n",
        "\n",
        "# Rango de valores para max_features a probar\n",
        "feature_cols = data.columns[data.columns != 'Price']\n",
        "feature_range = range(1, len(feature_cols) + 1)\n",
        "\n",
        "# Entrenar modelos con diferentes valores de max_features y calcular RMSE promedio utilizando CV\n",
        "for max_features in feature_range:\n",
        "    # Crear el modelo de Random Forest con el valor actual de max_features y best_max_depth_cv\n",
        "    random_forest_model = RandomForestRegressor(n_estimators=100, max_depth=best_max_depth_cv, max_features=max_features, random_state=42)\n",
        "\n",
        "    # Calcular el RMSE promedio utilizando CV con 5 folds\n",
        "    rmse_cv = -cross_val_score(random_forest_model, X_train, y_train, cv=5, scoring='neg_root_mean_squared_error').mean()\n",
        "\n",
        "    # Agregar el RMSE promedio a la lista\n",
        "    rmse_scores_mf_cv.append(rmse_cv)\n",
        "\n",
        "# Encontrar el menor RMSE promedio y su respectivo max_features\n",
        "min_rmse_cv = min(rmse_scores_mf_cv)\n",
        "best_max_features_cv = feature_range[rmse_scores_mf_cv.index(min_rmse_cv)]\n",
        "\n",
        "# Imprimir el resultado\n",
        "print(\"El menor RMSE promedio utilizando CV es:\", min_rmse_cv)\n",
        "print(\"Su respectivo valor de max_features es:\", best_max_features_cv)\n",
        "\n",
        "# Graficar los resultados\n",
        "plt.plot(feature_range, rmse_scores_mf_cv, marker='o', linestyle='-')\n",
        "plt.xlabel('max_features')\n",
        "plt.ylabel('RMSE promedio utilizando CV')\n",
        "plt.title('RMSE promedio utilizando CV vs. max_features para Random Forest')\n",
        "plt.xticks(feature_range)\n",
        "plt.grid(True)\n",
        "plt.show()\n"
      ],
      "metadata": {
        "id": "axVWrCG5A3ki",
        "colab": {
          "base_uri": "https://localhost:8080/",
          "height": 507
        },
        "outputId": "9c821d07-5d7b-4757-c110-83c33bda91cc"
      },
      "execution_count": null,
      "outputs": [
        {
          "output_type": "stream",
          "name": "stdout",
          "text": [
            "El menor RMSE promedio utilizando CV es: 1270.4778071884346\n",
            "Su respectivo valor de max_features es: 6\n"
          ]
        },
        {
          "output_type": "display_data",
          "data": {
            "text/plain": [
              "<Figure size 640x480 with 1 Axes>"
            ],
            "image/png": "[encoded data removed]"
          },
          "metadata": {}
        }
      ]
    },
    {
      "cell_type": "markdown",
      "source": [
        "# **Calibración de n_estimators**"
      ],
      "metadata": {
        "id": "NvcEkcW9MTy1"
      }
    },
    {
      "cell_type": "code",
      "source": [
        "# Lista para almacenar los resultados de RMSE promedio utilizando CV para diferentes valores de n_estimators\n",
        "rmse_scores_cv = []\n",
        "\n",
        "# Rango de valores para n_estimators a probar\n",
        "n_estimators_range = range(10, 310, 10)\n",
        "\n",
        "# Entrenar modelos con diferentes valores de n_estimators y calcular RMSE promedio utilizando CV\n",
        "for n_estimators in n_estimators_range:\n",
        "    # Crear el modelo de Random Forest con el valor actual de n_estimators, best_max_depth_cv y best_max_features_cv\n",
        "    random_forest_model = RandomForestRegressor(n_estimators=n_estimators, max_depth=best_max_depth_cv, max_features=best_max_features_cv, random_state=42)\n",
        "\n",
        "    # Calcular el RMSE promedio utilizando CV con 5 folds\n",
        "    rmse_cv = -cross_val_score(random_forest_model, X_train, y_train, cv=5, scoring='neg_root_mean_squared_error').mean()\n",
        "\n",
        "    # Agregar el RMSE promedio a la lista\n",
        "    rmse_scores_cv.append(rmse_cv)\n",
        "\n",
        "# Encontrar el mínimo RMSE promedio y su respectivo n_estimators\n",
        "min_rmse_cv = min(rmse_scores_cv)\n",
        "n_estimators_optimo_cv = n_estimators_range[rmse_scores_cv.index(min_rmse_cv)]\n",
        "\n",
        "# Imprimir el resultado\n",
        "print(\"El mínimo RMSE promedio utilizando CV es:\", min_rmse_cv)\n",
        "print(\"Corresponde a n_estimators =\", n_estimators_optimo_cv)\n",
        "\n",
        "# Graficar los resultados\n",
        "plt.plot(n_estimators_range, rmse_scores_cv, marker='o', linestyle='-')\n",
        "plt.xlabel('n_estimators')\n",
        "plt.ylabel('RMSE promedio utilizando CV')\n",
        "plt.title('RMSE promedio utilizando CV vs. n_estimators para Random Forest')\n",
        "plt.xticks(n_estimators_range, rotation=90)\n",
        "plt.grid(True)\n",
        "plt.show()\n"
      ],
      "metadata": {
        "id": "egOJE0g8C3_5",
        "colab": {
          "base_uri": "https://localhost:8080/",
          "height": 519
        },
        "outputId": "eeabc7c2-7730-45a3-952e-65b5947766fc"
      },
      "execution_count": null,
      "outputs": [
        {
          "output_type": "stream",
          "name": "stdout",
          "text": [
            "El mínimo RMSE promedio utilizando CV es: 1270.3598289118456\n",
            "Corresponde a n_estimators = 110\n"
          ]
        },
        {
          "output_type": "display_data",
          "data": {
            "text/plain": [
              "<Figure size 640x480 with 1 Axes>"
            ],
            "image/png": "[encoded data removed]"
          },
          "metadata": {}
        }
      ]
    },
    {
      "cell_type": "markdown",
      "source": [
        "## **Implementación de un Random Forest con los mejores parámetros**"
      ],
      "metadata": {
        "id": "wiTLsXIFMgft"
      }
    },
    {
      "cell_type": "code",
      "source": [
        "# Crear el modelo de Random Forest con los hiperparámetros especificados\n",
        "random_forest_model_cv = RandomForestRegressor(n_estimators=n_estimators_optimo_cv, max_depth=best_max_depth_cv, max_features=best_max_features_cv, random_state=42)\n",
        "\n",
        "# Aplicar CV al modelo utilizando 5-fold cross-validation\n",
        "cv_scores = cross_val_score(random_forest_model_cv, X_train, y_train, cv=5, scoring='neg_mean_squared_error')\n",
        "\n",
        "# Entrenar el modelo utilizando todos los datos de entrenamiento\n",
        "random_forest_model_cv.fit(X_train, y_train)\n",
        "\n",
        "# Realizar predicciones en el conjunto de prueba\n",
        "y_pred_rf_cv = random_forest_model_cv.predict(X_test)\n",
        "\n",
        "# Calcular métricas de evaluación\n",
        "rmse_rf_c_cv = np.sqrt(-cv_scores.mean())  # Usamos la media del negativo de los scores para obtener el RMSE\n",
        "mae_rf_c_cv = mean_absolute_error(y_test, y_pred_rf_cv)\n",
        "\n",
        "# Imprimir el desempeño del modelo\n",
        "print(\"Desempeño del modelo de Random Forest con CV:\")\n",
        "print(\"RMSE:\", rmse_rf_c_cv)\n",
        "print(\"MAE:\", mae_rf_c_cv)"
      ],
      "metadata": {
        "id": "Cr_QQ5_HG4nm",
        "colab": {
          "base_uri": "https://localhost:8080/"
        },
        "outputId": "4790014d-7b08-42c4-b9bd-998a45fb02d2"
      },
      "execution_count": null,
      "outputs": [
        {
          "output_type": "stream",
          "name": "stdout",
          "text": [
            "Desempeño del modelo de Random Forest con CV:\n",
            "RMSE: 1271.6932031685697\n",
            "MAE: 965.1170702906762\n"
          ]
        }
      ]
    },
    {
      "cell_type": "markdown",
      "source": [
        "**Desempeño del modelo Random Forest con mejores parámetros:** El modelo de Random Forest es notable, con un RMSE de 1271.69 y un MAE de 965.11, demostrando una capacidad sólida para predecir la variable objetivo con precisión. Al ajustar cada hiperparámetro, se observa cómo influyen en el rendimiento del modelo. Inicialmente, al variar la profundidad máxima de los árboles, se identifica el valor óptimo de max_depth como 19, lo que sugiere un equilibrio entre la complejidad del modelo y su capacidad para generalizar. Luego, al ajustar max_features, se encuentra que un valor de 6 minimiza aún más el RMSE, destacando la importancia de una selección cuidadosa de características para capturar la variabilidad en los datos. Por último, al ajustar n_estimators, se determina que 110 estimadores ofrecen el mejor desempeño, consolidando la estabilidad del modelo y mejorando su precisión predictiva. Además, al aplicar la validación cruzada, reforzamos la evaluación del modelo, garantizando una mayor confianza en su rendimiento consistente y confiable en futuras predicciones. Es crucial destacar que el valor óptimo de un hiperparámetro se utiliza como entrada para calibrar el siguiente, creando así un proceso iterativo de optimización. Una vez que todos los hiperparámetros están calibrados, se ensambla el modelo final con los valores óptimos, lo que garantiza un desempeño optimizado y confiable en la predicción de la variable objetivo."
      ],
      "metadata": {
        "id": "lnnaEXlwpezf"
      }
    },
    {
      "cell_type": "markdown",
      "metadata": {
        "id": "aLn4B81HQN7n"
      },
      "source": [
        "### Punto 6 - XGBoost con librería\n",
        "\n",
        "En la celda 6 implementen un modelo XGBoost de regresión con la librería sklearn y comenten sobre el desempeño del modelo."
      ]
    },
    {
      "cell_type": "code",
      "execution_count": null,
      "metadata": {
        "id": "1IRdZzNeQN7n",
        "colab": {
          "base_uri": "https://localhost:8080/",
          "height": 248
        },
        "outputId": "06af9db4-cd59-41da-9b28-45b5653a0e1b"
      },
      "outputs": [
        {
          "output_type": "execute_result",
          "data": {
            "text/plain": [
              "XGBRegressor(base_score=None, booster=None, callbacks=None,\n",
              "             colsample_bylevel=None, colsample_bynode=None,\n",
              "             colsample_bytree=None, cv=5, device=None,\n",
              "             early_stopping_rounds=None, enable_categorical=False,\n",
              "             eval_metric=None, feature_types=None, gamma=None, grow_policy=None,\n",
              "             importance_type=None, interaction_constraints=None,\n",
              "             learning_rate=None, max_bin=None, max_cat_threshold=None,\n",
              "             max_cat_to_onehot=None, max_delta_step=None, max_depth=None,\n",
              "             max_leaves=None, min_child_weight=None, missing=nan,\n",
              "             monotone_constraints=None, multi_strategy=None, n_estimators=None,\n",
              "             n_jobs=None, num_parallel_tree=None, ...)"
            ],
            "text/html": [
              "<style>#sk-container-id-8 {color: black;background-color: white;}#sk-container-id-8 pre{padding: 0;}#sk-container-id-8 div.sk-toggleable {background-color: white;}#sk-container-id-8 label.sk-toggleable__label {cursor: pointer;display: block;width: 100%;margin-bottom: 0;padding: 0.3em;box-sizing: border-box;text-align: center;}#sk-container-id-8 label.sk-toggleable__label-arrow:before {content: \"▸\";float: left;margin-right: 0.25em;color: #696969;}#sk-container-id-8 label.sk-toggleable__label-arrow:hover:before {color: black;}#sk-container-id-8 div.sk-estimator:hover label.sk-toggleable__label-arrow:before {color: black;}#sk-container-id-8 div.sk-toggleable__content {max-height: 0;max-width: 0;overflow: hidden;text-align: left;background-color: #f0f8ff;}#sk-container-id-8 div.sk-toggleable__content pre {margin: 0.2em;color: black;border-radius: 0.25em;background-color: #f0f8ff;}#sk-container-id-8 input.sk-toggleable__control:checked~div.sk-toggleable__content {max-height: 200px;max-width: 100%;overflow: auto;}#sk-container-id-8 input.sk-toggleable__control:checked~label.sk-toggleable__label-arrow:before {content: \"▾\";}#sk-container-id-8 div.sk-estimator input.sk-toggleable__control:checked~label.sk-toggleable__label {background-color: #d4ebff;}#sk-container-id-8 div.sk-label input.sk-toggleable__control:checked~label.sk-toggleable__label {background-color: #d4ebff;}#sk-container-id-8 input.sk-hidden--visually {border: 0;clip: rect(1px 1px 1px 1px);clip: rect(1px, 1px, 1px, 1px);height: 1px;margin: -1px;overflow: hidden;padding: 0;position: absolute;width: 1px;}#sk-container-id-8 div.sk-estimator {font-family: monospace;background-color: #f0f8ff;border: 1px dotted black;border-radius: 0.25em;box-sizing: border-box;margin-bottom: 0.5em;}#sk-container-id-8 div.sk-estimator:hover {background-color: #d4ebff;}#sk-container-id-8 div.sk-parallel-item::after {content: \"\";width: 100%;border-bottom: 1px solid gray;flex-grow: 1;}#sk-container-id-8 div.sk-label:hover label.sk-toggleable__label {background-color: #d4ebff;}#sk-container-id-8 div.sk-serial::before {content: \"\";position: absolute;border-left: 1px solid gray;box-sizing: border-box;top: 0;bottom: 0;left: 50%;z-index: 0;}#sk-container-id-8 div.sk-serial {display: flex;flex-direction: column;align-items: center;background-color: white;padding-right: 0.2em;padding-left: 0.2em;position: relative;}#sk-container-id-8 div.sk-item {position: relative;z-index: 1;}#sk-container-id-8 div.sk-parallel {display: flex;align-items: stretch;justify-content: center;background-color: white;position: relative;}#sk-container-id-8 div.sk-item::before, #sk-container-id-8 div.sk-parallel-item::before {content: \"\";position: absolute;border-left: 1px solid gray;box-sizing: border-box;top: 0;bottom: 0;left: 50%;z-index: -1;}#sk-container-id-8 div.sk-parallel-item {display: flex;flex-direction: column;z-index: 1;position: relative;background-color: white;}#sk-container-id-8 div.sk-parallel-item:first-child::after {align-self: flex-end;width: 50%;}#sk-container-id-8 div.sk-parallel-item:last-child::after {align-self: flex-start;width: 50%;}#sk-container-id-8 div.sk-parallel-item:only-child::after {width: 0;}#sk-container-id-8 div.sk-dashed-wrapped {border: 1px dashed gray;margin: 0 0.4em 0.5em 0.4em;box-sizing: border-box;padding-bottom: 0.4em;background-color: white;}#sk-container-id-8 div.sk-label label {font-family: monospace;font-weight: bold;display: inline-block;line-height: 1.2em;}#sk-container-id-8 div.sk-label-container {text-align: center;}#sk-container-id-8 div.sk-container {/* jupyter's `normalize.less` sets `[hidden] { display: none; }` but bootstrap.min.css set `[hidden] { display: none !important; }` so we also need the `!important` here to be able to override the default hidden behavior on the sphinx rendered scikit-learn.org. See: https://github.com/scikit-learn/scikit-learn/issues/21755 */display: inline-block !important;position: relative;}#sk-container-id-8 div.sk-text-repr-fallback {display: none;}</style><div id=\"sk-container-id-8\" class=\"sk-top-container\"><div class=\"sk-text-repr-fallback\"><pre>XGBRegressor(base_score=None, booster=None, callbacks=None,\n",
              "             colsample_bylevel=None, colsample_bynode=None,\n",
              "             colsample_bytree=None, cv=5, device=None,\n",
              "             early_stopping_rounds=None, enable_categorical=False,\n",
              "             eval_metric=None, feature_types=None, gamma=None, grow_policy=None,\n",
              "             importance_type=None, interaction_constraints=None,\n",
              "             learning_rate=None, max_bin=None, max_cat_threshold=None,\n",
              "             max_cat_to_onehot=None, max_delta_step=None, max_depth=None,\n",
              "             max_leaves=None, min_child_weight=None, missing=nan,\n",
              "             monotone_constraints=None, multi_strategy=None, n_estimators=None,\n",
              "             n_jobs=None, num_parallel_tree=None, ...)</pre><b>In a Jupyter environment, please rerun this cell to show the HTML representation or trust the notebook. <br />On GitHub, the HTML representation is unable to render, please try loading this page with nbviewer.org.</b></div><div class=\"sk-container\" hidden><div class=\"sk-item\"><div class=\"sk-estimator sk-toggleable\"><input class=\"sk-toggleable__control sk-hidden--visually\" id=\"sk-estimator-id-8\" type=\"checkbox\" checked><label for=\"sk-estimator-id-8\" class=\"sk-toggleable__label sk-toggleable__label-arrow\">XGBRegressor</label><div class=\"sk-toggleable__content\"><pre>XGBRegressor(base_score=None, booster=None, callbacks=None,\n",
              "             colsample_bylevel=None, colsample_bynode=None,\n",
              "             colsample_bytree=None, cv=5, device=None,\n",
              "             early_stopping_rounds=None, enable_categorical=False,\n",
              "             eval_metric=None, feature_types=None, gamma=None, grow_policy=None,\n",
              "             importance_type=None, interaction_constraints=None,\n",
              "             learning_rate=None, max_bin=None, max_cat_threshold=None,\n",
              "             max_cat_to_onehot=None, max_delta_step=None, max_depth=None,\n",
              "             max_leaves=None, min_child_weight=None, missing=nan,\n",
              "             monotone_constraints=None, multi_strategy=None, n_estimators=None,\n",
              "             n_jobs=None, num_parallel_tree=None, ...)</pre></div></div></div></div></div>"
            ]
          },
          "metadata": {},
          "execution_count": 249
        }
      ],
      "source": [
        "# Celda 6\n",
        "xgb_regressor = XGBRegressor(random_state = 1, cv = 5)\n",
        "xgb_regressor"
      ]
    },
    {
      "cell_type": "code",
      "source": [
        "# Entrenamiento Modelo XGBRegressor\n",
        "xgb_regressor.fit(X_train, y_train)\n",
        "y_pred_xgb = xgb_regressor.predict(X_test)\n",
        "\n",
        "# Métricas del Modelo\n",
        "rmse_xgboost = np.sqrt(metrics.mean_squared_error(y_pred_xgb, y_test.values))\n",
        "mae_xgboost = metrics.mean_absolute_error(y_pred_xgb, y_test.values)\n",
        "\n",
        "print(f'El RMSE del modelo XGBRegressor es {rmse_xgboost} \\nEl MAE del modelo XGBRegressor es {mae_xgboost}')"
      ],
      "metadata": {
        "id": "SZhCcMeNi7Bx",
        "colab": {
          "base_uri": "https://localhost:8080/"
        },
        "outputId": "4d80aad1-620e-4f00-d960-bf9c70892e89"
      },
      "execution_count": null,
      "outputs": [
        {
          "output_type": "stream",
          "name": "stdout",
          "text": [
            "El RMSE del modelo XGBRegressor es 1486.5326837665966 \n",
            "El MAE del modelo XGBRegressor es 1075.289324260474\n"
          ]
        }
      ]
    },
    {
      "cell_type": "markdown",
      "source": [
        "**Desempeño del modelo XGBoost**: El modelo de XGBoost estimado, muestra un rendimiento aceptable en la predicción de los valores objetivo. El error cuadrático medio (RMSE) es de 1486.53 y el error absoluto medio (MAE) es de 1075.29 indican que el modelo tiene cierta capacidad para predecir los valores."
      ],
      "metadata": {
        "id": "bzITpVTGSOFA"
      }
    },
    {
      "cell_type": "markdown",
      "metadata": {
        "id": "pShZ0utQQN7o"
      },
      "source": [
        "### Punto 7 - Calibración de parámetros XGBoost\n",
        "\n",
        "En la celda 7 calibren los parámetros learning rate, gamma y colsample_bytree del modelo XGBoost para regresión, comenten sobre el desempeño del modelo y describan cómo cada parámetro afecta el desempeño del modelo."
      ]
    },
    {
      "cell_type": "markdown",
      "source": [
        "# **Calibración Learning Rate**"
      ],
      "metadata": {
        "id": "dB6A5sl8f9lU"
      }
    },
    {
      "cell_type": "code",
      "source": [
        "# Celda 7\n",
        "learning_range = np.arange(0.01, 0.5, 0.05)\n",
        "\n",
        "# Definición de lista para almacenar RMSE\n",
        "learning_rmse = []\n",
        "\n",
        "for rate in learning_range:\n",
        "    xgb_reg = XGBRegressor(learning_rate = rate, random_state=1, cv = 5)\n",
        "    xgb_reg.fit(X_train, y_train)\n",
        "    y_pred_xgbreg = xgb_reg.predict(X_test)\n",
        "    rmse_xgb = np.sqrt(mean_squared_error(y_test, y_pred_xgbreg))\n",
        "    learning_rmse.append(rmse_xgb)\n",
        "\n",
        "# Encontrar el menor RMSE y su correspondiente learning_rate\n",
        "min_rmse_learning = min(learning_rmse)\n",
        "best_learning = learning_range[learning_rmse.index(min_rmse_learning)]\n",
        "\n",
        "# Imprimir el resultado\n",
        "print(\"El menor RMSE es:\", min_rmse_learning)\n",
        "print(\"Su correspondiente valor de learning rate es:\", best_learning)\n",
        "\n",
        "plt.plot(learning_range, learning_rmse, marker='o', linestyle='-')\n",
        "plt.xlabel('Learning Rate')\n",
        "plt.ylabel('RMSE')\n",
        "plt.title('RMSE vs. Learning Rate XGBoost')\n",
        "plt.xticks(learning_range)\n",
        "plt.grid(True)\n",
        "plt.show()"
      ],
      "metadata": {
        "id": "BQ7Bqj7AfHbT",
        "colab": {
          "base_uri": "https://localhost:8080/",
          "height": 509
        },
        "outputId": "2085c61b-7e11-45b5-d8f2-6da2f81d269c"
      },
      "execution_count": null,
      "outputs": [
        {
          "output_type": "stream",
          "name": "stdout",
          "text": [
            "El menor RMSE es: 1483.914341126537\n",
            "Su correspondiente valor de learning rate es: 0.11\n"
          ]
        },
        {
          "output_type": "display_data",
          "data": {
            "text/plain": [
              "<Figure size 640x480 with 1 Axes>"
            ],
            "image/png": "[encoded data removed]"
          },
          "metadata": {}
        }
      ]
    },
    {
      "cell_type": "markdown",
      "source": [
        "# **Calibración Gamma**"
      ],
      "metadata": {
        "id": "R1v582zcrqWq"
      }
    },
    {
      "cell_type": "code",
      "source": [
        "gamma_range = np.arange(0, 0.6, 0.1)\n",
        "\n",
        "# Definición de lista para almacenar RMSE\n",
        "gamma_rmse = []\n",
        "\n",
        "for i in gamma_range:\n",
        "    xgb_reg = XGBRegressor(learning_rate = best_learning, gamma = i, random_state=1, cv = 5)\n",
        "    xgb_reg.fit(X_train, y_train)\n",
        "    y_pred_xgbreg = xgb_reg.predict(X_test)\n",
        "    rmse_xgb = np.sqrt(mean_squared_error(y_test, y_pred_xgbreg))\n",
        "    gamma_rmse.append(rmse_xgb)\n",
        "\n",
        "# Encontrar el menor RMSE y su correspondiente Gamma\n",
        "min_rmse_gamma = min(gamma_rmse)\n",
        "best_gamma = gamma_range[gamma_rmse.index(min_rmse_gamma)]\n",
        "\n",
        "# Imprimir el resultado\n",
        "print(\"El menor RMSE es:\", min_rmse_gamma)\n",
        "print(\"Su correspondiente valor de Gamma es:\", best_gamma)\n",
        "\n",
        "plt.plot(gamma_range, gamma_rmse, marker='o', linestyle='-')\n",
        "plt.xlabel('Gamma')\n",
        "plt.ylabel('RMSE')\n",
        "plt.title('RMSE vs. Gamma XGBoost')\n",
        "plt.xticks(gamma_range)\n",
        "plt.grid(True)\n",
        "plt.show()"
      ],
      "metadata": {
        "id": "ZllWok5tliDN",
        "colab": {
          "base_uri": "https://localhost:8080/",
          "height": 509
        },
        "outputId": "a93a5171-81f5-40e4-f260-f3467099eefb"
      },
      "execution_count": null,
      "outputs": [
        {
          "output_type": "stream",
          "name": "stdout",
          "text": [
            "El menor RMSE es: 1483.914341126537\n",
            "Su correspondiente valor de Gamma es: 0.0\n"
          ]
        },
        {
          "output_type": "display_data",
          "data": {
            "text/plain": [
              "<Figure size 640x480 with 1 Axes>"
            ],
            "image/png": "[encoded data removed]"
          },
          "metadata": {}
        }
      ]
    },
    {
      "cell_type": "markdown",
      "source": [
        "# **Calibración colsample_bytree**"
      ],
      "metadata": {
        "id": "Qzk3GqsvrtJn"
      }
    },
    {
      "cell_type": "code",
      "source": [
        "colsample_range = np.arange(0.3, 0.9, 0.1)\n",
        "\n",
        "# Definición de lista para almacenar RMSE\n",
        "colsample_rmse = []\n",
        "\n",
        "for sample in colsample_range:\n",
        "    xgb_reg = XGBRegressor(learning_rate = best_learning, gamma = best_gamma, colsample_bytree = sample, random_state=1, cv = 5)\n",
        "    xgb_reg.fit(X_train, y_train)\n",
        "    y_pred_xgbreg = xgb_reg.predict(X_test)\n",
        "    rmse_xgb = np.sqrt(mean_squared_error(y_test, y_pred_xgbreg))\n",
        "    colsample_rmse.append(rmse_xgb)\n",
        "\n",
        "# Encontrar el menor RMSE y su correspondiente colsample_bytree\n",
        "min_rmse_colsample = min(colsample_rmse)\n",
        "best_colsample = colsample_range[colsample_rmse.index(min_rmse_colsample)]\n",
        "\n",
        "# Imprimir el resultado\n",
        "print(\"El menor RMSE es:\", min_rmse_colsample)\n",
        "print(\"Su correspondiente valor de colsample_bytree es:\", best_colsample)\n",
        "\n",
        "plt.plot(colsample_range, colsample_rmse, marker='o', linestyle='-')\n",
        "plt.xlabel('colsample_bytree')\n",
        "plt.ylabel('RMSE')\n",
        "plt.title('RMSE vs. colsample_bytree XGBoost')\n",
        "plt.xticks(colsample_range)\n",
        "plt.grid(True)\n",
        "plt.show()"
      ],
      "metadata": {
        "id": "FtLnpWBcrQ2g",
        "colab": {
          "base_uri": "https://localhost:8080/",
          "height": 509
        },
        "outputId": "1125fc36-d6d0-4a09-951b-1d2594f144fb"
      },
      "execution_count": null,
      "outputs": [
        {
          "output_type": "stream",
          "name": "stdout",
          "text": [
            "El menor RMSE es: 1487.6541977894562\n",
            "Su correspondiente valor de colsample_bytree es: 0.9000000000000001\n"
          ]
        },
        {
          "output_type": "display_data",
          "data": {
            "text/plain": [
              "<Figure size 640x480 with 1 Axes>"
            ],
            "image/png": "[encoded data removed]"
          },
          "metadata": {}
        }
      ]
    },
    {
      "cell_type": "markdown",
      "source": [
        "# **Implementación XGBoost con los mejores parámetros**"
      ],
      "metadata": {
        "id": "YcLuO9Yj2qxK"
      }
    },
    {
      "cell_type": "code",
      "source": [
        "xgb_regressor_cal = XGBRegressor(random_state = 1, cv = 5, learning_rate = best_learning, gamma = best_gamma, colsample_bytree = best_colsample )\n",
        "\n",
        "# Entrenamiento Modelo XGBRegressor\n",
        "xgb_regressor_cal.fit(X_train, y_train)\n",
        "y_pred_xgbcal = xgb_regressor_cal.predict(X_test)\n",
        "\n",
        "# Métricas del Modelo\n",
        "rmse_xgboostcal = np.sqrt(metrics.mean_squared_error(y_pred_xgbcal, y_test.values))\n",
        "mae_xgboostcal = metrics.mean_absolute_error(y_pred_xgbcal, y_test.values)\n",
        "\n",
        "print(f'El RMSE del modelo XGBRegressor es {rmse_xgboostcal} \\nEl MAE del modelo XGBRegressor es {mae_xgboostcal}')\n"
      ],
      "metadata": {
        "id": "tKEfUgmvsrgP",
        "colab": {
          "base_uri": "https://localhost:8080/"
        },
        "outputId": "ce011acd-3042-451f-8969-e02d2dcbbd2f"
      },
      "execution_count": null,
      "outputs": [
        {
          "output_type": "stream",
          "name": "stdout",
          "text": [
            "El RMSE del modelo XGBRegressor es 1487.6541977894562 \n",
            "El MAE del modelo XGBRegressor es 1085.7059402289622\n"
          ]
        }
      ]
    },
    {
      "cell_type": "markdown",
      "source": [
        "# **Calibración Parámetros con Grid Search**\n"
      ],
      "metadata": {
        "id": "vaaHgj_E7rIx"
      }
    },
    {
      "cell_type": "code",
      "execution_count": null,
      "metadata": {
        "id": "402Yn2IBQN7o",
        "colab": {
          "base_uri": "https://localhost:8080/"
        },
        "outputId": "a1ae6799-c292-4709-8795-704354c93b1e"
      },
      "outputs": [
        {
          "output_type": "stream",
          "name": "stdout",
          "text": [
            "Fitting 4 folds for each of 48 candidates, totalling 192 fits\n",
            "GridSearchCV\n",
            "Mejores parámetros encontrados:  {'colsample_bytree': 0.9, 'gamma': 0, 'learning_rate': 0.2}\n"
          ]
        }
      ],
      "source": [
        "\n",
        "# Calibración con la estrategia de validación cruzada Grid Search\n",
        "# Parámetros para aplicar Grid Search\n",
        "grid_search_params = {\n",
        "'colsample_bytree': [0.3, 0.5, 0.9],\n",
        "'learning_rate': [0.01, 0.06, 0.11, 0.2],\n",
        "  'gamma': [0, 0.1, 0.2, 0.3]}\n",
        "grid = GridSearchCV(estimator=xgb_regressor, param_grid=grid_search_params, scoring='neg_mean_squared_error', cv=4, verbose=1)\n",
        "grid.fit(X_train, y_train)\n",
        "print(\"GridSearchCV\")\n",
        "print(\"Mejores parámetros encontrados: \", grid.best_params_)"
      ]
    },
    {
      "cell_type": "code",
      "source": [
        "xgb_regr_grid = XGBRegressor(colsample_bytree=grid.best_params_['colsample_bytree'],\n",
        "                             learning_rate=grid.best_params_['learning_rate'],\n",
        "                             gamma=grid.best_params_['gamma'], random_state = 1)\n",
        "xgb_regr_grid.fit(X_train, y_train)\n",
        "y_pred = xgb_regr_grid.predict(X_test)\n",
        "\n",
        "# Métricas del Modelo\n",
        "rmse_xgboost_grid = np.sqrt(metrics.mean_squared_error(y_pred, y_test.values))\n",
        "mae_xgboost_grid = metrics.mean_absolute_error(y_pred, y_test.values)\n",
        "print('El RMSE del modelo XGBRegressor calibrado con Grid search es:', rmse_xgboost_grid)\n",
        "print('El MAE del modelo XGBRegressor calibrado con Grid search es:', mae_xgboost_grid)"
      ],
      "metadata": {
        "id": "0hQQGy_pXuzL",
        "colab": {
          "base_uri": "https://localhost:8080/"
        },
        "outputId": "6d8eae40-996e-4827-f068-72d7a9ccafb9"
      },
      "execution_count": null,
      "outputs": [
        {
          "output_type": "stream",
          "name": "stdout",
          "text": [
            "El RMSE del modelo XGBRegressor calibrado con Grid search es: 1480.8737209980452\n",
            "El MAE del modelo XGBRegressor calibrado con Grid search es: 1078.1213065977736\n"
          ]
        }
      ]
    },
    {
      "cell_type": "markdown",
      "source": [
        "**Desempeño del modelo XGBoost con calibración manual:** Comparando las métricas obtenidas con el modelo calibrado respecto al modelo XGBoost sin calibrar, se aprecia que no hubo mejora, por el contrario se tuvo un RMSE ligeramente mayor.\n",
        "\n",
        "**Efectos de los parámetros en el desempeño del modelo:** El parámetro learning rate presenta un impacto importante en el RMSE al aumentar su valor, a partir de 0.01, punto en el cual la mencionada métrica presenta un valor por encima de 2000. Desde el valor 0.06 en adelante, los resultados del RMSE oscilan sobre 1500, logrando el menor RMSE en 0.11. Para el caso del parámetro gamma, se aprecia que la evaluación de la variación de este parámetro en el rango establecido (de 0 a 0.6) no generó ningún efecto en el RMSE. Finalmente, el parámetro colsample_bytree en la medida que aumenta, causa una reducción del RMSE, logrando el mejor desempeño del sistema con un valor de 0.9.\n",
        "\n",
        "Se ha considerado también en este punto aplicar el procedimiento de calibración empleando el método de Grid Search de la biblioteca scikit_learn sobre las mismas 3 variables. Con este procedimiento se logró un mejor RMSE y MAE que lo obtenido con los modelos sin calibrar y con calibración manual. Los valores óptimos para los parámetros analizados por este método son: learning rate = 0.2, colsample_bytree = 0.9, gamma = 0.\n"
      ],
      "metadata": {
        "id": "TyEqhr8BC2EM"
      }
    },
    {
      "cell_type": "markdown",
      "metadata": {
        "id": "EZbRoGkeQN7o"
      },
      "source": [
        "### Punto 8 - Comparación y análisis de resultados\n",
        "En la celda 8 comparen los resultados obtenidos de los diferentes modelos (random forest y XGBoost) y comenten las ventajas del mejor modelo y las desventajas del modelo con el menor desempeño."
      ]
    },
    {
      "cell_type": "code",
      "execution_count": null,
      "metadata": {
        "id": "Y9-PVPh6QN7o",
        "colab": {
          "base_uri": "https://localhost:8080/",
          "height": 681
        },
        "outputId": "2d8f6dd4-b906-4dee-fe7e-906a1535cbd8"
      },
      "outputs": [
        {
          "output_type": "display_data",
          "data": {
            "text/plain": [
              "<Figure size 640x480 with 1 Axes>"
            ],
            "image/png": "[encoded data removed]"
          },
          "metadata": {}
        }
      ],
      "source": [
        "# Celda 8\n",
        "\n",
        "# RMSE\n",
        "fig = plt.figure()\n",
        "ax = fig.add_axes([0,0,1,1])\n",
        "ax.set_title(\"Comparación de Modelos - RMSE\")\n",
        "ejeX = ['Árbol Manual','Bagging Manual', 'Bagging', 'Random Forest [RF]', 'RF Calibrado', 'XGBoost', 'XGBoost Cal Manual', 'XGBoost Cal Grid']\n",
        "ejeY = [round(rmse_ArbMan,3), round(rmse_baggingman,3), round(rmse_bagging_cv,3), round(rmse_rf_cv,3), round(rmse_rf_c_cv,3), round(rmse_xgboost,3), round(rmse_xgboostcal,3), round(rmse_xgboost_grid,3)]\n",
        "ax.bar(ejeX,ejeY)\n",
        "def addlabels(x,y,plotP):\n",
        "    for i in range(len(x)):\n",
        "        plotP.text(i,y[i],y[i], ha='center', va='bottom', fontsize=10)\n",
        "addlabels(ejeX,ejeY,plt)\n",
        "plt.xticks(rotation=45, fontsize=12, ha='right')\n",
        "plt.show()"
      ]
    },
    {
      "cell_type": "code",
      "source": [
        "# MAE\n",
        "fig = plt.figure()\n",
        "ax = fig.add_axes([0,0,1,1])\n",
        "ax.set_title(\"Comparación de Modelos - MAE\")\n",
        "ejeX = ['Árbol Manual','Bagging Manual', 'Bagging', 'Random Forest', 'RF Calibrado', 'XGBoost', 'XGBoost Cal Manual', 'XGBoost Cal Grid']\n",
        "ejeY = [round(mae_ArbMan,3), round(mae_baggingman,3), round(mae_bagging_cv,3), round(mae_rf_cv,3), round(mae_rf_c_cv,3), round(mae_xgboost,3), round(mae_xgboostcal,3), round(mae_xgboost_grid,3)]\n",
        "ax.bar(ejeX,ejeY)\n",
        "def addlabels(x,y,plotP):\n",
        "    for i in range(len(x)):\n",
        "        plotP.text(i,y[i],y[i], ha='center', va='bottom', fontsize=10)\n",
        "addlabels(ejeX,ejeY,plt)\n",
        "plt.xticks(rotation=45, fontsize=12, ha='right')\n",
        "plt.show()"
      ],
      "metadata": {
        "id": "5uK39ej1z7BU",
        "colab": {
          "base_uri": "https://localhost:8080/",
          "height": 681
        },
        "outputId": "c9b97a8f-33db-41d1-966b-7265ceb63784"
      },
      "execution_count": null,
      "outputs": [
        {
          "output_type": "display_data",
          "data": {
            "text/plain": [
              "<Figure size 640x480 with 1 Axes>"
            ],
            "image/png": "[encoded data removed]"
          },
          "metadata": {}
        }
      ]
    },
    {
      "cell_type": "markdown",
      "source": [
        "\n",
        "El modelo que destacó por su mejor desempeño fue el Bagging Manual con un MSE de 1224.975 y un MAE de 799.551 y el que peor rendimiento presentó fue el árbol de decisión manual con un MSE de 1883.088 y un MAE de 1392.711. Sin embargo, al enfocarnos en comparar los modelos Random Forest y XGBoost, observamos que el Random Forest Calibrado mostró el mejor desempeño con un RMSE de 1271.693 y un MAE de 965.117, destacándose por una mayor certeza en las estimaciones y una mejor consideración de la importancia de las variables predictoras. En comparación, XGBoost obtuvo un RMSE de 1486.533 y un MAE de 1075.289 presentando una sensibilidad a los hiperparámetros y una menor interpretabilidad,"
      ],
      "metadata": {
        "id": "8w6JYyTnMQ80"
      }
    },
    {
      "cell_type": "code",
      "source": [],
      "metadata": {
        "id": "oqrKZ1IJQISj"
      },
      "execution_count": null,
      "outputs": []
    }
  ],
  "metadata": {
    "kernelspec": {
      "display_name": "Python 3 (ipykernel)",
      "language": "python",
      "name": "python3"
    },
    "language_info": {
      "codemirror_mode": {
        "name": "ipython",
        "version": 3
      },
      "file_extension": ".py",
      "mimetype": "text/x-python",
      "name": "python",
      "nbconvert_exporter": "python",
      "pygments_lexer": "ipython3",
      "version": "3.11.5"
    },
    "colab": {
      "provenance": []
    }
  },
  "nbformat": 4,
  "nbformat_minor": 0
}