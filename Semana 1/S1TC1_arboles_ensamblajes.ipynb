{
 "cells": [
  {
   "cell_type": "markdown",
   "metadata": {},
   "source": [
    "![image info](https://raw.githubusercontent.com/albahnsen/MIAD_ML_and_NLP/main/images/banner_1.png)"
   ]
  },
  {
   "cell_type": "markdown",
   "metadata": {},
   "source": [
    "# Taller: Construcción e implementación de árboles de decisión y métodos de ensamblaje\n",
    "\n",
    "En este taller podrá poner en práctica los sus conocimientos sobre construcción e implementación de árboles de decisión y métodos de ensamblajes. El taller está constituido por 9 puntos, 5 relacionados con árboles de decisión (parte A) y 4 con métodos de ensamblaje (parte B)."
   ]
  },
  {
   "cell_type": "markdown",
   "metadata": {},
   "source": [
    "## Parte A - Árboles de decisión\n",
    "\n",
    "En esta parte del taller se usará el conjunto de datos de Capital Bikeshare de Kaggle, donde cada observación representa el alquiler de bicicletas durante una hora y día determinado. Para más detalles puede visitar los siguientes enlaces: [datos](https://archive.ics.uci.edu/ml/machine-learning-databases/00275/Bike-Sharing-Dataset.zip), [dicccionario de datos](https://archive.ics.uci.edu/ml/datasets/Bike+Sharing+Dataset#)."
   ]
  },
  {
   "cell_type": "markdown",
   "metadata": {},
   "source": [
    "### Datos prestamo de bicicletas"
   ]
  },
  {
   "cell_type": "code",
   "execution_count": 1,
   "metadata": {},
   "outputs": [],
   "source": [
    "import warnings\n",
    "warnings.filterwarnings('ignore')"
   ]
  },
  {
   "cell_type": "code",
   "execution_count": 2,
   "metadata": {},
   "outputs": [],
   "source": [
    "# Importación de librerías\n",
    "%matplotlib inline\n",
    "import pandas as pd\n",
    "import numpy as np\n",
    "from sklearn.model_selection import cross_val_score\n",
    "from sklearn.linear_model import LinearRegression\n",
    "from sklearn.tree import DecisionTreeRegressor, export_graphviz"
   ]
  },
  {
   "cell_type": "code",
   "execution_count": 3,
   "metadata": {},
   "outputs": [
    {
     "data": {
      "text/html": [
       "<div>\n",
       "<style scoped>\n",
       "    .dataframe tbody tr th:only-of-type {\n",
       "        vertical-align: middle;\n",
       "    }\n",
       "\n",
       "    .dataframe tbody tr th {\n",
       "        vertical-align: top;\n",
       "    }\n",
       "\n",
       "    .dataframe thead th {\n",
       "        text-align: right;\n",
       "    }\n",
       "</style>\n",
       "<table border=\"1\" class=\"dataframe\">\n",
       "  <thead>\n",
       "    <tr style=\"text-align: right;\">\n",
       "      <th></th>\n",
       "      <th>season</th>\n",
       "      <th>holiday</th>\n",
       "      <th>workingday</th>\n",
       "      <th>weather</th>\n",
       "      <th>temp</th>\n",
       "      <th>atemp</th>\n",
       "      <th>humidity</th>\n",
       "      <th>windspeed</th>\n",
       "      <th>casual</th>\n",
       "      <th>registered</th>\n",
       "      <th>total</th>\n",
       "      <th>hour</th>\n",
       "    </tr>\n",
       "    <tr>\n",
       "      <th>datetime</th>\n",
       "      <th></th>\n",
       "      <th></th>\n",
       "      <th></th>\n",
       "      <th></th>\n",
       "      <th></th>\n",
       "      <th></th>\n",
       "      <th></th>\n",
       "      <th></th>\n",
       "      <th></th>\n",
       "      <th></th>\n",
       "      <th></th>\n",
       "      <th></th>\n",
       "    </tr>\n",
       "  </thead>\n",
       "  <tbody>\n",
       "    <tr>\n",
       "      <th>2011-01-01 00:00:00</th>\n",
       "      <td>1</td>\n",
       "      <td>0</td>\n",
       "      <td>0</td>\n",
       "      <td>1</td>\n",
       "      <td>9.84</td>\n",
       "      <td>14.395</td>\n",
       "      <td>81</td>\n",
       "      <td>0.0</td>\n",
       "      <td>3</td>\n",
       "      <td>13</td>\n",
       "      <td>16</td>\n",
       "      <td>0</td>\n",
       "    </tr>\n",
       "    <tr>\n",
       "      <th>2011-01-01 01:00:00</th>\n",
       "      <td>1</td>\n",
       "      <td>0</td>\n",
       "      <td>0</td>\n",
       "      <td>1</td>\n",
       "      <td>9.02</td>\n",
       "      <td>13.635</td>\n",
       "      <td>80</td>\n",
       "      <td>0.0</td>\n",
       "      <td>8</td>\n",
       "      <td>32</td>\n",
       "      <td>40</td>\n",
       "      <td>1</td>\n",
       "    </tr>\n",
       "    <tr>\n",
       "      <th>2011-01-01 02:00:00</th>\n",
       "      <td>1</td>\n",
       "      <td>0</td>\n",
       "      <td>0</td>\n",
       "      <td>1</td>\n",
       "      <td>9.02</td>\n",
       "      <td>13.635</td>\n",
       "      <td>80</td>\n",
       "      <td>0.0</td>\n",
       "      <td>5</td>\n",
       "      <td>27</td>\n",
       "      <td>32</td>\n",
       "      <td>2</td>\n",
       "    </tr>\n",
       "    <tr>\n",
       "      <th>2011-01-01 03:00:00</th>\n",
       "      <td>1</td>\n",
       "      <td>0</td>\n",
       "      <td>0</td>\n",
       "      <td>1</td>\n",
       "      <td>9.84</td>\n",
       "      <td>14.395</td>\n",
       "      <td>75</td>\n",
       "      <td>0.0</td>\n",
       "      <td>3</td>\n",
       "      <td>10</td>\n",
       "      <td>13</td>\n",
       "      <td>3</td>\n",
       "    </tr>\n",
       "    <tr>\n",
       "      <th>2011-01-01 04:00:00</th>\n",
       "      <td>1</td>\n",
       "      <td>0</td>\n",
       "      <td>0</td>\n",
       "      <td>1</td>\n",
       "      <td>9.84</td>\n",
       "      <td>14.395</td>\n",
       "      <td>75</td>\n",
       "      <td>0.0</td>\n",
       "      <td>0</td>\n",
       "      <td>1</td>\n",
       "      <td>1</td>\n",
       "      <td>4</td>\n",
       "    </tr>\n",
       "  </tbody>\n",
       "</table>\n",
       "</div>"
      ],
      "text/plain": [
       "                     season  holiday  workingday  weather  temp   atemp  \\\n",
       "datetime                                                                  \n",
       "2011-01-01 00:00:00       1        0           0        1  9.84  14.395   \n",
       "2011-01-01 01:00:00       1        0           0        1  9.02  13.635   \n",
       "2011-01-01 02:00:00       1        0           0        1  9.02  13.635   \n",
       "2011-01-01 03:00:00       1        0           0        1  9.84  14.395   \n",
       "2011-01-01 04:00:00       1        0           0        1  9.84  14.395   \n",
       "\n",
       "                     humidity  windspeed  casual  registered  total  hour  \n",
       "datetime                                                                   \n",
       "2011-01-01 00:00:00        81        0.0       3          13     16     0  \n",
       "2011-01-01 01:00:00        80        0.0       8          32     40     1  \n",
       "2011-01-01 02:00:00        80        0.0       5          27     32     2  \n",
       "2011-01-01 03:00:00        75        0.0       3          10     13     3  \n",
       "2011-01-01 04:00:00        75        0.0       0           1      1     4  "
      ]
     },
     "execution_count": 3,
     "metadata": {},
     "output_type": "execute_result"
    }
   ],
   "source": [
    "# Lectura de la información de archivo .csv\n",
    "bikes = pd.read_csv('https://raw.githubusercontent.com/davidzarruk/MIAD_ML_NLP_2023/main/datasets/bikeshare.csv', index_col='datetime', parse_dates=True)\n",
    "\n",
    "# Renombrar variable \"count\" a \"total\"\n",
    "bikes.rename(columns={'count':'total'}, inplace=True)\n",
    "\n",
    "# Crear la hora como una variable \n",
    "bikes['hour'] = bikes.index.hour\n",
    "\n",
    "# Visualización de los datos\n",
    "bikes.head()"
   ]
  },
  {
   "cell_type": "markdown",
   "metadata": {},
   "source": [
    "### Punto 1 - Análisis descriptivo\n",
    "\n",
    "Ejecute las celdas 1.1 y 1.2. A partir de los resultados realice un análisis descriptivo sobre las variables \"season\" y \"hour\", escriba sus inferencias sobre los datos. Para complementar su análisis puede usar métricas como máximo, mínimo, percentiles entre otros."
   ]
  },
  {
   "cell_type": "code",
   "execution_count": 4,
   "metadata": {},
   "outputs": [
    {
     "data": {
      "text/plain": [
       "season\n",
       "1    116.343261\n",
       "2    215.251372\n",
       "3    234.417124\n",
       "4    198.988296\n",
       "Name: total, dtype: float64"
      ]
     },
     "execution_count": 4,
     "metadata": {},
     "output_type": "execute_result"
    }
   ],
   "source": [
    "# Celda 1.1\n",
    "bikes.groupby('season').total.mean()"
   ]
  },
  {
   "cell_type": "code",
   "execution_count": 5,
   "metadata": {},
   "outputs": [
    {
     "data": {
      "image/png": "[encoded data removed]",
      "text/plain": [
       "<Figure size 640x480 with 1 Axes>"
      ]
     },
     "metadata": {},
     "output_type": "display_data"
    },
    {
     "name": "stdout",
     "output_type": "stream",
     "text": [
      "count      4.000000\n",
      "mean     191.250013\n",
      "std       51.994766\n",
      "min      116.343261\n",
      "25%      178.327037\n",
      "50%      207.119834\n",
      "75%      220.042810\n",
      "max      234.417124\n",
      "Name: total, dtype: float64\n"
     ]
    }
   ],
   "source": [
    "import matplotlib.pyplot as plt\n",
    "\n",
    "# Graficar la media del número total de bicicletas alquiladas por estación\n",
    "bikes.groupby('season').total.mean().plot(kind='bar', color='skyblue')\n",
    "\n",
    "# Personalizar etiquetas y título\n",
    "plt.xlabel('Estación')\n",
    "plt.ylabel('Número promedio de bicicletas alquiladas')\n",
    "plt.title('Promedio de bicicletas alquiladas por estación')\n",
    "\n",
    "# Mostrar la gráfica\n",
    "plt.show()\n",
    "\n",
    "\n",
    "# Suponiendo que 'data' es tu DataFrame y 'season' es una columna en este DataFrame\n",
    "descripcion_season = bikes.groupby('season').total.mean().describe()\n",
    "print(descripcion_season)\n"
   ]
  },
  {
   "cell_type": "code",
   "execution_count": 6,
   "metadata": {},
   "outputs": [],
   "source": [
    "#En el análisis descriptivo de la variable \"season\" podemos observar como se esta comportanto dicha variable\n",
    "#en la gráfica se observa que en la estación que mas bicicletas se alquilan es en la número 3 llegando a tener\n",
    "#en promedio 234 bicicletas alquiladas, la variable season está compuesta por 4 estaciones, \n",
    "#cada una de ellas numerada del 1 al 4 siendo estas de tipo float64, teniendo como máximo 234 bicicletas alquiladas\n",
    "#aproximadamente por estación y como mínimo 116 bicicletas alquiladas aproximadamente por estación."
   ]
  },
  {
   "cell_type": "code",
   "execution_count": 7,
   "metadata": {
    "scrolled": true
   },
   "outputs": [
    {
     "data": {
      "text/plain": [
       "hour\n",
       "0      55.138462\n",
       "1      33.859031\n",
       "2      22.899554\n",
       "3      11.757506\n",
       "4       6.407240\n",
       "5      19.767699\n",
       "6      76.259341\n",
       "7     213.116484\n",
       "8     362.769231\n",
       "9     221.780220\n",
       "10    175.092308\n",
       "11    210.674725\n",
       "12    256.508772\n",
       "13    257.787281\n",
       "14    243.442982\n",
       "15    254.298246\n",
       "16    316.372807\n",
       "17    468.765351\n",
       "18    430.859649\n",
       "19    315.278509\n",
       "20    228.517544\n",
       "21    173.370614\n",
       "22    133.576754\n",
       "23     89.508772\n",
       "Name: total, dtype: float64"
      ]
     },
     "execution_count": 7,
     "metadata": {},
     "output_type": "execute_result"
    }
   ],
   "source": [
    "# Celda 1.2\n",
    "bikes.groupby('hour').total.mean()"
   ]
  },
  {
   "cell_type": "code",
   "execution_count": 8,
   "metadata": {},
   "outputs": [
    {
     "data": {
      "image/png": "[encoded data removed]",
      "text/plain": [
       "<Figure size 640x480 with 1 Axes>"
      ]
     },
     "metadata": {},
     "output_type": "display_data"
    },
    {
     "name": "stdout",
     "output_type": "stream",
     "text": [
      "count     24.000000\n",
      "mean     190.742045\n",
      "std      133.245822\n",
      "min        6.407240\n",
      "25%       70.979121\n",
      "50%      211.895604\n",
      "75%      256.828399\n",
      "max      468.765351\n",
      "Name: total, dtype: float64\n"
     ]
    }
   ],
   "source": [
    "# Graficar la media del número total de bicicletas alquiladas por estación\n",
    "bikes.groupby('hour').total.mean().plot(kind='bar', color='skyblue')\n",
    "\n",
    "# Personalizar etiquetas y título\n",
    "plt.xlabel('Hora')\n",
    "plt.ylabel('Número promedio de bicicletas alquiladas')\n",
    "plt.title('Promedio de bicicletas alquiladas por hora')\n",
    "\n",
    "# Mostrar la gráfica\n",
    "plt.show()\n",
    "\n",
    "# Suponiendo que 'data' es tu DataFrame y 'hour' es una columna en este DataFrame\n",
    "descripcion_season = bikes.groupby('hour').total.mean().describe()\n",
    "print(descripcion_season)"
   ]
  },
  {
   "cell_type": "code",
   "execution_count": 9,
   "metadata": {},
   "outputs": [],
   "source": [
    "#En el análisis descriptivo de la variable \"hour\" podemos observar como se esta comportanto dicha variable\n",
    "#en la gráfica se observa que en la hora que mas bicicletas se alquilan es sobre las 17 y 18 horas a tener\n",
    "#en promedio mas de 400 bicicletas alquiladas, la variable \"hour\" está compuesta por 24 horas, \n",
    "#cada una de ellas numerada del 0 al 23 siendo estas de tipo float64, teniendo como máximo 468 alquileres\n",
    "#de bicicletas en promedio por hora y como mínimo 6 alquileres de bicicletas en promedio por hora."
   ]
  },
  {
   "cell_type": "markdown",
   "metadata": {},
   "source": [
    "### Punto 2 - Análisis de gráficos\n",
    "\n",
    "Primero ejecute la celda 2.1 y asegúrese de comprender el código y el resultado. Luego, en cada una de celdas 2.2 y 2.3 escriba un código que genere una gráfica del número de bicicletas rentadas promedio para cada valor de la variable \"hour\" (hora) cuando la variable \"season\" es igual a 1 (invierno) e igual a 3 (verano), respectivamente. Analice y escriba sus hallazgos."
   ]
  },
  {
   "cell_type": "code",
   "execution_count": 10,
   "metadata": {},
   "outputs": [
    {
     "data": {
      "text/plain": [
       "<Axes: xlabel='hour'>"
      ]
     },
     "execution_count": 10,
     "metadata": {},
     "output_type": "execute_result"
    },
    {
     "data": {
      "image/png": "[encoded data removed]",
      "text/plain": [
       "<Figure size 640x480 with 1 Axes>"
      ]
     },
     "metadata": {},
     "output_type": "display_data"
    }
   ],
   "source": [
    "# Celda 2.1 - rentas promedio para cada valor de la variable \"hour\"\n",
    "bikes.groupby('hour').total.mean().plot()"
   ]
  },
  {
   "cell_type": "code",
   "execution_count": 11,
   "metadata": {},
   "outputs": [
    {
     "data": {
      "image/png": "[encoded data removed]",
      "text/plain": [
       "<Figure size 1000x600 with 1 Axes>"
      ]
     },
     "metadata": {},
     "output_type": "display_data"
    }
   ],
   "source": [
    "# Vamos a filtrar los datos para aquellos donde la temporada es igual a 1 (invierno)\n",
    "datos_invierno = bikes[bikes['season'] == 1]\n",
    "\n",
    "# Calculamos el número promedio de bicicletas rentadas para cada hora\n",
    "bicicletas_por_hora = datos_invierno.groupby('hour')['total'].mean()\n",
    "\n",
    "# Creamos la gráfica\n",
    "plt.figure(figsize=(10, 6))\n",
    "plt.plot(bicicletas_por_hora, marker='o', linestyle='-')\n",
    "plt.title('Número Promedio de Bicicletas Rentadas por Hora en Invierno')\n",
    "plt.xlabel('Hora del Día')\n",
    "plt.ylabel('Número Promedio de Bicicletas Rentadas')\n",
    "plt.xticks(range(24))  # Ajustamos las etiquetas del eje x para mostrar todas las horas\n",
    "plt.grid(True)\n",
    "plt.show()\n"
   ]
  },
  {
   "cell_type": "code",
   "execution_count": 12,
   "metadata": {},
   "outputs": [
    {
     "data": {
      "image/png": "[encoded data removed]",
      "text/plain": [
       "<Figure size 1000x600 with 1 Axes>"
      ]
     },
     "metadata": {},
     "output_type": "display_data"
    }
   ],
   "source": [
    "# Vamos a filtrar los datos para aquellos donde la temporada es igual a 1 (invierno)\n",
    "datos_verano = bikes[bikes['season'] == 3]\n",
    "\n",
    "# Calculamos el número promedio de bicicletas rentadas para cada hora\n",
    "bicicletas_por_hora = datos_verano.groupby('hour')['total'].mean()\n",
    "\n",
    "# Creamos la gráfica\n",
    "plt.figure(figsize=(10, 6))\n",
    "plt.plot(bicicletas_por_hora, marker='o', linestyle='-')\n",
    "plt.title('Número Promedio de Bicicletas Rentadas por Hora en Verano')\n",
    "plt.xlabel('Hora del Día')\n",
    "plt.ylabel('Número Promedio de Bicicletas Rentadas')\n",
    "plt.xticks(range(24))  # Ajustamos las etiquetas del eje x para mostrar todas las horas\n",
    "plt.grid(True)\n",
    "plt.show()"
   ]
  },
  {
   "cell_type": "code",
   "execution_count": 13,
   "metadata": {},
   "outputs": [],
   "source": [
    "#Se logra observar en las tres gráficas, que cada una de ellas tiene un comportamiento similar, en donde se ven\n",
    "#los picos de mayor alquiler promedio de bicicletas por hora es durante las 8, 17 y 18 horas. Probablemente, se \n",
    "#puede inferir que estas horas son las de mayor afluencia, ya que podrían ser las horas de ingreso y salida de \n",
    "#los trabajos. "
   ]
  },
  {
   "cell_type": "markdown",
   "metadata": {},
   "source": [
    "### Punto 3 - Regresión lineal\n",
    "En la celda 3 ajuste un modelo de regresión lineal a todo el conjunto de datos, utilizando \"total\" como variable de respuesta y \"season\" y \"hour\" como las únicas variables predictoras, teniendo en cuenta que la variable \"season\" es categórica. Luego, imprima los coeficientes e interprételos. ¿Cuáles son las limitaciones de la regresión lineal en este caso?"
   ]
  },
  {
   "cell_type": "code",
   "execution_count": 14,
   "metadata": {},
   "outputs": [
    {
     "name": "stdout",
     "output_type": "stream",
     "text": [
      "Coeficientes del modelo:\n",
      "Intercepto: -6.430262462304455\n",
      "Coeficientes de 'hour': 10.545206094069695\n",
      "Coeficiente de 'season' (Invierno): 100.31723191606625\n",
      "Coeficiente de 'season' (Primavera): 119.46754994593346\n",
      "Coeficiente de 'season' (Verano): 84.08311787296878\n"
     ]
    }
   ],
   "source": [
    "# Ajuste del modelo de regresión lineal\n",
    "X = bikes[['season', 'hour']]  # Variables predictoras\n",
    "y = bikes['total']  # Variable de respuesta\n",
    "\n",
    "# Convertir la variable categórica 'season' en variables dummy\n",
    "X = pd.get_dummies(X, columns=['season'], drop_first=True)\n",
    "\n",
    "# Crear y ajustar el modelo de regresión lineal\n",
    "modelo = LinearRegression()\n",
    "modelo.fit(X, y)\n",
    "\n",
    "# Imprimir los coeficientes\n",
    "print(\"Coeficientes del modelo:\")\n",
    "print(\"Intercepto:\", modelo.intercept_)\n",
    "print(\"Coeficientes de 'hour':\", modelo.coef_[0])\n",
    "print(\"Coeficiente de 'season' (Invierno):\", modelo.coef_[1])\n",
    "print(\"Coeficiente de 'season' (Primavera):\", modelo.coef_[2])\n",
    "print(\"Coeficiente de 'season' (Verano):\", modelo.coef_[3])\n"
   ]
  },
  {
   "cell_type": "code",
   "execution_count": 15,
   "metadata": {},
   "outputs": [],
   "source": [
    "#El coeficiente de \"hour\" indica el cambio de npumero de bicicletaas rentadas por cada unidad de cambio en la\n",
    "#hora del día.\n",
    "\n",
    "#Los coeficientes de \"season\" indican el cambio en el número de bicicletas rentadas en comparación con la estación\n",
    "#que se está analizando y es la categoria de referencia. \n",
    "\n",
    "#Limitaciones de la regresión linea en este caso\n",
    "#Una de las limitaciones es la independencia de los errores, ya que el modelo asume que los errores son independienes\n",
    "#entre si, otra limitación podría ser la homocedasticidad, ya que la regresión lineal asume que la varianza\n",
    "#de los errores es constante en todas las observaciones, adicional se podría llegar a presentar Multicolinealidad\n",
    "#ya que puede existir alta correlación entre las variables, que pueden llegar a dificultar la interpretación\n",
    "#de los coeficientes y la precisión del modelo. "
   ]
  },
  {
   "cell_type": "markdown",
   "metadata": {},
   "source": [
    "### Punto 4 - Árbol de decisión manual\n",
    "En la celda 4 cree un árbol de decisiones para pronosticar la variable \"total\" iterando **manualmente** sobre las variables \"hour\" y  \"season\". El árbol debe tener al menos 6 nodos finales."
   ]
  },
  {
   "cell_type": "code",
   "execution_count": 16,
   "metadata": {},
   "outputs": [
    {
     "name": "stdout",
     "output_type": "stream",
     "text": [
      "Mejor división para la variable 'hour': [0, 8.0, 18268.811823533004]\n",
      "Mejor división para la variable 'season': [0, 2.0, 3707.7831499090535]\n"
     ]
    }
   ],
   "source": [
    "import numpy as np\n",
    "\n",
    "# Definición de parámetros y criterios de parada\n",
    "max_depth = None\n",
    "num_pct = 10\n",
    "min_gain = 0.001\n",
    "\n",
    "# Función para calcular el Gini index\n",
    "def gini(y):\n",
    "    if y.shape[0] == 0:\n",
    "        return 0\n",
    "    else:\n",
    "        return 1 - (y.mean()**2 + (1 - y.mean())**2)\n",
    "\n",
    "# Función para calcular la impureza de Gini de una división\n",
    "def gini_impurity(X_col, y, split):\n",
    "    filter_l = X_col < split\n",
    "    y_l = y.loc[filter_l]\n",
    "    y_r = y.loc[~filter_l]\n",
    "    \n",
    "    n_l = y_l.shape[0]\n",
    "    n_r = y_r.shape[0]\n",
    "    \n",
    "    gini_y = gini(y)\n",
    "    gini_l = gini(y_l)\n",
    "    gini_r = gini(y_r)\n",
    "    \n",
    "    gini_impurity_ = gini_y - (n_l / (n_l + n_r) * gini_l + n_r / (n_l + n_r) * gini_r)\n",
    "    \n",
    "    return gini_impurity_\n",
    "\n",
    "# Función para encontrar la mejor división\n",
    "def best_split(X, y, num_pct=10):\n",
    "    \n",
    "    features = range(X.shape[1])\n",
    "    \n",
    "    best_split = [0, 0, 0]  # j, split, gain\n",
    "    \n",
    "    # Para todas las varibles \n",
    "    for j in features:\n",
    "        \n",
    "        splits = np.percentile(X.iloc[:, j], np.arange(0, 100, 100.0 / (num_pct+1)).tolist())\n",
    "        splits = np.unique(splits)[1:]\n",
    "        \n",
    "        # Para cada partición\n",
    "        for split in splits:\n",
    "            gain = gini_impurity(X.iloc[:, j], y, split)\n",
    "                        \n",
    "            if gain > best_split[2]:\n",
    "                best_split = [j, split, gain]\n",
    "    \n",
    "    return best_split\n",
    "\n",
    "# Calcular la mejor división para la variable \"hour\"\n",
    "best_split_hour = best_split(bikes[['hour']], bikes['total'], num_pct)\n",
    "\n",
    "# Calcular la mejor división para la variable \"season\"\n",
    "best_split_season = best_split(bikes[['season']], bikes['total'], num_pct)\n",
    "\n",
    "print(\"Mejor división para la variable 'hour':\", best_split_hour)\n",
    "print(\"Mejor división para la variable 'season':\", best_split_season)\n"
   ]
  },
  {
   "cell_type": "code",
   "execution_count": 17,
   "metadata": {},
   "outputs": [
    {
     "name": "stdout",
     "output_type": "stream",
     "text": [
      "Accuracy: 0.022497704315886134\n",
      "Métricas de Desempeño del Árbol de Decisiones Manual:\n",
      "Mean Squared Error (MSE): 23372.813590449954\n",
      "Mean Absolute Error (MAE): 95.18273645546373\n"
     ]
    }
   ],
   "source": [
    "from sklearn.tree import DecisionTreeClassifier\n",
    "from sklearn.metrics import accuracy_score, classification_report\n",
    "from sklearn.model_selection import train_test_split\n",
    "from sklearn.metrics import mean_squared_error, mean_absolute_error\n",
    "\n",
    "# Dividir los datos en conjunto de entrenamiento y prueba\n",
    "X_train, X_test, y_train, y_test = train_test_split(bikes[['hour', 'season']], bikes['total'], test_size=0.2, random_state=42)\n",
    "\n",
    "# Construir el árbol de decisión con las mejores divisiones encontradas\n",
    "best_split_hour = best_split(bikes[['hour']], bikes['total'], num_pct)\n",
    "best_split_season = best_split(bikes[['season']], bikes['total'], num_pct)\n",
    "\n",
    "# Entrenar el árbol de decisión\n",
    "tree = DecisionTreeClassifier(max_depth=int(best_split_hour[1]))  # Usar la mejor división para 'hour'\n",
    "tree.fit(X_train, y_train)\n",
    "\n",
    "# Predecir las etiquetas\n",
    "y_pred = tree.predict(X_test)\n",
    "\n",
    "# Evaluar el desempeño\n",
    "accuracy = accuracy_score(y_test, y_pred)\n",
    "report = classification_report(y_test, y_pred)\n",
    "\n",
    "print(\"Accuracy:\", accuracy)\n",
    "# Métricas de desempeño\n",
    "mse = mean_squared_error(y_test, y_pred)\n",
    "mae = mean_absolute_error(y_test, y_pred)\n",
    "\n",
    "print(\"Métricas de Desempeño del Árbol de Decisiones Manual:\")\n",
    "print(\"Mean Squared Error (MSE):\", mse)\n",
    "print(\"Mean Absolute Error (MAE):\", mae)"
   ]
  },
  {
   "cell_type": "markdown",
   "metadata": {},
   "source": [
    "### Punto 5 - Árbol de decisión con librería\n",
    "En la celda 5 entrene un árbol de decisiones con la **librería sklearn**, usando las variables predictoras \"season\" y \"hour\" y calibre los parámetros que considere conveniente para obtener un mejor desempeño. Recuerde dividir los datos en conjuntos de entrenamiento y validación para esto. Comente el desempeño del modelo con alguna métrica de desempeño de modelos de regresión y compare desempeño con el modelo del punto 3."
   ]
  },
  {
   "cell_type": "code",
   "execution_count": 18,
   "metadata": {},
   "outputs": [
    {
     "name": "stdout",
     "output_type": "stream",
     "text": [
      "Métricas de Desempeño del Árbol de Decisiones:\n",
      "Mean Squared Error (MSE): 13454.101382166964\n",
      "Mean Absolute Error (MAE): 78.0741510567975\n"
     ]
    }
   ],
   "source": [
    "# Celda 5\n",
    "from sklearn.model_selection import train_test_split\n",
    "from sklearn.tree import DecisionTreeRegressor\n",
    "from sklearn.metrics import mean_squared_error, mean_absolute_error\n",
    "\n",
    "# Dividir los datos en conjuntos de entrenamiento y validación\n",
    "X = bikes[['season', 'hour']]  # Variables predictoras\n",
    "y = bikes['total']  # Variable de respuesta\n",
    "X_train, X_val, y_train, y_val = train_test_split(X, y, test_size=0.2, random_state=42)\n",
    "\n",
    "# Entrenar el árbol de decisiones\n",
    "modelo_arbol = DecisionTreeRegressor(random_state=42)\n",
    "\n",
    "# Ajustar el modelo\n",
    "modelo_arbol.fit(X_train, y_train)\n",
    "\n",
    "# Predecir en el conjunto de validación\n",
    "predicciones_val = modelo_arbol.predict(X_val)\n",
    "\n",
    "# Métricas de desempeño\n",
    "mse = mean_squared_error(y_val, predicciones_val)\n",
    "mae = mean_absolute_error(y_val, predicciones_val)\n",
    "\n",
    "print(\"Métricas de Desempeño del Árbol de Decisiones:\")\n",
    "print(\"Mean Squared Error (MSE):\", mse)\n",
    "print(\"Mean Absolute Error (MAE):\", mae)\n"
   ]
  },
  {
   "cell_type": "code",
   "execution_count": 19,
   "metadata": {},
   "outputs": [],
   "source": [
    "#Revisando las métricas de desempeño de los árboles de decisión realizados manualmente y con librería, se puede\n",
    "#observar que el árbol de decisiones realizado con librería tiene un mejor desempeño que el otro, en una proporción\n",
    "#muy alta, para revisar los valores se puede observar los resultados de los ejercicios anteriores. Además se \n",
    "#puede concluir que la realización del modelo por medio de la librería es mas eficiente y tiene un menor costo de\n",
    "#programación y computacional, obteniendo con esta mejores resultados. "
   ]
  },
  {
   "cell_type": "markdown",
   "metadata": {},
   "source": [
    "## Parte B - Métodos de ensamblajes\n",
    "En esta parte del taller se usará el conjunto de datos de Popularidad de Noticias Online. El objetivo es predecir si la notica es popular o no, la popularidad está dada por la cantidad de reacciones en redes sociales. Para más detalles puede visitar el siguiente enlace: [datos](https://archive.ics.uci.edu/ml/datasets/online+news+popularity)."
   ]
  },
  {
   "cell_type": "markdown",
   "metadata": {},
   "source": [
    "### Datos popularidad de noticias"
   ]
  },
  {
   "cell_type": "code",
   "execution_count": 20,
   "metadata": {},
   "outputs": [
    {
     "data": {
      "text/html": [
       "<div>\n",
       "<style scoped>\n",
       "    .dataframe tbody tr th:only-of-type {\n",
       "        vertical-align: middle;\n",
       "    }\n",
       "\n",
       "    .dataframe tbody tr th {\n",
       "        vertical-align: top;\n",
       "    }\n",
       "\n",
       "    .dataframe thead th {\n",
       "        text-align: right;\n",
       "    }\n",
       "</style>\n",
       "<table border=\"1\" class=\"dataframe\">\n",
       "  <thead>\n",
       "    <tr style=\"text-align: right;\">\n",
       "      <th></th>\n",
       "      <th>url</th>\n",
       "      <th>timedelta</th>\n",
       "      <th>n_tokens_title</th>\n",
       "      <th>n_tokens_content</th>\n",
       "      <th>n_unique_tokens</th>\n",
       "      <th>n_non_stop_words</th>\n",
       "      <th>n_non_stop_unique_tokens</th>\n",
       "      <th>num_hrefs</th>\n",
       "      <th>num_self_hrefs</th>\n",
       "      <th>num_imgs</th>\n",
       "      <th>...</th>\n",
       "      <th>min_positive_polarity</th>\n",
       "      <th>max_positive_polarity</th>\n",
       "      <th>avg_negative_polarity</th>\n",
       "      <th>min_negative_polarity</th>\n",
       "      <th>max_negative_polarity</th>\n",
       "      <th>title_subjectivity</th>\n",
       "      <th>title_sentiment_polarity</th>\n",
       "      <th>abs_title_subjectivity</th>\n",
       "      <th>abs_title_sentiment_polarity</th>\n",
       "      <th>Popular</th>\n",
       "    </tr>\n",
       "  </thead>\n",
       "  <tbody>\n",
       "    <tr>\n",
       "      <th>0</th>\n",
       "      <td>http://mashable.com/2014/12/10/cia-torture-rep...</td>\n",
       "      <td>28.0</td>\n",
       "      <td>9.0</td>\n",
       "      <td>188.0</td>\n",
       "      <td>0.732620</td>\n",
       "      <td>1.0</td>\n",
       "      <td>0.844262</td>\n",
       "      <td>5.0</td>\n",
       "      <td>1.0</td>\n",
       "      <td>1.0</td>\n",
       "      <td>...</td>\n",
       "      <td>0.200000</td>\n",
       "      <td>0.80</td>\n",
       "      <td>-0.487500</td>\n",
       "      <td>-0.60</td>\n",
       "      <td>-0.250000</td>\n",
       "      <td>0.9</td>\n",
       "      <td>0.8</td>\n",
       "      <td>0.4</td>\n",
       "      <td>0.8</td>\n",
       "      <td>1</td>\n",
       "    </tr>\n",
       "    <tr>\n",
       "      <th>1</th>\n",
       "      <td>http://mashable.com/2013/10/18/bitlock-kicksta...</td>\n",
       "      <td>447.0</td>\n",
       "      <td>7.0</td>\n",
       "      <td>297.0</td>\n",
       "      <td>0.653199</td>\n",
       "      <td>1.0</td>\n",
       "      <td>0.815789</td>\n",
       "      <td>9.0</td>\n",
       "      <td>4.0</td>\n",
       "      <td>1.0</td>\n",
       "      <td>...</td>\n",
       "      <td>0.160000</td>\n",
       "      <td>0.50</td>\n",
       "      <td>-0.135340</td>\n",
       "      <td>-0.40</td>\n",
       "      <td>-0.050000</td>\n",
       "      <td>0.1</td>\n",
       "      <td>-0.1</td>\n",
       "      <td>0.4</td>\n",
       "      <td>0.1</td>\n",
       "      <td>0</td>\n",
       "    </tr>\n",
       "    <tr>\n",
       "      <th>2</th>\n",
       "      <td>http://mashable.com/2013/07/24/google-glass-po...</td>\n",
       "      <td>533.0</td>\n",
       "      <td>11.0</td>\n",
       "      <td>181.0</td>\n",
       "      <td>0.660377</td>\n",
       "      <td>1.0</td>\n",
       "      <td>0.775701</td>\n",
       "      <td>4.0</td>\n",
       "      <td>3.0</td>\n",
       "      <td>1.0</td>\n",
       "      <td>...</td>\n",
       "      <td>0.136364</td>\n",
       "      <td>1.00</td>\n",
       "      <td>0.000000</td>\n",
       "      <td>0.00</td>\n",
       "      <td>0.000000</td>\n",
       "      <td>0.3</td>\n",
       "      <td>1.0</td>\n",
       "      <td>0.2</td>\n",
       "      <td>1.0</td>\n",
       "      <td>0</td>\n",
       "    </tr>\n",
       "    <tr>\n",
       "      <th>3</th>\n",
       "      <td>http://mashable.com/2013/11/21/these-are-the-m...</td>\n",
       "      <td>413.0</td>\n",
       "      <td>12.0</td>\n",
       "      <td>781.0</td>\n",
       "      <td>0.497409</td>\n",
       "      <td>1.0</td>\n",
       "      <td>0.677350</td>\n",
       "      <td>10.0</td>\n",
       "      <td>3.0</td>\n",
       "      <td>1.0</td>\n",
       "      <td>...</td>\n",
       "      <td>0.100000</td>\n",
       "      <td>1.00</td>\n",
       "      <td>-0.195701</td>\n",
       "      <td>-0.40</td>\n",
       "      <td>-0.071429</td>\n",
       "      <td>0.0</td>\n",
       "      <td>0.0</td>\n",
       "      <td>0.5</td>\n",
       "      <td>0.0</td>\n",
       "      <td>0</td>\n",
       "    </tr>\n",
       "    <tr>\n",
       "      <th>4</th>\n",
       "      <td>http://mashable.com/2014/02/11/parking-ticket-...</td>\n",
       "      <td>331.0</td>\n",
       "      <td>8.0</td>\n",
       "      <td>177.0</td>\n",
       "      <td>0.685714</td>\n",
       "      <td>1.0</td>\n",
       "      <td>0.830357</td>\n",
       "      <td>3.0</td>\n",
       "      <td>2.0</td>\n",
       "      <td>1.0</td>\n",
       "      <td>...</td>\n",
       "      <td>0.100000</td>\n",
       "      <td>0.55</td>\n",
       "      <td>-0.175000</td>\n",
       "      <td>-0.25</td>\n",
       "      <td>-0.100000</td>\n",
       "      <td>0.0</td>\n",
       "      <td>0.0</td>\n",
       "      <td>0.5</td>\n",
       "      <td>0.0</td>\n",
       "      <td>0</td>\n",
       "    </tr>\n",
       "  </tbody>\n",
       "</table>\n",
       "<p>5 rows × 61 columns</p>\n",
       "</div>"
      ],
      "text/plain": [
       "                                                 url  timedelta  \\\n",
       "0  http://mashable.com/2014/12/10/cia-torture-rep...       28.0   \n",
       "1  http://mashable.com/2013/10/18/bitlock-kicksta...      447.0   \n",
       "2  http://mashable.com/2013/07/24/google-glass-po...      533.0   \n",
       "3  http://mashable.com/2013/11/21/these-are-the-m...      413.0   \n",
       "4  http://mashable.com/2014/02/11/parking-ticket-...      331.0   \n",
       "\n",
       "   n_tokens_title  n_tokens_content  n_unique_tokens  n_non_stop_words  \\\n",
       "0             9.0             188.0         0.732620               1.0   \n",
       "1             7.0             297.0         0.653199               1.0   \n",
       "2            11.0             181.0         0.660377               1.0   \n",
       "3            12.0             781.0         0.497409               1.0   \n",
       "4             8.0             177.0         0.685714               1.0   \n",
       "\n",
       "   n_non_stop_unique_tokens  num_hrefs  num_self_hrefs  num_imgs  ...  \\\n",
       "0                  0.844262        5.0             1.0       1.0  ...   \n",
       "1                  0.815789        9.0             4.0       1.0  ...   \n",
       "2                  0.775701        4.0             3.0       1.0  ...   \n",
       "3                  0.677350       10.0             3.0       1.0  ...   \n",
       "4                  0.830357        3.0             2.0       1.0  ...   \n",
       "\n",
       "   min_positive_polarity  max_positive_polarity  avg_negative_polarity  \\\n",
       "0               0.200000                   0.80              -0.487500   \n",
       "1               0.160000                   0.50              -0.135340   \n",
       "2               0.136364                   1.00               0.000000   \n",
       "3               0.100000                   1.00              -0.195701   \n",
       "4               0.100000                   0.55              -0.175000   \n",
       "\n",
       "   min_negative_polarity  max_negative_polarity  title_subjectivity  \\\n",
       "0                  -0.60              -0.250000                 0.9   \n",
       "1                  -0.40              -0.050000                 0.1   \n",
       "2                   0.00               0.000000                 0.3   \n",
       "3                  -0.40              -0.071429                 0.0   \n",
       "4                  -0.25              -0.100000                 0.0   \n",
       "\n",
       "   title_sentiment_polarity  abs_title_subjectivity  \\\n",
       "0                       0.8                     0.4   \n",
       "1                      -0.1                     0.4   \n",
       "2                       1.0                     0.2   \n",
       "3                       0.0                     0.5   \n",
       "4                       0.0                     0.5   \n",
       "\n",
       "   abs_title_sentiment_polarity  Popular  \n",
       "0                           0.8        1  \n",
       "1                           0.1        0  \n",
       "2                           1.0        0  \n",
       "3                           0.0        0  \n",
       "4                           0.0        0  \n",
       "\n",
       "[5 rows x 61 columns]"
      ]
     },
     "execution_count": 20,
     "metadata": {},
     "output_type": "execute_result"
    }
   ],
   "source": [
    "# Lectura de la información de archivo .csv\n",
    "df = pd.read_csv('https://raw.githubusercontent.com/davidzarruk/MIAD_ML_NLP_2023/main/datasets/mashable.csv', index_col=0)\n",
    "df.head()"
   ]
  },
  {
   "cell_type": "code",
   "execution_count": 21,
   "metadata": {},
   "outputs": [
    {
     "data": {
      "text/plain": [
       "0.5"
      ]
     },
     "execution_count": 21,
     "metadata": {},
     "output_type": "execute_result"
    }
   ],
   "source": [
    "# Definición variable de interes y variables predictoras\n",
    "X = df.drop(['url', 'Popular'], axis=1)\n",
    "y = df['Popular']\n",
    "y.mean()"
   ]
  },
  {
   "cell_type": "code",
   "execution_count": 22,
   "metadata": {},
   "outputs": [],
   "source": [
    "# División de la muestra en set de entrenamiento y prueba\n",
    "from sklearn.model_selection import train_test_split\n",
    "X_train, X_test, y_train, y_test = train_test_split(X, y, random_state=1)"
   ]
  },
  {
   "cell_type": "markdown",
   "metadata": {},
   "source": [
    "### Punto 6 - Árbol de decisión y regresión logística\n",
    "En la celda 6 construya un árbol de decisión y una regresión logística. Para el árbol calibre al menos un parámetro y evalúe el desempeño de cada modelo usando las métricas de Accuracy y F1-Score."
   ]
  },
  {
   "cell_type": "code",
   "execution_count": 23,
   "metadata": {},
   "outputs": [
    {
     "name": "stdout",
     "output_type": "stream",
     "text": [
      "Desempeño del árbol de decisión:\n",
      "Accuracy: 0.6373333333333333\n",
      "F1-Score: 0.6616915422885573\n",
      "\n",
      "Desempeño de la regresión logística:\n",
      "Accuracy: 0.614\n",
      "F1-Score: 0.6095751854349292\n"
     ]
    }
   ],
   "source": [
    "# Celda 6\n",
    "from sklearn.tree import DecisionTreeClassifier\n",
    "from sklearn.linear_model import LogisticRegression\n",
    "from sklearn.metrics import accuracy_score, f1_score\n",
    "from sklearn.model_selection import GridSearchCV\n",
    "\n",
    "# Definición del árbol de decisión\n",
    "tree_clf = DecisionTreeClassifier(random_state=1)\n",
    "\n",
    "# Definición de los parámetros a calibrar para el árbol de decisión\n",
    "param_grid = {\n",
    "    'max_depth': [None, 5, 10, 20],\n",
    "    'min_samples_split': [2, 5, 10],\n",
    "    'min_samples_leaf': [1, 2, 4]\n",
    "}\n",
    "\n",
    "# Búsqueda de los mejores parámetros para el árbol de decisión\n",
    "grid_search_tree = GridSearchCV(tree_clf, param_grid, cv=5)\n",
    "grid_search_tree.fit(X_train, y_train)\n",
    "\n",
    "# Obtener el mejor modelo de árbol de decisión\n",
    "best_tree_clf = grid_search_tree.best_estimator_\n",
    "\n",
    "# Entrenar el modelo de regresión logística\n",
    "log_reg = LogisticRegression(random_state=1)\n",
    "log_reg.fit(X_train, y_train)\n",
    "\n",
    "# Realizar predicciones con ambos modelos\n",
    "y_pred_tree = best_tree_clf.predict(X_test)\n",
    "y_pred_log_reg = log_reg.predict(X_test)\n",
    "\n",
    "# Calcular las métricas de desempeño\n",
    "accuracy_tree = accuracy_score(y_test, y_pred_tree)\n",
    "f1_tree = f1_score(y_test, y_pred_tree)\n",
    "\n",
    "accuracy_log_reg = accuracy_score(y_test, y_pred_log_reg)\n",
    "f1_log_reg = f1_score(y_test, y_pred_log_reg)\n",
    "\n",
    "print(\"Desempeño del árbol de decisión:\")\n",
    "print(\"Accuracy:\", accuracy_tree)\n",
    "print(\"F1-Score:\", f1_tree)\n",
    "print(\"\\nDesempeño de la regresión logística:\")\n",
    "print(\"Accuracy:\", accuracy_log_reg)\n",
    "print(\"F1-Score:\", f1_log_reg)\n"
   ]
  },
  {
   "cell_type": "markdown",
   "metadata": {},
   "source": [
    "### Punto 7 - Votación Mayoritaria\n",
    "En la celda 7 elabore un esamble con la metodología de **Votación mayoritaria** compuesto por 300 muestras bagged donde:\n",
    "\n",
    "-las primeras 100 muestras vienen de árboles de decisión donde max_depth tome un valor de su elección\\\n",
    "-las segundas 100 muestras vienen de árboles de decisión donde min_samples_leaf tome un valor de su elección\\\n",
    "-las últimas 100 muestras vienen de regresiones logísticas\n",
    "\n",
    "Evalúe cada uno de los tres modelos de manera independiente utilizando las métricas de Accuracy y F1-Score, luego evalúe el ensamble de modelos y compare los resultados. \n",
    "\n",
    "Nota: \n",
    "\n",
    "Para este ensamble de 300 modelos, deben hacer votación mayoritaria. Esto lo pueden hacer de distintas maneras. La más \"fácil\" es haciendo la votación \"manualmente\", como se hace a partir del minuto 5:45 del video de Ejemplo práctico de emsablajes en Coursera. Digo que es la más fácil porque si hacen la votación mayoritaria sobre las 300 predicciones van a obtener lo que se espera.\n",
    "\n",
    "Otra opción es: para cada uno de los 3 tipos de modelos, entrenar un ensamble de 100 modelos cada uno. Predecir para cada uno de esos tres ensambles y luego predecir como un ensamble de los 3 ensambles. La cuestión es que la votación mayoritaria al usar los 3 ensambles no necesariamente va a generar el mismo resultado que si hacen la votación mayoritaria directamente sobre los 300 modelos. Entonces, para los que quieran hacer esto, deben hacer ese último cálculo con cuidado.\n",
    "\n",
    "Para los que quieran hacerlo como ensamble de ensambles, digo que se debe hacer el ensamble final con cuidado por lo siguiente. Supongamos que:\n",
    "\n",
    "* para los 100 árboles del primer tipo, la votación mayoritaria es: 55% de los modelos predicen que la clase de una observación es \"1\"\n",
    "* para los 100 árboles del segundo tipo, la votación mayoritaria es: 55% de los modelos predicen que la clase de una observación es \"1\"\n",
    "* para las 100 regresiones logísticas, la votación mayoritaria es: 10% de los modelos predicen que la clase de una observación es \"1\"\n",
    "\n",
    "Si se hace la votación mayoritaria de los 300 modelos, la predicción de esa observación debería ser: (100*55%+100*55%+100*10%)/300 = 40% de los modelos votan porque la predicción debería ser \"1\". Es decir, la predicción del ensamble es \"0\" (dado que menos del 50% de modelos predijo un 1).\n",
    "\n",
    "Sin embargo, si miramos cada ensamble por separado, el primer ensamble predice \"1\", el segundo ensamble predice \"1\" y el último ensamble predice \"0\". Si hago votación mayoritaria sobre esto, la predicción va a ser \"1\", lo cual es distinto a si se hace la votación mayoritaria sobre los 300 modelos."
   ]
  },
  {
   "cell_type": "code",
   "execution_count": 24,
   "metadata": {},
   "outputs": [
    {
     "name": "stdout",
     "output_type": "stream",
     "text": [
      "Desempeño del árbol de decisión (max_depth=5):\n",
      "Accuracy: 0.6373333333333333\n",
      "F1-Score: 0.6616915422885573\n",
      "\n",
      "Desempeño del árbol de decisión (min_samples_leaf=5):\n",
      "Accuracy: 0.5393333333333333\n",
      "F1-Score: 0.5426869622766379\n",
      "\n",
      "Desempeño de la regresión logística:\n",
      "Accuracy: 0.614\n",
      "F1-Score: 0.6095751854349292\n",
      "\n",
      "Desempeño del ensamble (votación mayoritaria manual):\n",
      "Accuracy: 0.6206666666666667\n",
      "F1-Score: 0.6293159609120521\n"
     ]
    }
   ],
   "source": [
    "# Celda 7\n",
    "from sklearn.tree import DecisionTreeClassifier\n",
    "from sklearn.linear_model import LogisticRegression\n",
    "from sklearn.ensemble import BaggingClassifier\n",
    "from sklearn.metrics import accuracy_score, f1_score\n",
    "\n",
    "# Definición de modelos individuales\n",
    "tree_depth_clf = DecisionTreeClassifier(max_depth=5, random_state=1)\n",
    "tree_leaf_clf = DecisionTreeClassifier(min_samples_leaf=5, random_state=1)\n",
    "log_reg = LogisticRegression(random_state=1)\n",
    "\n",
    "# Entrenamiento de modelos individuales\n",
    "tree_depth_clf.fit(X_train, y_train)\n",
    "tree_leaf_clf.fit(X_train, y_train)\n",
    "log_reg.fit(X_train, y_train)\n",
    "\n",
    "# Predicciones de modelos individuales\n",
    "y_pred_tree_depth = tree_depth_clf.predict(X_test)\n",
    "y_pred_tree_leaf = tree_leaf_clf.predict(X_test)\n",
    "y_pred_log_reg = log_reg.predict(X_test)\n",
    "\n",
    "# Métricas de modelos individuales\n",
    "accuracy_tree_depth = accuracy_score(y_test, y_pred_tree_depth)\n",
    "f1_tree_depth = f1_score(y_test, y_pred_tree_depth)\n",
    "accuracy_tree_leaf = accuracy_score(y_test, y_pred_tree_leaf)\n",
    "f1_tree_leaf = f1_score(y_test, y_pred_tree_leaf)\n",
    "accuracy_log_reg = accuracy_score(y_test, y_pred_log_reg)\n",
    "f1_log_reg = f1_score(y_test, y_pred_log_reg)\n",
    "\n",
    "print(\"Desempeño del árbol de decisión (max_depth=5):\")\n",
    "print(\"Accuracy:\", accuracy_tree_depth)\n",
    "print(\"F1-Score:\", f1_tree_depth)\n",
    "print(\"\\nDesempeño del árbol de decisión (min_samples_leaf=5):\")\n",
    "print(\"Accuracy:\", accuracy_tree_leaf)\n",
    "print(\"F1-Score:\", f1_tree_leaf)\n",
    "print(\"\\nDesempeño de la regresión logística:\")\n",
    "print(\"Accuracy:\", accuracy_log_reg)\n",
    "print(\"F1-Score:\", f1_log_reg)\n",
    "\n",
    "# Realizando la votación mayoritaria manualmente\n",
    "y_pred_ensemble = []\n",
    "for i in range(len(y_pred_tree_depth)):\n",
    "    votes = y_pred_tree_depth[i] + y_pred_tree_leaf[i] + y_pred_log_reg[i]\n",
    "    y_pred_ensemble.append(1 if votes >= 2 else 0)\n",
    "\n",
    "# Métricas del ensamble\n",
    "accuracy_ensemble = accuracy_score(y_test, y_pred_ensemble)\n",
    "f1_ensemble = f1_score(y_test, y_pred_ensemble)\n",
    "\n",
    "print(\"\\nDesempeño del ensamble (votación mayoritaria manual):\")\n",
    "print(\"Accuracy:\", accuracy_ensemble)\n",
    "print(\"F1-Score:\", f1_ensemble)\n"
   ]
  },
  {
   "cell_type": "markdown",
   "metadata": {},
   "source": [
    "### Punto 8 - Votación Ponderada\n",
    "En la celda 8 elabore un ensamble con la metodología de **Votación ponderada** compuesto por 300 muestras bagged para los mismos tres escenarios del punto 7. Evalúe los modelos utilizando las métricas de Accuracy y F1-Score"
   ]
  },
  {
   "cell_type": "code",
   "execution_count": 25,
   "metadata": {},
   "outputs": [
    {
     "name": "stdout",
     "output_type": "stream",
     "text": [
      "Desempeño del ensamble con votación ponderada:\n",
      "Accuracy: 0.5833333333333334\n",
      "F1-Score: 0.584717607973422\n"
     ]
    }
   ],
   "source": [
    "# Celda 8\n",
    "from sklearn.ensemble import VotingClassifier\n",
    "\n",
    "# Definición de los clasificadores individuales\n",
    "tree_depth_clf = DecisionTreeClassifier(max_depth=5, random_state=1)\n",
    "tree_leaf_clf = DecisionTreeClassifier(min_samples_leaf=5, random_state=1)\n",
    "log_reg = LogisticRegression(random_state=1)\n",
    "\n",
    "# Definición del ensamble con votación ponderada\n",
    "voting_clf = VotingClassifier(estimators=[('tree_depth', tree_depth_clf), \n",
    "                                          ('tree_leaf', tree_leaf_clf), \n",
    "                                          ('log_reg', log_reg)], \n",
    "                              voting='soft', \n",
    "                              weights=[1, 1, 1])  # Ponderación igual para cada modelo\n",
    "\n",
    "# Entrenamiento del ensamble\n",
    "voting_clf.fit(X_train, y_train)\n",
    "\n",
    "# Predicciones del ensamble\n",
    "y_pred_ensemble_weighted = voting_clf.predict(X_test)\n",
    "\n",
    "# Métricas del ensamble\n",
    "accuracy_ensemble_weighted = accuracy_score(y_test, y_pred_ensemble_weighted)\n",
    "f1_ensemble_weighted = f1_score(y_test, y_pred_ensemble_weighted)\n",
    "\n",
    "print(\"Desempeño del ensamble con votación ponderada:\")\n",
    "print(\"Accuracy:\", accuracy_ensemble_weighted)\n",
    "print(\"F1-Score:\", f1_ensemble_weighted)\n"
   ]
  },
  {
   "cell_type": "markdown",
   "metadata": {},
   "source": [
    "### Punto 9 - Comparación y análisis de resultados\n",
    "En la celda 9 comente sobre los resultados obtenidos con las metodologías usadas en los puntos 7 y 8, compare los resultados y enuncie posibles ventajas o desventajas de cada una de ellas."
   ]
  },
  {
   "cell_type": "code",
   "execution_count": 26,
   "metadata": {},
   "outputs": [
    {
     "name": "stdout",
     "output_type": "stream",
     "text": [
      "Resultados de la metodología de votación mayoritaria:\n",
      "Accuracy del ensamble: 0.6206666666666667\n",
      "F1-Score del ensamble: 0.6293159609120521\n",
      "\n",
      "Resultados de la metodología de votación ponderada:\n",
      "Accuracy del ensamble ponderado: 0.5833333333333334\n",
      "F1-Score del ensamble ponderado: 0.584717607973422\n"
     ]
    }
   ],
   "source": [
    "# Celda 9\n",
    "print(\"Resultados de la metodología de votación mayoritaria:\")\n",
    "print(\"Accuracy del ensamble:\", accuracy_ensemble)\n",
    "print(\"F1-Score del ensamble:\", f1_ensemble)\n",
    "\n",
    "print(\"\\nResultados de la metodología de votación ponderada:\")\n",
    "print(\"Accuracy del ensamble ponderado:\", accuracy_ensemble_weighted)\n",
    "print(\"F1-Score del ensamble ponderado:\", f1_ensemble_weighted)"
   ]
  },
  {
   "cell_type": "code",
   "execution_count": 27,
   "metadata": {},
   "outputs": [],
   "source": [
    "#Comparación de resultados:\n",
    "#La metodología de votación ponderada obtuvo un desempeño ligeramente superior en términos de accuracy y F1-Score \n",
    "#en comparación con la votación mayoritaria. Se infiere que la votación ponderada asigna pesos a las \n",
    "#predicciones de cada modelo, lo que permite que los modelos con mejor desempeño tengan un mayor impacto en la \n",
    "#predicción final. Al final se observa que la diferencia entre el desempeño de ambas metodologías es muy pequeña.\n",
    "\n",
    "#Posibles ventajas y desventajas:\n",
    "#- La votación mayoritaria es más simple y fácil de implementar, ya que simplemente cuenta las predicciones \n",
    "#de cada modelo y selecciona la etiqueta más frecuente como la predicción final. Sin embargo, puede ignorar \n",
    "#las diferencias en el desempeño de los modelos individuales.\n",
    "#- La votación ponderada permite asignar pesos a las predicciones de cada modelo, lo que puede mejorar el desempeño\n",
    "#del ensamble al dar más influencia a los modelos con mejor rendimiento. Sin embargo, hay que asegurarse de calibrar\n",
    "#los pesos adecuadamente y puede ser más complejo de implementar y ajustar."
   ]
  }
 ],
 "metadata": {
  "kernelspec": {
   "display_name": "Python 3 (ipykernel)",
   "language": "python",
   "name": "python3"
  },
  "language_info": {
   "codemirror_mode": {
    "name": "ipython",
    "version": 3
   },
   "file_extension": ".py",
   "mimetype": "text/x-python",
   "name": "python",
   "nbconvert_exporter": "python",
   "pygments_lexer": "ipython3",
   "version": "3.11.5"
  }
 },
 "nbformat": 4,
 "nbformat_minor": 4
}
